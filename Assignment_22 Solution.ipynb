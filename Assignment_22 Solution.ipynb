{
 "cells": [
  {
   "cell_type": "markdown",
   "id": "89714b7a",
   "metadata": {},
   "source": [
    "# Assignment_22 Solution"
   ]
  },
  {
   "cell_type": "markdown",
   "id": "78f73453",
   "metadata": {},
   "source": [
    "Q1. What is the result of the code, and explain?\n",
    "\n",
    "&gt;&gt;&gt; X = &#39;iNeuron&#39;\n",
    "\n",
    "&gt;&gt;&gt; def func():\n",
    "\n",
    "print(X)"
   ]
  },
  {
   "cell_type": "markdown",
   "id": "320305b1",
   "metadata": {},
   "source": [
    "Ans of Q1"
   ]
  },
  {
   "cell_type": "code",
   "execution_count": 1,
   "id": "569256f9",
   "metadata": {},
   "outputs": [],
   "source": [
    "X = 'iNeuron' # X is a Global Variable \n",
    "def func(): # We define a Function Here\n",
    "    print(X)  "
   ]
  },
  {
   "cell_type": "code",
   "execution_count": 2,
   "id": "c32a43a7",
   "metadata": {},
   "outputs": [
    {
     "name": "stdout",
     "output_type": "stream",
     "text": [
      "iNeuron\n"
     ]
    }
   ],
   "source": [
    "func() # After Calling Function It will print the string present in X"
   ]
  },
  {
   "cell_type": "markdown",
   "id": "7ceac6a0",
   "metadata": {},
   "source": [
    "Q2. What is the result of the code, and explain?\n",
    "\n",
    "&gt;&gt;&gt; X = &#39;iNeuron&#39;\n",
    "\n",
    "&gt;&gt;&gt; def func():\n",
    "\n",
    "X = &#39;NI!&#39;\n",
    "\n",
    "&gt;&gt;&gt; func()\n",
    "\n",
    "&gt;&gt;&gt; print(X)"
   ]
  },
  {
   "cell_type": "markdown",
   "id": "26cc8237",
   "metadata": {},
   "source": [
    "Ans of Q2"
   ]
  },
  {
   "cell_type": "code",
   "execution_count": 3,
   "id": "2dde6e4a",
   "metadata": {},
   "outputs": [],
   "source": [
    "X = 'iNeuron'\n",
    "def func(): \n",
    "    X = 'NI!'  # This X is a Local Variable Here"
   ]
  },
  {
   "cell_type": "code",
   "execution_count": 4,
   "id": "8abe17d6",
   "metadata": {},
   "outputs": [],
   "source": [
    "func()"
   ]
  },
  {
   "cell_type": "code",
   "execution_count": 5,
   "id": "77f6fbbe",
   "metadata": {},
   "outputs": [
    {
     "name": "stdout",
     "output_type": "stream",
     "text": [
      "iNeuron\n"
     ]
    }
   ],
   "source": [
    "print(X) # This print function will only print the global \"X\" \n",
    "        # because it is outside the function"
   ]
  },
  {
   "cell_type": "markdown",
   "id": "d9d2a08a",
   "metadata": {},
   "source": [
    "Q3. What does this code print, and why?\n",
    "\n",
    "&gt;&gt;&gt; X = &#39;iNeuron&#39;\n",
    "\n",
    "&gt;&gt;&gt; def func():\n",
    "\n",
    "X = &#39;NI&#39;\n",
    "\n",
    "print(X)\n",
    "\n",
    "&gt;&gt;&gt; func()\n",
    "\n",
    "&gt;&gt;&gt; print(X)"
   ]
  },
  {
   "cell_type": "markdown",
   "id": "3b227123",
   "metadata": {},
   "source": [
    "Ans of Q3"
   ]
  },
  {
   "cell_type": "code",
   "execution_count": 6,
   "id": "c73ce5d8",
   "metadata": {},
   "outputs": [],
   "source": [
    "X = 'iNeuron'\n",
    "\n",
    "def func():\n",
    "    X = 'NI'\n",
    "    print(X)"
   ]
  },
  {
   "cell_type": "code",
   "execution_count": 7,
   "id": "8e0e9d7b",
   "metadata": {},
   "outputs": [
    {
     "name": "stdout",
     "output_type": "stream",
     "text": [
      "NI\n"
     ]
    }
   ],
   "source": [
    "func() # It print the local variable X inside the function"
   ]
  },
  {
   "cell_type": "code",
   "execution_count": 8,
   "id": "59972648",
   "metadata": {},
   "outputs": [
    {
     "name": "stdout",
     "output_type": "stream",
     "text": [
      "iNeuron\n"
     ]
    }
   ],
   "source": [
    "print(X)# This print function will only print the global \"X\" \n",
    "        # because it is outside the function"
   ]
  },
  {
   "cell_type": "markdown",
   "id": "11536605",
   "metadata": {},
   "source": [
    "Q4. What output does this code produce? Why?\n",
    "\n",
    "&gt;&gt;&gt; X = &#39;iNeuron&#39;\n",
    "\n",
    "&gt;&gt;&gt; def func():\n",
    "\n",
    "global X\n",
    "\n",
    "X = &#39;NI&#39;\n",
    "\n",
    "&gt;&gt;&gt; func()\n",
    "\n",
    "&gt;&gt;&gt; print(X)"
   ]
  },
  {
   "cell_type": "markdown",
   "id": "14ada171",
   "metadata": {},
   "source": [
    "Ans of Q4"
   ]
  },
  {
   "cell_type": "code",
   "execution_count": 9,
   "id": "80544999",
   "metadata": {},
   "outputs": [],
   "source": [
    "X = 'iNeuron'\n",
    "\n",
    "def func():\n",
    "    global X # It take Global Variable inside the Function\n",
    "    X = 'NI' # It Change the Global Variable value to \"NI\""
   ]
  },
  {
   "cell_type": "code",
   "execution_count": 10,
   "id": "0a338b6f",
   "metadata": {},
   "outputs": [],
   "source": [
    "func()"
   ]
  },
  {
   "cell_type": "code",
   "execution_count": 11,
   "id": "a2d667db",
   "metadata": {},
   "outputs": [
    {
     "name": "stdout",
     "output_type": "stream",
     "text": [
      "NI\n"
     ]
    }
   ],
   "source": [
    "print(X) # After Global variable change into \"NI\" It will print \"NI\"\n",
    "         # instead of \"iNeuron\""
   ]
  },
  {
   "cell_type": "markdown",
   "id": "1b0a4ee0",
   "metadata": {},
   "source": [
    "Q5. What about this code—what’s the output, and why?\n",
    "\n",
    "&gt;&gt;&gt; X = &#39;iNeuron&#39;\n",
    "\n",
    "&gt;&gt;&gt; def func():\n",
    "\n",
    "X = &#39;NI&#39;\n",
    "\n",
    "def nested():\n",
    "\n",
    "print(X)\n",
    "\n",
    "nested()\n",
    "\n",
    "&gt;&gt;&gt; func()\n",
    "\n",
    "&gt;&gt;&gt; X"
   ]
  },
  {
   "cell_type": "markdown",
   "id": "c10b4cb2",
   "metadata": {},
   "source": [
    "Ans of Q5"
   ]
  },
  {
   "cell_type": "code",
   "execution_count": 12,
   "id": "b752a8ae",
   "metadata": {},
   "outputs": [],
   "source": [
    "X = 'iNeuron'\n",
    "def func():\n",
    "        X = 'NI'\n",
    "        def nested():\n",
    "            print(X)\n",
    "        nested()"
   ]
  },
  {
   "cell_type": "code",
   "execution_count": 13,
   "id": "26f01515",
   "metadata": {},
   "outputs": [
    {
     "name": "stdout",
     "output_type": "stream",
     "text": [
      "NI\n"
     ]
    }
   ],
   "source": [
    "func() # It will print the value of Local variable \"X\""
   ]
  },
  {
   "cell_type": "code",
   "execution_count": 17,
   "id": "179131ed",
   "metadata": {},
   "outputs": [
    {
     "data": {
      "text/plain": [
       "'iNeuron'"
      ]
     },
     "execution_count": 17,
     "metadata": {},
     "output_type": "execute_result"
    }
   ],
   "source": [
    "X # It will print the value of Gloval variable"
   ]
  },
  {
   "cell_type": "markdown",
   "id": "bbe89cda",
   "metadata": {},
   "source": [
    "Q6. How about this code: what is its output in Python 3, and explain?\n",
    "\n",
    "&gt;&gt;&gt; def func():\n",
    "\n",
    "X = &#39;NI&#39;\n",
    "\n",
    "def nested():\n",
    "\n",
    "nonlocal X\n",
    "\n",
    "X = &#39;Spam&#39;\n",
    "\n",
    "nested()\n",
    "\n",
    "print(X)\n",
    "\n",
    "&gt;&gt;&gt; func()"
   ]
  },
  {
   "cell_type": "code",
   "execution_count": 24,
   "id": "7665be17",
   "metadata": {},
   "outputs": [],
   "source": [
    "def func():\n",
    "    X = 'NI'\n",
    "    def nested():\n",
    "        nonlocal X # It will take the value of Local variable \"X\"\n",
    "        X = 'Spam' # and Change it to \"spam\"\n",
    "    nested()\n",
    "    print(X)"
   ]
  },
  {
   "cell_type": "code",
   "execution_count": 25,
   "id": "88e2ba47",
   "metadata": {},
   "outputs": [
    {
     "name": "stdout",
     "output_type": "stream",
     "text": [
      "Spam\n"
     ]
    }
   ],
   "source": [
    "func()"
   ]
  },
  {
   "cell_type": "code",
   "execution_count": null,
   "id": "0c7fb386",
   "metadata": {},
   "outputs": [],
   "source": []
  },
  {
   "cell_type": "code",
   "execution_count": null,
   "id": "9b6e2f6d",
   "metadata": {},
   "outputs": [],
   "source": []
  }
 ],
 "metadata": {
  "kernelspec": {
   "display_name": "Python 3 (ipykernel)",
   "language": "python",
   "name": "python3"
  },
  "language_info": {
   "codemirror_mode": {
    "name": "ipython",
    "version": 3
   },
   "file_extension": ".py",
   "mimetype": "text/x-python",
   "name": "python",
   "nbconvert_exporter": "python",
   "pygments_lexer": "ipython3",
   "version": "3.9.13"
  }
 },
 "nbformat": 4,
 "nbformat_minor": 5
}
