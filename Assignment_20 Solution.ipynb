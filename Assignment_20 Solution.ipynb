{
 "cells": [
  {
   "cell_type": "markdown",
   "id": "580a2f5b",
   "metadata": {},
   "source": [
    "# Assignment_20 Solution"
   ]
  },
  {
   "cell_type": "markdown",
   "id": "170a9457",
   "metadata": {},
   "source": [
    "Q1. Set the variable test1 to the string &#39;This is a test of the emergency text system,&#39; and save test1 to a\n",
    "file named test.txt.\n",
    "\n",
    "Q2. Read the contents of the file test.txt into the variable test2. Is there a difference between test 1\n",
    "and test 2?\n",
    "\n",
    "Q3. Create a CSV file called books.csv by using these lines:\n",
    "title,author,year\n",
    "The Weirdstone of Brisingamen,Alan Garner,1960\n",
    "Perdido Street Station,China Miéville,2000\n",
    "Thud!,Terry Pratchett,2005\n",
    "The Spellman Files,Lisa Lutz,2007\n",
    "Small Gods,Terry Pratchett,1992\n",
    "\n",
    "Q4. Use the sqlite3 module to create a SQLite database called books.db, and a table called books with\n",
    "these fields: title (text), author (text), and year (integer).\n",
    "\n",
    "Q5. Read books.csv and insert its data into the book table.\n",
    "\n",
    "Q6. Select and print the title column from the book table in alphabetical order.\n",
    "\n",
    "Q7. From the book table, select and print all columns in the order of publication.\n",
    "\n",
    "Q8. Use the sqlalchemy module to connect to the sqlite3 database books.db that you just made in\n",
    "exercise 6.\n",
    "\n",
    "Q9. Install the Redis server and the Python redis library (pip install redis) on your computer. Create a\n",
    "Redis hash called test with the fields count (1) and name (&#39;Fester Bestertester&#39;). Print all the fields for\n",
    "test.\n",
    "\n",
    "Q10. Increment the count field of test and print it."
   ]
  },
  {
   "cell_type": "markdown",
   "id": "24774fe1",
   "metadata": {},
   "source": [
    "Ans of Q1"
   ]
  },
  {
   "cell_type": "code",
   "execution_count": 1,
   "id": "d3593684",
   "metadata": {},
   "outputs": [],
   "source": [
    "test1 = \"This is a test of the emergency text system\"\n",
    "\n",
    "file = open('test.txt','w')\n",
    "\n",
    "file.write(test1)\n",
    "file.close()"
   ]
  },
  {
   "cell_type": "markdown",
   "id": "304b8708",
   "metadata": {},
   "source": [
    "Ans of Q2"
   ]
  },
  {
   "cell_type": "code",
   "execution_count": 2,
   "id": "8f804fdc",
   "metadata": {},
   "outputs": [
    {
     "data": {
      "text/plain": [
       "'This is a test of the emergency text system'"
      ]
     },
     "execution_count": 2,
     "metadata": {},
     "output_type": "execute_result"
    }
   ],
   "source": [
    "test2 = open('test.txt',\"r\")\n",
    "test2.read()\n",
    "#no there isn't any difference"
   ]
  },
  {
   "cell_type": "markdown",
   "id": "9547a6bd",
   "metadata": {},
   "source": [
    "Ans of Q3"
   ]
  },
  {
   "cell_type": "code",
   "execution_count": 3,
   "id": "bc7188d1",
   "metadata": {},
   "outputs": [],
   "source": [
    "import csv\n",
    "\n",
    "data = [\n",
    "    ['title', 'author', 'year'],\n",
    "    ['The Weirdstone of Brisingamen', 'Alan Garner', '1960'],\n",
    "    ['Perdido Street Station', 'China Miéville', '2000'],\n",
    "    ['Thud!', 'Terry Pratchett', '2005'],\n",
    "    ['The Spellman Files', 'Lisa Lutz', '2007'],\n",
    "    ['Small Gods', 'Terry Pratchett', '1992']\n",
    "]\n",
    "\n",
    "\n",
    "with open('books.csv', 'w', newline='') as file:\n",
    "    writer = csv.writer(file)\n",
    "    writer.writerows(data)\n"
   ]
  },
  {
   "cell_type": "markdown",
   "id": "0e0f5e55",
   "metadata": {},
   "source": [
    "Ans of Q4"
   ]
  },
  {
   "cell_type": "code",
   "execution_count": 4,
   "id": "faf33029",
   "metadata": {},
   "outputs": [
    {
     "data": {
      "text/plain": [
       "<sqlite3.Cursor at 0x239276a08f0>"
      ]
     },
     "execution_count": 4,
     "metadata": {},
     "output_type": "execute_result"
    }
   ],
   "source": [
    "\n",
    "import sqlite3\n",
    "\n",
    "# Connect to the database or create it if it doesn't exist\n",
    "connection = sqlite3.connect('books.db')\n",
    "\n",
    "# Create a cursor object to execute SQL commands\n",
    "cursor = connection.cursor()\n",
    "\n",
    "# Create the books table\n",
    "cursor.execute('''\n",
    "    CREATE TABLE IF NOT EXISTS books (\n",
    "        title TEXT,\n",
    "        author TEXT,\n",
    "        year INTEGER\n",
    "    )\n",
    "''')\n"
   ]
  },
  {
   "cell_type": "markdown",
   "id": "68ba1cb2",
   "metadata": {},
   "source": [
    "Ans of Q5"
   ]
  },
  {
   "cell_type": "code",
   "execution_count": 5,
   "id": "e9d86548",
   "metadata": {},
   "outputs": [],
   "source": [
    "with open('books.csv', 'r') as file:\n",
    "    csv_reader = csv.reader(file)\n",
    "    next(csv_reader)  # Skip the header row\n",
    "\n",
    "    for row in csv_reader:\n",
    "        title, author, year = row\n",
    "        cursor.execute('''\n",
    "            INSERT INTO books (title, author, year)\n",
    "            VALUES (?, ?, ?)\n",
    "        ''', (title, author, year))\n",
    "\n",
    "# Commit the changes and close the connection\n",
    "connection.commit()\n",
    "connection.close()"
   ]
  },
  {
   "cell_type": "markdown",
   "id": "0134e295",
   "metadata": {},
   "source": [
    "Ans of Q6"
   ]
  },
  {
   "cell_type": "code",
   "execution_count": 6,
   "id": "a62c1c3c",
   "metadata": {},
   "outputs": [
    {
     "name": "stdout",
     "output_type": "stream",
     "text": [
      "Perdido Street Station\n",
      "Perdido Street Station\n",
      "Perdido Street Station\n",
      "Perdido Street Station\n",
      "Perdido Street Station\n",
      "Small Gods\n",
      "Small Gods\n",
      "Small Gods\n",
      "Small Gods\n",
      "Small Gods\n",
      "The Spellman Files\n",
      "The Spellman Files\n",
      "The Spellman Files\n",
      "The Spellman Files\n",
      "The Spellman Files\n",
      "The Weirdstone of Brisingamen\n",
      "The Weirdstone of Brisingamen\n",
      "The Weirdstone of Brisingamen\n",
      "The Weirdstone of Brisingamen\n",
      "The Weirdstone of Brisingamen\n",
      "Thud!\n",
      "Thud!\n",
      "Thud!\n",
      "Thud!\n",
      "Thud!\n"
     ]
    }
   ],
   "source": [
    "import sqlite3\n",
    "\n",
    "# Connect to the database\n",
    "connection = sqlite3.connect('books.db')\n",
    "cursor = connection.cursor()\n",
    "\n",
    "# Select the title column from the books table in alphabetical order\n",
    "cursor.execute('SELECT title FROM books ORDER BY title ASC')\n",
    "\n",
    "# Fetch all the rows returned by the query\n",
    "rows = cursor.fetchall()\n",
    "\n",
    "# Print the titles\n",
    "for row in rows:\n",
    "    print(row[0])\n",
    "\n",
    "# Close the connection\n",
    "connection.close()\n"
   ]
  },
  {
   "cell_type": "markdown",
   "id": "ec9f880a",
   "metadata": {},
   "source": [
    "Ans of Q7"
   ]
  },
  {
   "cell_type": "code",
   "execution_count": 7,
   "id": "608b00da",
   "metadata": {},
   "outputs": [
    {
     "name": "stdout",
     "output_type": "stream",
     "text": [
      "('The Weirdstone of Brisingamen', 'Alan Garner', 1960)\n",
      "('The Weirdstone of Brisingamen', 'Alan Garner', 1960)\n",
      "('The Weirdstone of Brisingamen', 'Alan Garner', 1960)\n",
      "('The Weirdstone of Brisingamen', 'Alan Garner', 1960)\n",
      "('The Weirdstone of Brisingamen', 'Alan Garner', 1960)\n",
      "('Small Gods', 'Terry Pratchett', 1992)\n",
      "('Small Gods', 'Terry Pratchett', 1992)\n",
      "('Small Gods', 'Terry Pratchett', 1992)\n",
      "('Small Gods', 'Terry Pratchett', 1992)\n",
      "('Small Gods', 'Terry Pratchett', 1992)\n",
      "('Perdido Street Station', 'China Miéville', 2000)\n",
      "('Perdido Street Station', 'China Miéville', 2000)\n",
      "('Perdido Street Station', 'China Miéville', 2000)\n",
      "('Perdido Street Station', 'China Miéville', 2000)\n",
      "('Perdido Street Station', 'China Miéville', 2000)\n",
      "('Thud!', 'Terry Pratchett', 2005)\n",
      "('Thud!', 'Terry Pratchett', 2005)\n",
      "('Thud!', 'Terry Pratchett', 2005)\n",
      "('Thud!', 'Terry Pratchett', 2005)\n",
      "('Thud!', 'Terry Pratchett', 2005)\n",
      "('The Spellman Files', 'Lisa Lutz', 2007)\n",
      "('The Spellman Files', 'Lisa Lutz', 2007)\n",
      "('The Spellman Files', 'Lisa Lutz', 2007)\n",
      "('The Spellman Files', 'Lisa Lutz', 2007)\n",
      "('The Spellman Files', 'Lisa Lutz', 2007)\n"
     ]
    }
   ],
   "source": [
    "import sqlite3\n",
    "\n",
    "# Connect to the database\n",
    "connection = sqlite3.connect('books.db')\n",
    "cursor = connection.cursor()\n",
    "\n",
    "# Select all columns from the books table in the order of publication\n",
    "cursor.execute('SELECT * FROM books ORDER BY year ASC')\n",
    "\n",
    "# Fetch all the rows returned by the query\n",
    "rows = cursor.fetchall()\n",
    "\n",
    "# Print the columns\n",
    "for row in rows:\n",
    "    print(row)\n",
    "\n",
    "# Close the connection\n",
    "connection.close()\n",
    "\n"
   ]
  },
  {
   "cell_type": "markdown",
   "id": "6fdb66a6",
   "metadata": {},
   "source": [
    "Ans of Q8"
   ]
  },
  {
   "cell_type": "code",
   "execution_count": 8,
   "id": "f04563e9",
   "metadata": {},
   "outputs": [],
   "source": [
    "from sqlalchemy import create_engine\n",
    "\n",
    "# Connect to the SQLite database\n",
    "engine = create_engine('sqlite:///books.db')\n",
    "\n",
    "# Test the connection\n",
    "connection = engine.connect()\n",
    "\n",
    "# Perform database operations...\n",
    "# For example, execute queries or retrieve data\n",
    "\n",
    "# Close the connection\n",
    "connection.close()\n"
   ]
  },
  {
   "cell_type": "markdown",
   "id": "92cea19c",
   "metadata": {},
   "source": [
    "Ans of Q9"
   ]
  },
  {
   "cell_type": "code",
   "execution_count": 9,
   "id": "b30f6977",
   "metadata": {},
   "outputs": [
    {
     "name": "stdout",
     "output_type": "stream",
     "text": [
      "Requirement already satisfied: redis in c:\\users\\amank\\anaconda3\\lib\\site-packages (4.5.5)\n",
      "Requirement already satisfied: async-timeout>=4.0.2 in c:\\users\\amank\\anaconda3\\lib\\site-packages (from redis) (4.0.2)\n",
      "Note: you may need to restart the kernel to use updated packages.\n"
     ]
    }
   ],
   "source": [
    "pip install redis"
   ]
  },
  {
   "cell_type": "code",
   "execution_count": null,
   "id": "e7febd6b",
   "metadata": {},
   "outputs": [],
   "source": [
    "import redis\n",
    "\n",
    "# Connect to Redis\n",
    "r = redis.Redis()\n",
    "\n",
    "# Create the Redis hash\n",
    "r.hset(\"test\", \"count\", 1)\n",
    "r.hset(\"test\", \"name\", \"Fester Bestertester\")\n",
    "\n",
    "# Get all the fields from the hash and print them\n",
    "fields = r.hgetall(\"test\")\n",
    "for field, value in fields.items():\n",
    "    print(f\"{field.decode()}: {value.decode()}\")\n"
   ]
  },
  {
   "cell_type": "markdown",
   "id": "cd6dd6d4",
   "metadata": {},
   "source": [
    "Ans of Q10"
   ]
  },
  {
   "cell_type": "code",
   "execution_count": null,
   "id": "86832108",
   "metadata": {},
   "outputs": [],
   "source": [
    "import redis\n",
    "\n",
    "# Connect to Redis\n",
    "r = redis.Redis()\n",
    "\n",
    "# Increment the \"count\" field of the \"test\" hash\n",
    "r.hincrby(\"test\", \"count\", 1)\n",
    "\n",
    "# Get the updated value of the \"count\" field and print it\n",
    "count = r.hget(\"test\", \"count\")\n",
    "print(\"Updated count:\", count.decode())\n"
   ]
  },
  {
   "cell_type": "code",
   "execution_count": null,
   "id": "37ccb9bc",
   "metadata": {},
   "outputs": [],
   "source": []
  }
 ],
 "metadata": {
  "kernelspec": {
   "display_name": "Python 3 (ipykernel)",
   "language": "python",
   "name": "python3"
  },
  "language_info": {
   "codemirror_mode": {
    "name": "ipython",
    "version": 3
   },
   "file_extension": ".py",
   "mimetype": "text/x-python",
   "name": "python",
   "nbconvert_exporter": "python",
   "pygments_lexer": "ipython3",
   "version": "3.9.13"
  }
 },
 "nbformat": 4,
 "nbformat_minor": 5
}
