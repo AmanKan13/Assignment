{
 "cells": [
  {
   "cell_type": "markdown",
   "id": "cbe8f5d4",
   "metadata": {},
   "source": [
    "# Assignment 4"
   ]
  },
  {
   "cell_type": "markdown",
   "id": "34f33ec1",
   "metadata": {},
   "source": [
    "Q1. What exactly is []?"
   ]
  },
  {
   "cell_type": "markdown",
   "id": "d81520b4",
   "metadata": {},
   "source": [
    "Ans of Q1 = [] is used to denote an empty list."
   ]
  },
  {
   "cell_type": "markdown",
   "id": "d7ac97f6",
   "metadata": {},
   "source": [
    "Q2. In a list of values stored in a variable called spam, how would you assign the value &#39;hello&#39; as the\n",
    "third value? (Assume [2, 4, 6, 8, 10] are in spam.)"
   ]
  },
  {
   "cell_type": "markdown",
   "id": "ac425542",
   "metadata": {},
   "source": [
    "Ans of Q2"
   ]
  },
  {
   "cell_type": "code",
   "execution_count": 1,
   "id": "ea53af09",
   "metadata": {},
   "outputs": [
    {
     "data": {
      "text/plain": [
       "[2, 4, 'hello', 8, 10]"
      ]
     },
     "execution_count": 1,
     "metadata": {},
     "output_type": "execute_result"
    }
   ],
   "source": [
    "spam = [2, 4, 6, 8, 10]\n",
    "spam[2] = \"hello\"\n",
    "spam"
   ]
  },
  {
   "cell_type": "markdown",
   "id": "6123d594",
   "metadata": {},
   "source": [
    "Q3 What is the value of spam[int(int('3'* 2) / 11)]?"
   ]
  },
  {
   "cell_type": "markdown",
   "id": "5c0d3bd8",
   "metadata": {},
   "source": [
    "Ans of Q3"
   ]
  },
  {
   "cell_type": "code",
   "execution_count": 2,
   "id": "70a09da3",
   "metadata": {},
   "outputs": [
    {
     "data": {
      "text/plain": [
       "8"
      ]
     },
     "execution_count": 2,
     "metadata": {},
     "output_type": "execute_result"
    }
   ],
   "source": [
    "\"int('3'* 2) this will give us 33 which when divided by 11 will give us a value of 3 and finally the index value of 3 in spam is 8\"\n",
    "spam[int(int('3'* 2) / 11)]"
   ]
  },
  {
   "cell_type": "markdown",
   "id": "f82089e4",
   "metadata": {},
   "source": [
    "Q4 What is the value of spam[-1]?"
   ]
  },
  {
   "cell_type": "markdown",
   "id": "75c0bbdc",
   "metadata": {},
   "source": [
    "Ans of Q4"
   ]
  },
  {
   "cell_type": "code",
   "execution_count": 3,
   "id": "8a4e3a75",
   "metadata": {},
   "outputs": [
    {
     "data": {
      "text/plain": [
       "10"
      ]
     },
     "execution_count": 3,
     "metadata": {},
     "output_type": "execute_result"
    }
   ],
   "source": [
    "spam[-1]"
   ]
  },
  {
   "cell_type": "markdown",
   "id": "e297c83e",
   "metadata": {},
   "source": [
    "Q5 What is the value of spam[:2]?"
   ]
  },
  {
   "cell_type": "markdown",
   "id": "c5fd9c39",
   "metadata": {},
   "source": [
    "Ans of Q5"
   ]
  },
  {
   "cell_type": "code",
   "execution_count": 4,
   "id": "37f367ec",
   "metadata": {},
   "outputs": [
    {
     "data": {
      "text/plain": [
       "8"
      ]
     },
     "execution_count": 4,
     "metadata": {},
     "output_type": "execute_result"
    }
   ],
   "source": [
    "spam[-2]"
   ]
  },
  {
   "cell_type": "markdown",
   "id": "6489f533",
   "metadata": {},
   "source": [
    "Let's pretend bacon has the list [3.14,'cat', 11, 'cat' , True] for the next three questions."
   ]
  },
  {
   "cell_type": "markdown",
   "id": "67029dee",
   "metadata": {},
   "source": [
    "Q6 What is the value of bacon.index('cat')?"
   ]
  },
  {
   "cell_type": "markdown",
   "id": "be811db0",
   "metadata": {},
   "source": [
    "Ans of Q6"
   ]
  },
  {
   "cell_type": "code",
   "execution_count": 5,
   "id": "e70d8166",
   "metadata": {},
   "outputs": [
    {
     "data": {
      "text/plain": [
       "1"
      ]
     },
     "execution_count": 5,
     "metadata": {},
     "output_type": "execute_result"
    }
   ],
   "source": [
    "bacon = [3.14,'cat', 11, 'cat' , True]\n",
    "bacon.index('cat')"
   ]
  },
  {
   "cell_type": "markdown",
   "id": "42e8cd38",
   "metadata": {},
   "source": [
    "Q7 How does bacon.append(99) change the look of the list value in bacon?"
   ]
  },
  {
   "cell_type": "markdown",
   "id": "12fb7c6b",
   "metadata": {},
   "source": [
    "Ans of Q7"
   ]
  },
  {
   "cell_type": "code",
   "execution_count": 6,
   "id": "a3c581d9",
   "metadata": {},
   "outputs": [
    {
     "data": {
      "text/plain": [
       "[3.14, 'cat', 11, 'cat', True, 99]"
      ]
     },
     "execution_count": 6,
     "metadata": {},
     "output_type": "execute_result"
    }
   ],
   "source": [
    "\"it will add the value of 99 in the list\"\n",
    "bacon.append(99)\n",
    "bacon"
   ]
  },
  {
   "cell_type": "markdown",
   "id": "bdd6b0c6",
   "metadata": {},
   "source": [
    "Q8 How does bacon.remove('cat') change the look of the list in bacon?"
   ]
  },
  {
   "cell_type": "markdown",
   "id": "e64882c4",
   "metadata": {},
   "source": [
    "Ans of Q8"
   ]
  },
  {
   "cell_type": "code",
   "execution_count": 8,
   "id": "54846c9a",
   "metadata": {},
   "outputs": [
    {
     "data": {
      "text/plain": [
       "[3.14, 11, 'cat', True, 99]"
      ]
     },
     "execution_count": 8,
     "metadata": {},
     "output_type": "execute_result"
    }
   ],
   "source": [
    "\"It will remove the first 'cat' element from the list bacon\"\n",
    "bacon.remove('cat')\n",
    "bacon"
   ]
  },
  {
   "cell_type": "code",
   "execution_count": 9,
   "id": "2cc51a61",
   "metadata": {},
   "outputs": [
    {
     "data": {
      "text/plain": [
       "[3.14, 11, 'cat', True, 99]"
      ]
     },
     "execution_count": 9,
     "metadata": {},
     "output_type": "execute_result"
    }
   ],
   "source": [
    "bacon"
   ]
  },
  {
   "cell_type": "markdown",
   "id": "41cafad9",
   "metadata": {},
   "source": [
    "Q9 What are the list concatenation and list replication operators?"
   ]
  },
  {
   "cell_type": "markdown",
   "id": "0dc2a0ea",
   "metadata": {},
   "source": [
    "Ans of Q9"
   ]
  },
  {
   "cell_type": "code",
   "execution_count": 11,
   "id": "bc11a440",
   "metadata": {},
   "outputs": [
    {
     "name": "stdout",
     "output_type": "stream",
     "text": [
      "Concatenation :  [15, 24, 31, 48, 55, 46]\n",
      "Replication : [15, 24, 31, 15, 24, 31, 15, 24, 31]\n"
     ]
    }
   ],
   "source": [
    "#Concatenation\n",
    "\"the list concatenation operator is the plus sign (+), which is used to combine two or more lists into a single list. For example\"\n",
    "L1 = [15,24,31]\n",
    "L2 = [48,55,46]\n",
    "Concatenation_list = L1+L2\n",
    "\n",
    "#Replication\n",
    "Replication_list = L1*3\n",
    "\n",
    "print(\"Concatenation : \",Concatenation_list),\n",
    "print(\"Replication :\",Replication_list)"
   ]
  },
  {
   "cell_type": "markdown",
   "id": "271ee00d",
   "metadata": {},
   "source": [
    "Q10 What is difference between the list methods append() and insert()?"
   ]
  },
  {
   "cell_type": "markdown",
   "id": "8a387264",
   "metadata": {},
   "source": [
    "Ans of Q10"
   ]
  },
  {
   "cell_type": "markdown",
   "id": "e388b34d",
   "metadata": {},
   "source": [
    "Difference between the list methods append() and insert()\n",
    "\n",
    "append() = The append() method adds an element to the end of a list. It takes a single argument, which is the element to be added.\n",
    "\n",
    "insert() = The insert() method, adds an element to a specified index in a list. It takes two arguments: the first argument is the index where the element should be added, and the second argument is the element itself"
   ]
  },
  {
   "cell_type": "markdown",
   "id": "fc3fb28b",
   "metadata": {},
   "source": [
    "Q11 What are the two methods for removing items from a list?"
   ]
  },
  {
   "cell_type": "markdown",
   "id": "9ea6b3e6",
   "metadata": {},
   "source": [
    "Ans of Q11"
   ]
  },
  {
   "cell_type": "markdown",
   "id": "039d8020",
   "metadata": {},
   "source": [
    "The two methods for removing items from a list are :-\n",
    "\n",
    "1 remove()\n",
    "\n",
    "2 pop()"
   ]
  },
  {
   "cell_type": "markdown",
   "id": "d97288be",
   "metadata": {},
   "source": [
    "Q12 Describe how list values and string values are identical."
   ]
  },
  {
   "cell_type": "markdown",
   "id": "74637389",
   "metadata": {},
   "source": [
    "Ans Q12"
   ]
  },
  {
   "cell_type": "markdown",
   "id": "66b7267a",
   "metadata": {},
   "source": [
    "Below are some similarity between List and Strings\n",
    "1) Both lists and strings are ordered sequences of values. This means that the position of each element in the sequence is determined by its index, which starts at 0.\n",
    "\n",
    "2) Both lists and strings support indexing and slicing operations. \n",
    "\n",
    "3) Both lists and strings are iterable, which means that you can loop over their elements using a for loop or other iteration constructs.\n",
    "\n",
    "4) Both lists and strings can contain elements of different data types.\n",
    "\n",
    "5) Both lists and strings have a length, which can be obtained using the len() function. "
   ]
  },
  {
   "cell_type": "markdown",
   "id": "69564cb6",
   "metadata": {},
   "source": [
    "Q13 What's the difference between tuples and lists?"
   ]
  },
  {
   "cell_type": "markdown",
   "id": "08cbcfc6",
   "metadata": {},
   "source": [
    "Ans Q13"
   ]
  },
  {
   "cell_type": "markdown",
   "id": "ea6dd588",
   "metadata": {},
   "source": [
    "Lists are mutable, which means that you can add, remove or modify elements after they are created. Tuples, on the other hand, are immutable, which means that once a tuple is created, you cannot add, remove, or modify its elements. If you need to change a tuple, you must create a new one.\n",
    "Also,\n",
    "Lists are enclosed in square brackets [], while tuples are enclosed in parentheses ( )."
   ]
  },
  {
   "cell_type": "markdown",
   "id": "6c2149ad",
   "metadata": {},
   "source": [
    "Q 14 How do you type a tuple value that only contains the integer 42?"
   ]
  },
  {
   "cell_type": "markdown",
   "id": "09a70723",
   "metadata": {},
   "source": [
    "Ans Q14"
   ]
  },
  {
   "cell_type": "code",
   "execution_count": 17,
   "id": "498b9266",
   "metadata": {},
   "outputs": [
    {
     "data": {
      "text/plain": [
       "tuple"
      ]
     },
     "execution_count": 17,
     "metadata": {},
     "output_type": "execute_result"
    }
   ],
   "source": [
    "#To create a tuple value that only contains the integer 42, you can use the following syntax:\n",
    "value  = (42,)\n",
    "#Without the comma, Python will interpret this as an integer value in parentheses, rather than a tuple.\n",
    "type(value)"
   ]
  },
  {
   "cell_type": "markdown",
   "id": "adb3272b",
   "metadata": {},
   "source": [
    "Q15 How do you get a list value&#39;s tuple form? How do you get a tuple value&#39;s list form?"
   ]
  },
  {
   "cell_type": "markdown",
   "id": "ee3b8ae7",
   "metadata": {},
   "source": [
    "Ans of Q15"
   ]
  },
  {
   "cell_type": "code",
   "execution_count": 32,
   "id": "5f3ac41b",
   "metadata": {},
   "outputs": [
    {
     "name": "stdout",
     "output_type": "stream",
     "text": [
      "(4, 6, 8) [451, 52, 87] [451, 52, 87] (451, 52, 87)\n"
     ]
    }
   ],
   "source": [
    "#To get a list values from a tuple we can use below method:\n",
    "my_tuple1 = (4,6,8)\n",
    "My_list1 = list(my_tuple)\n",
    "#and to get a tuple values from a list we can use below method:\n",
    "my_list2 = [451, 52, 87]\n",
    "my_tuple2 = tuple(my_list)\n",
    "\n",
    "print(my_tuple1,My_list1,my_list2,my_tuple2)\n"
   ]
  },
  {
   "cell_type": "markdown",
   "id": "8e0fc2f0",
   "metadata": {},
   "source": [
    "Q16 Variables that \"contain\" list values are not necessarily lists themselves. Instead, what do they\n",
    "contain?"
   ]
  },
  {
   "cell_type": "markdown",
   "id": "e3b35c24",
   "metadata": {},
   "source": [
    "Ans of Q16"
   ]
  },
  {
   "cell_type": "markdown",
   "id": "8d1d6fc8",
   "metadata": {},
   "source": [
    "Variables that \"contain\" list values are actually contain references to list objects.\n",
    "The variable holds a reference to the list object that contains the values.\n",
    "This means that you can have multiple variables that refer to the same list object, and any changes made to the list through one variable will be reflected in all other variables that reference the same list object."
   ]
  },
  {
   "cell_type": "markdown",
   "id": "91d7bd18",
   "metadata": {},
   "source": [
    "Q17. How do you distinguish between copy.copy() and copy.deepcopy()?"
   ]
  },
  {
   "cell_type": "markdown",
   "id": "c0a4614d",
   "metadata": {},
   "source": [
    "Ans of Q17"
   ]
  },
  {
   "cell_type": "markdown",
   "id": "d2b83fb8",
   "metadata": {},
   "source": [
    "**copy.copy()** creates a shallow copy of an object, which means that the new object points to the same memory location as the original object, and any changes made to the original object will also affect the copy, and vice versa. \n",
    "\n",
    "**copy.deepcopy()** creates a deep copy of an object, which means that it recursively copies all nested objects, rather than just copying the references to them. This means that any changes made to the original object or its nested objects will not affect the copy."
   ]
  },
  {
   "cell_type": "code",
   "execution_count": null,
   "id": "2371f141",
   "metadata": {},
   "outputs": [],
   "source": []
  }
 ],
 "metadata": {
  "kernelspec": {
   "display_name": "Python 3 (ipykernel)",
   "language": "python",
   "name": "python3"
  },
  "language_info": {
   "codemirror_mode": {
    "name": "ipython",
    "version": 3
   },
   "file_extension": ".py",
   "mimetype": "text/x-python",
   "name": "python",
   "nbconvert_exporter": "python",
   "pygments_lexer": "ipython3",
   "version": "3.9.13"
  }
 },
 "nbformat": 4,
 "nbformat_minor": 5
}
