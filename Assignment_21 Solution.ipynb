{
 "cells": [
  {
   "cell_type": "markdown",
   "id": "580a2f5b",
   "metadata": {},
   "source": [
    "# Assignment_21 Solution"
   ]
  },
  {
   "cell_type": "markdown",
   "id": "b8f1fbc1",
   "metadata": {},
   "source": [
    "Q1. Add the current date to the text file today.txt as a string.\n",
    "\n",
    "Q2. Read the text file today.txt into the string today_string\n",
    "\n",
    "Q3. Parse the date from today_string.\n",
    "\n",
    "Q4. List the files in your current directory\n",
    "\n",
    "Q5. Create a list of all of the files in your parent directory (minimum five files should be available).\n",
    "\n",
    "Q6. Use multiprocessing to create three separate processes. Make each one wait a random number of\n",
    "seconds between one and five, print the current time, and then exit.\n",
    "\n",
    "Q7. Create a date object of your day of birth.\n",
    "\n",
    "Q8. What day of the week was your day of birth?\n",
    "\n",
    "Q9. When will you be (or when were you) 10,000 days old?"
   ]
  },
  {
   "cell_type": "markdown",
   "id": "cd808282",
   "metadata": {},
   "source": [
    "Ans of Q1"
   ]
  },
  {
   "cell_type": "code",
   "execution_count": 1,
   "id": "47abd60d",
   "metadata": {},
   "outputs": [],
   "source": [
    "from datetime import date\n",
    "\n",
    "# Get the current date\n",
    "current_date = date.today().strftime(\"%d-%m-%Y\")\n",
    "\n",
    "# Open the file in append mode and write the current date\n",
    "with open(\"today.txt\", \"w\") as file:\n",
    "    file.write(current_date + \"\\n\")\n"
   ]
  },
  {
   "cell_type": "markdown",
   "id": "29cd8767",
   "metadata": {},
   "source": [
    "Ans of Q2"
   ]
  },
  {
   "cell_type": "code",
   "execution_count": 2,
   "id": "9b469f60",
   "metadata": {},
   "outputs": [
    {
     "name": "stdout",
     "output_type": "stream",
     "text": [
      "27-05-2023\n",
      "\n"
     ]
    }
   ],
   "source": [
    "# Open the file in read mode and read its contents into a string\n",
    "with open(\"today.txt\", \"r\") as file:\n",
    "    today_string = file.read()\n",
    "\n",
    "# Print the contents of the string\n",
    "print(today_string)\n"
   ]
  },
  {
   "cell_type": "markdown",
   "id": "aa925f51",
   "metadata": {},
   "source": [
    "Ans of Q3"
   ]
  },
  {
   "cell_type": "code",
   "execution_count": 3,
   "id": "5f51c613",
   "metadata": {},
   "outputs": [
    {
     "name": "stdout",
     "output_type": "stream",
     "text": [
      "2023-05-27 00:00:00\n"
     ]
    }
   ],
   "source": [
    "from datetime import datetime\n",
    "\n",
    "\n",
    "parsed_date = datetime.strptime(today_string.strip(), \"%d-%m-%Y\")\n",
    "\n",
    "\n",
    "print(parsed_date)\n"
   ]
  },
  {
   "cell_type": "markdown",
   "id": "ab550f7c",
   "metadata": {},
   "source": [
    "Ans of Q4"
   ]
  },
  {
   "cell_type": "code",
   "execution_count": 4,
   "id": "daa8a421",
   "metadata": {},
   "outputs": [
    {
     "name": "stdout",
     "output_type": "stream",
     "text": [ "today.txt\n",
      "Tracing\n",
      "Untitled.ipynb\n",
      "Untitled1.ipynb\n",
      "Videos\n",
      "working with pandas.ipynb\n",
      "zoo.ipynb\n",
      "zoo.py\n",
      "__pycache__\n"
     ]
    }
   ],
   "source": [
    "import os\n",
    "\n",
    "# Get the current directory\n",
    "current_directory = os.getcwd()\n",
    "\n",
    "# List the files in the current directory\n",
    "files = os.listdir(current_directory)\n",
    "\n",
    "# Print the file names\n",
    "for file in files:\n",
    "    print(file)\n"
   ]
  },
  {
   "cell_type": "markdown",
   "id": "e61629f9",
   "metadata": {},
   "source": [
    "Ans of Q5"
   ]
  },
  {
   "cell_type": "code",
   "execution_count": 5,
   "id": "18e983f4",
   "metadata": {},
   "outputs": [
    {
     "name": "stdout",
     "output_type": "stream",
     "text": [
      "All Users\n",
      "amank\n",
      "Default\n",
      "Default User\n",
      "desktop.ini\n",
      "Public\n"
     ]
    }
   ],
   "source": [
    "import os\n",
    "\n",
    "# Get the current working directory\n",
    "current_directory = os.getcwd()\n",
    "\n",
    "# Get the parent directory\n",
    "parent_directory = os.path.dirname(current_directory)\n",
    "\n",
    "# List the files in the parent directory\n",
    "files = os.listdir(parent_directory)\n",
    "\n",
    "# Print the file names\n",
    "for file in files:\n",
    "    print(file)\n"
   ]
  },
  {
   "cell_type": "markdown",
   "id": "aa822257",
   "metadata": {},
   "source": [
    "Ans of Q6"
   ]
  },
  {
   "cell_type": "code",
   "execution_count": 6,
   "id": "dd4329b7",
   "metadata": {},
   "outputs": [
    {
     "name": "stdout",
     "output_type": "stream",
     "text": [
      "Process ID: 14832 - Current Time: 2023-05-27 15:19:19\n"
     ]
    }
   ],
   "source": [
    "import multiprocessing\n",
    "import time\n",
    "import random\n",
    "from datetime import datetime\n",
    "\n",
    "def print_current_time():\n",
    "    wait_time = random.randint(1, 5)  # Generate a random wait time between 1 and 5 seconds\n",
    "    time.sleep(wait_time)  # Sleep for the wait time\n",
    "    current_time = datetime.now().strftime(\"%Y-%m-%d %H:%M:%S\")  # Get the current time\n",
    "    print(f\"Process ID: {multiprocessing.current_process().pid} - Current Time: {current_time}\")\n",
    "\n",
    "print_current_time()"
   ]
  },
  {
   "cell_type": "markdown",
   "id": "23808c19",
   "metadata": {},
   "source": [
    "Ans of Q7"
   ]
  },
  {
   "cell_type": "code",
   "execution_count": 9,
   "id": "53c96af6",
   "metadata": {},
   "outputs": [
    {
     "name": "stdout",
     "output_type": "stream",
     "text": [
      "Enter the Year 2000\n",
      "Enter the Month 2\n",
      "Enter the Day 15\n",
      "2000-02-15\n"
     ]
    }
   ],
   "source": [
    "from datetime import date\n",
    "\n",
    "# Specify the day of birth\n",
    "year = int(input(\"Enter the Year \"))\n",
    "\n",
    "month = int(input(\"Enter the Month \"))\n",
    "\n",
    "day = int(input(\"Enter the Day \"))\n",
    "\n",
    "# Create the date object\n",
    "birth_date = date(year, month, day)\n",
    "\n",
    "# Print the birth date\n",
    "print(birth_date)\n"
   ]
  },
  {
   "cell_type": "markdown",
   "id": "abd5e448",
   "metadata": {},
   "source": [
    "Ans of Q8"
   ]
  },
  {
   "cell_type": "code",
   "execution_count": 10,
   "id": "1d28c206",
   "metadata": {},
   "outputs": [
    {
     "name": "stdout",
     "output_type": "stream",
     "text": [
      "Day of the week: Tuesday\n"
     ]
    }
   ],
   "source": [
    "day_of_week = birth_date.weekday()\n",
    "\n",
    "# Define a list of weekday names\n",
    "weekday_names = ['Monday', 'Tuesday', 'Wednesday', 'Thursday', 'Friday', 'Saturday', 'Sunday']\n",
    "\n",
    "# Print the day of the week\n",
    "print(\"Day of the week:\", weekday_names[day_of_week])"
   ]
  },
  {
   "cell_type": "markdown",
   "id": "c867018f",
   "metadata": {},
   "source": [
    "Ans of Q9"
   ]
  },
  {
   "cell_type": "code",
   "execution_count": 13,
   "id": "4ad77853",
   "metadata": {},
   "outputs": [
    {
     "ename": "NameError",
     "evalue": "name 'timedelta' is not defined",
     "output_type": "error",
     "traceback": [
      "\u001b[1;31m---------------------------------------------------------------------------\u001b[0m",
      "\u001b[1;31mNameError\u001b[0m                                 Traceback (most recent call last)",
      "\u001b[1;32m~\\AppData\\Local\\Temp\\ipykernel_14832\\2479042072.py\u001b[0m in \u001b[0;36m<module>\u001b[1;34m\u001b[0m\n\u001b[1;32m----> 1\u001b[1;33m \u001b[0mtarget_date\u001b[0m \u001b[1;33m=\u001b[0m \u001b[0mbirth_date\u001b[0m \u001b[1;33m+\u001b[0m \u001b[0mtimedelta\u001b[0m\u001b[1;33m(\u001b[0m\u001b[0mdays\u001b[0m\u001b[1;33m=\u001b[0m\u001b[1;36m10000\u001b[0m\u001b[1;33m)\u001b[0m\u001b[1;33m\u001b[0m\u001b[1;33m\u001b[0m\u001b[0m\n\u001b[0m\u001b[0;32m      2\u001b[0m \u001b[1;33m\u001b[0m\u001b[0m\n\u001b[0;32m      3\u001b[0m \u001b[1;31m# Print the target date\u001b[0m\u001b[1;33m\u001b[0m\u001b[1;33m\u001b[0m\u001b[0m\n\u001b[0;32m      4\u001b[0m \u001b[0mprint\u001b[0m\u001b[1;33m(\u001b[0m\u001b[0mtarget_date\u001b[0m\u001b[1;33m)\u001b[0m\u001b[1;33m\u001b[0m\u001b[1;33m\u001b[0m\u001b[0m\n",
      "\u001b[1;31mNameError\u001b[0m: name 'timedelta' is not defined"
     ]
    }
   ],
   "source": [
    "target_date = birth_date + timedelta(days=10000)\n",
    "\n",
    "# Print the target date\n",
    "print(target_date)"
   ]
  },
  {
   "cell_type": "code",
   "execution_count": null,
   "id": "a893261d",
   "metadata": {},
   "outputs": [],
   "source": []
  }
 ],
 "metadata": {
  "kernelspec": {
   "display_name": "Python 3 (ipykernel)",
   "language": "python",
   "name": "python3"
  },
  "language_info": {
   "codemirror_mode": {
    "name": "ipython",
    "version": 3
   },
   "file_extension": ".py",
   "mimetype": "text/x-python",
   "name": "python",
   "nbconvert_exporter": "python",
   "pygments_lexer": "ipython3",
   "version": "3.9.13"
  }
 },
 "nbformat": 4,
 "nbformat_minor": 5
}
