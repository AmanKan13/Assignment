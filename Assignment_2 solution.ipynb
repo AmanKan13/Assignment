{
 "cells": [
  {
   "cell_type": "markdown",
   "id": "74da6537",
   "metadata": {},
   "source": [
    "Q1.What are the two values of the Boolean data type? How do you write them?"
   ]
  },
  {
   "cell_type": "code",
   "execution_count": 12,
   "id": "04be6775",
   "metadata": {},
   "outputs": [
    {
     "name": "stdout",
     "output_type": "stream",
     "text": [
      "True\n",
      "False\n",
      "True\n",
      "False\n"
     ]
    }
   ],
   "source": [
    "#Ans Q1\n",
    "\"\"\"\n",
    "The two values of boolean type are :\n",
    "1) True\n",
    "2) False\n",
    "\"\"\"\n",
    "\"we write them as\"\n",
    "print(True)\n",
    "print(False)\n",
    "\n",
    "\"\"\"\n",
    "Generally, it is used to represent the truth values of the expressions. \n",
    "example:\n",
    "\"\"\"\n",
    "print(4==4)\n",
    "print(4>4)\n",
    "    \n",
    "    "
   ]
  },
  {
   "cell_type": "markdown",
   "id": "a3ccc9c6",
   "metadata": {},
   "source": [
    "Q2. What are the three different types of Boolean operators?\n"
   ]
  },
  {
   "cell_type": "code",
   "execution_count": 15,
   "id": "865c861a",
   "metadata": {},
   "outputs": [
    {
     "data": {
      "text/plain": [
       "'There are three basic Boolean operators : AND, OR and NOT.'"
      ]
     },
     "execution_count": 15,
     "metadata": {},
     "output_type": "execute_result"
    }
   ],
   "source": [
    "#Ans of Q2\n",
    "\"There are three basic Boolean operators : AND, OR and NOT.\"\n"
   ]
  },
  {
   "cell_type": "markdown",
   "id": "7233f443",
   "metadata": {},
   "source": [
    "Q3. Make a list of each Boolean operator&#39;s truth tables (i.e. every possible combination of Boolean\n",
    "values for the operator and what it evaluate )."
   ]
  },
  {
   "cell_type": "code",
   "execution_count": 25,
   "id": "c8e498d7",
   "metadata": {},
   "outputs": [
    {
     "name": "stdout",
     "output_type": "stream",
     "text": [
      "True\n",
      "False\n",
      "True\n",
      "True\n",
      "False\n",
      "True\n"
     ]
    }
   ],
   "source": [
    "#Ans of Q3.\n",
    "print(True and True)\n",
    "\n",
    "print(True and False)\n",
    "\n",
    "print(True or True)\n",
    "\n",
    "print(True or False)\n",
    "\n",
    "print(not True)\n",
    "\n",
    "print(not False)\n"
   ]
  },
  {
   "cell_type": "markdown",
   "id": "ff788078",
   "metadata": {},
   "source": [
    "Q4. What are the values of the following expressions?\n",
    "(5 > 4) and (3 == 5)\n",
    "not (5 > 4)\n",
    "(5 > 4) or (3 == 5)\n",
    "not ((5 > 4) or (3 == 5))\n",
    "(True and True) and (True == False)\n",
    "(not False) or (not True)\n"
   ]
  },
  {
   "cell_type": "code",
   "execution_count": 24,
   "id": "da64858c",
   "metadata": {},
   "outputs": [
    {
     "name": "stdout",
     "output_type": "stream",
     "text": [
      "False\n",
      "False\n",
      "True\n",
      "False\n",
      "False\n",
      "True\n"
     ]
    }
   ],
   "source": [
    "#Ans of Q4.\n",
    "print((5 > 4) and (3 == 5))\n",
    "print(not (5 > 4))\n",
    "print((5 > 4) or (3 == 5))\n",
    "print(not ((5 > 4) or (3 == 5))) \n",
    "print((True and True) and (True == False)) \n",
    "print((not False) or (not True))"
   ]
  },
  {
   "cell_type": "markdown",
   "id": "f3758dda",
   "metadata": {},
   "source": [
    "Q5. What are the six comparison operators?\n"
   ]
  },
  {
   "cell_type": "code",
   "execution_count": 23,
   "id": "ca7597de",
   "metadata": {},
   "outputs": [
    {
     "data": {
      "text/plain": [
       "'\\nThe six comparison operators are:\\n1. less than ( < )\\n2. less than or equal to ( <= )\\n3. greater than ( > )\\n4. greater than or equal to ( >= )\\n5. equal to ( == )\\n6. not equal to ( != )\\n'"
      ]
     },
     "execution_count": 23,
     "metadata": {},
     "output_type": "execute_result"
    }
   ],
   "source": [
    "#Ans of Q5.\n",
    "\"\"\"\n",
    "The six comparison operators are:\n",
    "1. less than ( < )\n",
    "2. less than or equal to ( <= )\n",
    "3. greater than ( > )\n",
    "4. greater than or equal to ( >= )\n",
    "5. equal to ( == )\n",
    "6. not equal to ( != )\n",
    "\"\"\""
   ]
  },
  {
   "cell_type": "markdown",
   "id": "22a9a445",
   "metadata": {},
   "source": [
    "Q6. How do you tell the difference between the equal to and assignment operators?Describe a\n",
    "condition and when you would use one."
   ]
  },
  {
   "cell_type": "code",
   "execution_count": 29,
   "id": "93e5b026",
   "metadata": {},
   "outputs": [
    {
     "name": "stdout",
     "output_type": "stream",
     "text": [
      "True\n",
      "Aman\n"
     ]
    }
   ],
   "source": [
    "#Ans of Q 6.\n",
    "\"\"\"\n",
    "Assignment operators are used to assign values to variables however equal operators are used to check if the two objects are equal in values.\n",
    "\"\"\"\n",
    "#example :\n",
    "#1    To check if 5 is equal to 5 we can uese == operators\n",
    "\n",
    "print(5 == 5)\n",
    "\n",
    "#2 To assign \"Aman\" as a value to a variable called name we use = operators\n",
    "name = \"Aman\"\n",
    "print(name)"
   ]
  },
  {
   "cell_type": "markdown",
   "id": "25c889d2",
   "metadata": {},
   "source": [
    "Q7. Identify the three blocks in this code:\n",
    "spam = 0\n",
    "if spam == 10:\n",
    "print(\"eggs\")\n",
    "if spam > 5:\n",
    "print(\"bacon\")\n",
    "else:\n",
    "print(\"ham\")\n",
    "print(\"spam\")\n",
    "print(\"spam\")"
   ]
  },
  {
   "cell_type": "code",
   "execution_count": 34,
   "id": "afe186db",
   "metadata": {},
   "outputs": [
    {
     "name": "stdout",
     "output_type": "stream",
     "text": [
      "ham\n",
      "spam\n",
      "spam\n"
     ]
    }
   ],
   "source": [
    "#Ans of Q7\n",
    "spam = 0\n",
    "if spam == 10:# first block\n",
    "    print(\"eggs\")\n",
    "if spam > 5: # second block\n",
    "    print(\"bacon\")\n",
    "else: # third block\n",
    "    print(\"ham\")\n",
    "    print(\"spam\")\n",
    "    print(\"spam\")"
   ]
  },
  {
   "cell_type": "markdown",
   "id": "dbf79fec",
   "metadata": {},
   "source": [
    "Q8. Write code that prints Hello if 1 is stored in spam, prints Howdy if 2 is stored in spam, and prints\n",
    "Greetings! if anything else is stored in spam."
   ]
  },
  {
   "cell_type": "code",
   "execution_count": 38,
   "id": "a679cb3a",
   "metadata": {},
   "outputs": [
    {
     "name": "stdout",
     "output_type": "stream",
     "text": [
      "Greetings!\n"
     ]
    }
   ],
   "source": [
    "#Ans of Q8\n",
    "spam = 3\n",
    "if spam == 1:\n",
    "    print(\"Hello\")\n",
    "elif spam == 2:\n",
    "    print(\"Howdy\")\n",
    "else: \n",
    "    print(\"Greetings!\")"
   ]
  },
  {
   "cell_type": "markdown",
   "id": "271517ec",
   "metadata": {},
   "source": [
    "Q9.If your programme is stuck in an endless loop, what keys you’ll press?"
   ]
  },
  {
   "cell_type": "code",
   "execution_count": 47,
   "id": "a6f84531",
   "metadata": {},
   "outputs": [
    {
     "name": "stdout",
     "output_type": "stream",
     "text": [
      "1\n"
     ]
    }
   ],
   "source": [
    "#Ans of Q9\n",
    "\"if my code will stuck in an endless loop i'll use break key\"\n",
    "#Example\n",
    "a = 1\n",
    "while a < 2:\n",
    "    print(a)\n",
    "    break"
   ]
  },
  {
   "cell_type": "markdown",
   "id": "269b8e0a",
   "metadata": {},
   "source": [
    "Q10. How can you tell the difference between break and continue?"
   ]
  },
  {
   "cell_type": "code",
   "execution_count": 50,
   "id": "d84b9223",
   "metadata": {},
   "outputs": [
    {
     "data": {
      "text/plain": [
       "'\\nBreak : It is used to stop the execution of the loop at a specific condition.\\nContinue : It is used to skip a particular iteration of the loop.\\n'"
      ]
     },
     "execution_count": 50,
     "metadata": {},
     "output_type": "execute_result"
    }
   ],
   "source": [
    "#Ans of Q10\n",
    "\"\"\"\n",
    "Break : It is used to stop the execution of the loop at a specific condition.\n",
    "Continue : It is used to skip a particular iteration of the loop.\n",
    "\"\"\""
   ]
  },
  {
   "cell_type": "markdown",
   "id": "47006478",
   "metadata": {},
   "source": [
    "Q11. In a for loop, what is the difference between range(10), range(0, 10), and range(0, 10, 1)?"
   ]
  },
  {
   "cell_type": "code",
   "execution_count": 58,
   "id": "98cedd27",
   "metadata": {},
   "outputs": [
    {
     "data": {
      "text/plain": [
       "'\\nThere will be no difference in the output of various range functions mentioned above when we use it in a loop.\\n\\nplease see below example :\\n'"
      ]
     },
     "execution_count": 58,
     "metadata": {},
     "output_type": "execute_result"
    }
   ],
   "source": [
    "#Ans of Q11\n",
    "\"\"\"\n",
    "There will be no difference in the output of various range functions mentioned above when we use it in a loop.\n",
    "\n",
    "please see below example :\n",
    "\"\"\""
   ]
  },
  {
   "cell_type": "code",
   "execution_count": 55,
   "id": "00659362",
   "metadata": {},
   "outputs": [
    {
     "name": "stdout",
     "output_type": "stream",
     "text": [
      "0\n",
      "1\n",
      "2\n",
      "3\n",
      "4\n",
      "5\n",
      "6\n",
      "7\n",
      "8\n",
      "9\n"
     ]
    }
   ],
   "source": [
    "for i in range(10):\n",
    "    print(i)"
   ]
  },
  {
   "cell_type": "code",
   "execution_count": 56,
   "id": "6ff8837e",
   "metadata": {},
   "outputs": [
    {
     "name": "stdout",
     "output_type": "stream",
     "text": [
      "0\n",
      "1\n",
      "2\n",
      "3\n",
      "4\n",
      "5\n",
      "6\n",
      "7\n",
      "8\n",
      "9\n"
     ]
    }
   ],
   "source": [
    "for i in range(0,10):\n",
    "    print(i)"
   ]
  },
  {
   "cell_type": "code",
   "execution_count": 57,
   "id": "9b6d84ec",
   "metadata": {},
   "outputs": [
    {
     "name": "stdout",
     "output_type": "stream",
     "text": [
      "0\n",
      "1\n",
      "2\n",
      "3\n",
      "4\n",
      "5\n",
      "6\n",
      "7\n",
      "8\n",
      "9\n"
     ]
    }
   ],
   "source": [
    "for i in range(0,10,1):\n",
    "    print(i)"
   ]
  },
  {
   "cell_type": "markdown",
   "id": "6e111bf2",
   "metadata": {},
   "source": [
    "Q12. Write a short program that prints the numbers 1 to 10 using a for loop. Then write an equivalent\n",
    "program that prints the numbers 1 to 10 using a while loop."
   ]
  },
  {
   "cell_type": "code",
   "execution_count": 88,
   "id": "baf66852",
   "metadata": {},
   "outputs": [
    {
     "name": "stdout",
     "output_type": "stream",
     "text": [
      "using for loop : 1 2 3 4 5 6 7 8 9 10 using while loop : 0 1 2 3 4 5 6 7 8 9 10 "
     ]
    }
   ],
   "source": [
    "#Ans Q12\n",
    "print(\"using for loop :\", end = \" \")\n",
    "for i in range(1,11):\n",
    "    print(i,end = \" \")\n",
    "    \n",
    "print(\"using while loop :\",end=\" \")\n",
    "j = 0\n",
    "while j <11 :\n",
    "    print(j,end = \" \")\n",
    "    j = j + 1"
   ]
  },
  {
   "cell_type": "markdown",
   "id": "076d66f7",
   "metadata": {},
   "source": [
    "Q13. If you had a function named bacon() inside a module named spam, how would you call it after\n",
    "importing spam?"
   ]
  },
  {
   "cell_type": "code",
   "execution_count": 91,
   "id": "8bea9aa0",
   "metadata": {},
   "outputs": [
    {
     "data": {
      "text/plain": [
       "'import spam\\nspam.bacon()\\n'"
      ]
     },
     "execution_count": 91,
     "metadata": {},
     "output_type": "execute_result"
    }
   ],
   "source": [
    "#Ans Q13\n",
    "\"\"\"import spam\n",
    "spam.bacon()\n",
    "\"\"\""
   ]
  }
 ],
 "metadata": {
  "kernelspec": {
   "display_name": "Python 3 (ipykernel)",
   "language": "python",
   "name": "python3"
  },
  "language_info": {
   "codemirror_mode": {
    "name": "ipython",
    "version": 3
   },
   "file_extension": ".py",
   "mimetype": "text/x-python",
   "name": "python",
   "nbconvert_exporter": "python",
   "pygments_lexer": "ipython3",
   "version": "3.9.13"
  }
 },
 "nbformat": 4,
 "nbformat_minor": 5
}
