{
 "cells": [
  {
   "cell_type": "markdown",
   "id": "6368ba1f",
   "metadata": {},
   "source": [
    "# Assignment_18 Solution"
   ]
  },
  {
   "cell_type": "markdown",
   "id": "929d68e4",
   "metadata": {},
   "source": [
    "Q1. Create a zoo.py file first. Define the hours() function, which prints the string &#39;Open 9-5 daily&#39;.\n",
    "Then, use the interactive interpreter to import the zoo module and call its hours() function.\n",
    "\n",
    "Q2. In the interactive interpreter, import the zoo module as menagerie and call its hours() function.\n",
    "\n",
    "Q3. Using the interpreter, explicitly import and call the hours() function from zoo.\n",
    "\n",
    "Q4. Import the hours() function as info and call it.\n",
    "\n",
    "Q5. Create a plain dictionary with the key-value pairs &#39;a&#39;: 1, &#39;b&#39;: 2, and &#39;c&#39;: 3, and print it out.\n",
    "\n",
    "Q6.Make an OrderedDict called fancy from the same pairs listed in 5 and print it. Did it print in the\n",
    "same order as plain?\n",
    "\n",
    "Q7. Make a default dictionary called dict_of_lists and pass it the argument list. Make the list\n",
    "dict_of_lists[&#39;a&#39;] and append the value &#39;something for a&#39; to it in one assignment. Print\n",
    "dict_of_lists[&#39;a&#39;]."
   ]
  },
  {
   "cell_type": "markdown",
   "id": "5d28075e",
   "metadata": {},
   "source": [
    "Ans of Q1"
   ]
  },
  {
   "cell_type": "code",
   "execution_count": 23,
   "id": "ba30995f",
   "metadata": {},
   "outputs": [
    {
     "name": "stdout",
     "output_type": "stream",
     "text": [
      "open 9-5 daily\n"
     ]
    }
   ],
   "source": [
    "import zoo\n",
    "zoo.hour()"
   ]
  },
  {
   "cell_type": "markdown",
   "id": "3b66cb4a",
   "metadata": {},
   "source": [
    "Ans of Q2"
   ]
  },
  {
   "cell_type": "code",
   "execution_count": 24,
   "id": "605b051d",
   "metadata": {},
   "outputs": [
    {
     "name": "stdout",
     "output_type": "stream",
     "text": [
      "open 9-5 daily\n"
     ]
    }
   ],
   "source": [
    "import zoo as menagerie\n",
    "menagerie.hour()"
   ]
  },
  {
   "cell_type": "markdown",
   "id": "d5ee154d",
   "metadata": {},
   "source": [
    "Ans of Q3"
   ]
  },
  {
   "cell_type": "code",
   "execution_count": 26,
   "id": "fea846ce",
   "metadata": {},
   "outputs": [
    {
     "name": "stdout",
     "output_type": "stream",
     "text": [
      "open 9-5 daily\n"
     ]
    }
   ],
   "source": [
    "from zoo import hour\n",
    "hour()"
   ]
  },
  {
   "cell_type": "markdown",
   "id": "07160b90",
   "metadata": {},
   "source": [
    "Ans of Q4"
   ]
  },
  {
   "cell_type": "code",
   "execution_count": 44,
   "id": "a1eaf654",
   "metadata": {},
   "outputs": [
    {
     "name": "stdout",
     "output_type": "stream",
     "text": [
      "open 9-5 daily\n"
     ]
    }
   ],
   "source": [
    "from zoo import hour as info\n",
    "\n",
    "info()\n"
   ]
  },
  {
   "cell_type": "markdown",
   "id": "29b1a33d",
   "metadata": {},
   "source": [
    "Ans of Q5"
   ]
  },
  {
   "cell_type": "code",
   "execution_count": 41,
   "id": "e909e143",
   "metadata": {},
   "outputs": [],
   "source": [
    "plain ={\"a\":1,\"b\":2,\"c\":3}"
   ]
  },
  {
   "cell_type": "markdown",
   "id": "bb6b3775",
   "metadata": {},
   "source": [
    "Ans of Q6"
   ]
  },
  {
   "cell_type": "code",
   "execution_count": 42,
   "id": "01f36183",
   "metadata": {},
   "outputs": [
    {
     "name": "stdout",
     "output_type": "stream",
     "text": [
      "OrderedDict([('a', 1), ('b', 2), ('c', 3)])\n"
     ]
    }
   ],
   "source": [
    "from collections import OrderedDict\n",
    "\n",
    "fancy = OrderedDict(plain)\n",
    "print(fancy) # No,it will not print in the same order as plain\n"
   ]
  },
  {
   "cell_type": "markdown",
   "id": "b8368771",
   "metadata": {},
   "source": [
    "Ans of Q7               "
   ]
  },
  {
   "cell_type": "code",
   "execution_count": 59,
   "id": "a8623431",
   "metadata": {},
   "outputs": [
    {
     "name": "stdout",
     "output_type": "stream",
     "text": [
      "['something for a']\n"
     ]
    },
    {
     "data": {
      "text/plain": [
       "defaultdict(list, {'a': ['something for a']})"
      ]
     },
     "execution_count": 59,
     "metadata": {},
     "output_type": "execute_result"
    }
   ],
   "source": [
    "from collections import defaultdict\n",
    "\n",
    "dict_of_lists = defaultdict(list)\n",
    "dict_of_lists['a'].append('something for a')\n",
    "\n",
    "print(dict_of_lists['a'])\n",
    "dict_of_lists"
   ]
  },
  {
   "cell_type": "code",
   "execution_count": null,
   "id": "45391aa1",
   "metadata": {},
   "outputs": [],
   "source": []
  }
 ],
 "metadata": {
  "kernelspec": {
   "display_name": "Python 3 (ipykernel)",
   "language": "python",
   "name": "python3"
  },
  "language_info": {
   "codemirror_mode": {
    "name": "ipython",
    "version": 3
   },
   "file_extension": ".py",
   "mimetype": "text/x-python",
   "name": "python",
   "nbconvert_exporter": "python",
   "pygments_lexer": "ipython3",
   "version": "3.9.13"
  }
 },
 "nbformat": 4,
 "nbformat_minor": 5
}
