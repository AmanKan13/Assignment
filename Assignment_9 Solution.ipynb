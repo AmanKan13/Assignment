{
 "cells": [
  {
   "cell_type": "markdown",
   "id": "bbfd5b12",
   "metadata": {},
   "source": [
    "# Assignment_8 Solution"
   ]
  },
  {
   "cell_type": "markdown",
   "id": "ef2a1bac",
   "metadata": {},
   "source": [
    "Q1. To what does a relative path refer?\n",
    "\n",
    "Q2. What does an absolute path start with your operating system?\n",
    "\n",
    "Q3. What do the functions os.getcwd() and os.chdir() do?\n",
    "\n",
    "Q4. What are the . and .. folders?\n",
    "\n",
    "Q5. In C:\\bacon\\eggs\\spam.txt, which part is the dir name, and which part is the base name?\n",
    "\n",
    "Q6. What are the three “mode” arguments that can be passed to the open() function?\n",
    "\n",
    "Q7. What happens if an existing file is opened in write mode?\n",
    "\n",
    "Q8. How do you tell the difference between read() and readlines()?\n",
    "\n",
    "Q9. What data structure does a shelf value resemble?"
   ]
  },
  {
   "cell_type": "markdown",
   "id": "e6cc9090",
   "metadata": {},
   "source": [
    "Ans of Q1"
   ]
  },
  {
   "cell_type": "markdown",
   "id": "64e32851",
   "metadata": {},
   "source": [
    "A relative path refers to the location of a file or directory in relation to the current working directory. It is called \"relative\" because it is expressed relative to the current location, rather than specifying the complete or absolute path from the root directory.\n",
    "\n"
   ]
  },
  {
   "cell_type": "markdown",
   "id": "163f5c1d",
   "metadata": {},
   "source": [
    "Ans of Q2"
   ]
  },
  {
   "cell_type": "markdown",
   "id": "6892d314",
   "metadata": {},
   "source": [
    "An absolute path starts with the drive letter followed by a colon (\":\") and then a backslash (\"\"). For example: \"C:\\Users\\User\\Documents\\file.txt\" refers to the file \"file.txt\" located in the \"Documents\" directory of the \"User\" directory in the \"C\" drive."
   ]
  },
  {
   "cell_type": "markdown",
   "id": "979a1afa",
   "metadata": {},
   "source": [
    "Ans of Q3"
   ]
  },
  {
   "cell_type": "markdown",
   "id": "52ff1066",
   "metadata": {},
   "source": [
    "os.getcwd(): This function returns a string representing the current working directory (CWD) of the Python script or program. The CWD is the directory from which the script is currently running. It returns the absolute path of the current working directory as a string.\n"
   ]
  },
  {
   "cell_type": "code",
   "execution_count": 11,
   "id": "3d66eccc",
   "metadata": {},
   "outputs": [
    {
     "name": "stdout",
     "output_type": "stream",
     "text": [
      "C:\\Users\\amank\n"
     ]
    }
   ],
   "source": [
    "import os\n",
    "\n",
    "current_directory = os.getcwd()\n",
    "print(current_directory)\n"
   ]
  },
  {
   "cell_type": "markdown",
   "id": "e936510c",
   "metadata": {},
   "source": [
    "os.chdir(path): This function changes the current working directory to the specified path. The path parameter is a string representing the directory path to which you want to change."
   ]
  },
  {
   "cell_type": "code",
   "execution_count": 19,
   "id": "3ab28f14",
   "metadata": {},
   "outputs": [],
   "source": [
    "import os\n",
    "\n",
    "os.chdir(\"C:/Users/amank\" )\n"
   ]
  },
  {
   "cell_type": "markdown",
   "id": "63a5b385",
   "metadata": {},
   "source": [
    "Ans of Q4"
   ]
  },
  {
   "cell_type": "markdown",
   "id": "ec87defb",
   "metadata": {},
   "source": [
    "What are the . and .. folders?"
   ]
  },
  {
   "cell_type": "markdown",
   "id": "190ce741",
   "metadata": {},
   "source": [
    "To refer to the current directory itself, you would use .. For instance, ./file.txt refers to the file \"file.txt\" in the current directory.\n",
    "\n",
    "To refer to the parent directory, you would use ... For instance, ../file.txt refers to the file \"file.txt\" in the parent directory."
   ]
  },
  {
   "cell_type": "markdown",
   "id": "243f2b54",
   "metadata": {},
   "source": [
    "Ans of Q5"
   ]
  },
  {
   "cell_type": "markdown",
   "id": "a20df6a1",
   "metadata": {},
   "source": [
    "In the path \"C:\\bacon\\eggs\\spam.txt\":\n",
    "\n",
    "The directory name (dir name) refers to the path of the directory that contains the file. In this case, the dir name is \"C:\\bacon\\eggs\".\n",
    "\n",
    "The base name refers to the file name itself, without the directory path. In this case, the base name is \"spam.txt\".\n",
    "\n",
    "To summarize:\n",
    "\n",
    "Dir name: \"C:\\bacon\\eggs\"\n",
    "Base name: \"spam.txt\""
   ]
  },
  {
   "cell_type": "markdown",
   "id": "54d00c20",
   "metadata": {},
   "source": [
    "Ans of Q6"
   ]
  },
  {
   "cell_type": "markdown",
   "id": "0b34f5a7",
   "metadata": {},
   "source": [
    "The three most common mode arguments are:\n",
    "1. \"r\" (read mode)\n",
    "2. \"w\" (write mode\n",
    "3. \"a\" (append mode"
   ]
  },
  {
   "cell_type": "markdown",
   "id": "675ccfe9",
   "metadata": {},
   "source": [
    "Ans of Q7"
   ]
  },
  {
   "cell_type": "markdown",
   "id": "d7eca2b4",
   "metadata": {},
   "source": [
    "If the file already exists: Opening the file in write mode will truncate (empty) its contents. All existing data in the file will be deleted, and the file will become empty."
   ]
  },
  {
   "cell_type": "markdown",
   "id": "a2bf2132",
   "metadata": {},
   "source": [
    "Ans of Q8"
   ]
  },
  {
   "cell_type": "markdown",
   "id": "6aa55b20",
   "metadata": {},
   "source": [
    "read(): This method reads the entire contents of a file as a single string and returns it. It reads from the current file position until the end of the file.\n",
    "\n",
    "Example:"
   ]
  },
  {
   "cell_type": "code",
   "execution_count": 46,
   "id": "9eddace6",
   "metadata": {},
   "outputs": [],
   "source": [
    "# Open a file in write mode (\"w\")\n",
    "file = open(\"Aman.txt\", \"w\")\n",
    "\n",
    "# Write data to the file\n",
    "file.write(\"This is Aman\\n\")\n",
    "file.write(\"This is another line of text.\")\n",
    "# Close the file\n",
    "file.close()\n",
    "\n"
   ]
  },
  {
   "cell_type": "markdown",
   "id": "af359ffb",
   "metadata": {},
   "source": [
    "readlines(): This method reads all the lines from a file and returns them as a list of strings. Each element of the list represents a line from the file, including the newline character ('\\n') at the end of each line."
   ]
  },
  {
   "cell_type": "code",
   "execution_count": 51,
   "id": "26451865",
   "metadata": {},
   "outputs": [
    {
     "name": "stdout",
     "output_type": "stream",
     "text": [
      "This is Aman\n",
      "This is another line of text.\n"
     ]
    }
   ],
   "source": [
    "with open(\"Aman.txt\", \"r\") as file:\n",
    "    lines = file.readlines()\n",
    "print(lines)\n"
   ]
  },
  {
   "cell_type": "markdown",
   "id": "d0e59d70",
   "metadata": {},
   "source": [
    "Ans fo Q9"
   ]
  },
  {
   "cell_type": "markdown",
   "id": "b5103aaf",
   "metadata": {},
   "source": [
    "n, a shelf value resembles a dictionary-like data structure. The shelve module in Python provides a simple way to store and retrieve Python objects persistently using key-value pairs, similar to a dictionary."
   ]
  },
  {
   "cell_type": "code",
   "execution_count": 41,
   "id": "ba885ae8",
   "metadata": {},
   "outputs": [],
   "source": [
    "import shelve\n",
    "\n",
    "# Open a shelf file\n",
    "shelf = shelve.open(\"mydata\")\n",
    "\n",
    "# Store data in the shelf\n",
    "shelf[\"key1\"] = \"value1\"\n",
    "shelf[\"key2\"] = [1, 2, 3]\n",
    "shelf[\"key3\"] = {\"name\": \"Aman\", \"age\": 25}\n",
    "\n",
    "# Retrieve data from the shelf\n",
    "data1 = shelf[\"key1\"]\n",
    "data2 = shelf[\"key2\"]\n",
    "data3 = shelf[\"key3\"]\n",
    "\n",
    "# Close the shelf file\n",
    "shelf.close()\n"
   ]
  },
  {
   "cell_type": "code",
   "execution_count": null,
   "id": "49913146",
   "metadata": {},
   "outputs": [],
   "source": []
  }
 ],
 "metadata": {
  "kernelspec": {
   "display_name": "Python 3 (ipykernel)",
   "language": "python",
   "name": "python3"
  },
  "language_info": {
   "codemirror_mode": {
    "name": "ipython",
    "version": 3
   },
   "file_extension": ".py",
   "mimetype": "text/x-python",
   "name": "python",
   "nbconvert_exporter": "python",
   "pygments_lexer": "ipython3",
   "version": "3.9.13"
  }
 },
 "nbformat": 4,
 "nbformat_minor": 5
}
