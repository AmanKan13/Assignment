{
 "cells": [
  {
   "cell_type": "markdown",
   "id": "66a76932",
   "metadata": {},
   "source": [
    "# Assignment_10 Solution"
   ]
  },
  {
   "cell_type": "markdown",
   "id": "e1b66433",
   "metadata": {},
   "source": [
    "Q1. How do you distinguish between shutil.copy() and shutil.copytree()?\n",
    "\n",
    "Q2. What function is used to rename files?\n",
    "\n",
    "Q3. What is the difference between the delete functions in the send2trash and shutil modules?\n",
    "\n",
    "Q4.ZipFile objects have a close() method just like File objects’ close() method. What ZipFile method is\n",
    "equivalent to File objects’ open() method?\n",
    "\n",
    "Q5. Create a programme that searches a folder tree for files with a certain file extension (such as .pdf\n",
    "or .jpg). Copy these files from whatever location they are in to a new folder."
   ]
  },
  {
   "cell_type": "markdown",
   "id": "004d973d",
   "metadata": {},
   "source": [
    "Ans of Q1"
   ]
  },
  {
   "cell_type": "code",
   "execution_count": 72,
   "id": "18fb6f2f",
   "metadata": {},
   "outputs": [],
   "source": [
    "# Open the file in write mode (\"w\")\n",
    "file = open(\"Aman.txt\", \"w\")\n",
    "\n",
    "# Write data to the file\n",
    "file.write(\"This is some text to write to the file.\\n\")\n",
    "file.write(\"This is another line of text.\")\n",
    "\n",
    "# Close the file\n",
    "file.close()\n"
   ]
  },
  {
   "cell_type": "markdown",
   "id": "cbe89701",
   "metadata": {},
   "source": [
    "shutil.copy(src, dst): This function is used to copy a single file from the source location (src) to the destination location (dst)."
   ]
  },
  {
   "cell_type": "code",
   "execution_count": 73,
   "id": "8b3a9508",
   "metadata": {},
   "outputs": [
    {
     "data": {
      "text/plain": [
       "'car.data.txt'"
      ]
     },
     "execution_count": 73,
     "metadata": {},
     "output_type": "execute_result"
    }
   ],
   "source": [
    "import shutil\n",
    "\n",
    "# Copy a single file\n",
    "shutil.copy(\"Aman.txt\", \"car.data.txt\")\n",
    "\n"
   ]
  },
  {
   "cell_type": "markdown",
   "id": "5ff4ce09",
   "metadata": {},
   "source": [
    "shutil.copytree(src, dst): This function is used to recursively copy an entire directory from the source location (src) to the destination location (dst). It copies all the files and subdirectories within the source directory."
   ]
  },
  {
   "cell_type": "code",
   "execution_count": 75,
   "id": "c58310ba",
   "metadata": {},
   "outputs": [
    {
     "data": {
      "text/plain": [
       "'aman1'"
      ]
     },
     "execution_count": 75,
     "metadata": {},
     "output_type": "execute_result"
    }
   ],
   "source": [
    "import shutil\n",
    "\n",
    "# Copy an entire directory\n",
    "shutil.copytree(\"Downloads\", \"aman1\")\n"
   ]
  },
  {
   "cell_type": "markdown",
   "id": "f91b098c",
   "metadata": {},
   "source": [
    "Ans of Q2"
   ]
  },
  {
   "cell_type": "markdown",
   "id": "0ccb22cb",
   "metadata": {},
   "source": [
    "To rename files in Python, you can use the os.rename() function from the os module. The os.rename() function is used to change the name of a file or directory"
   ]
  },
  {
   "cell_type": "code",
   "execution_count": 76,
   "id": "ac066041",
   "metadata": {},
   "outputs": [],
   "source": [
    "import os\n",
    "\n",
    "# Rename a file\n",
    "os.rename(\"Aman.txt\", \"Aman1.txt\")\n"
   ]
  },
  {
   "cell_type": "markdown",
   "id": "91e65553",
   "metadata": {},
   "source": [
    "Ans of Q3"
   ]
  },
  {
   "cell_type": "markdown",
   "id": "fca80899",
   "metadata": {},
   "source": [
    "Send2trash: The send2trash module provides a safe way to send files and directories to the operating system's trash or recycle bin instead of directly deleting them. This allows for a recovery option in case the deletion was accidental"
   ]
  },
  {
   "cell_type": "code",
   "execution_count": 77,
   "id": "65c4fab5",
   "metadata": {},
   "outputs": [],
   "source": [
    "import send2trash\n",
    "\n",
    "# Send a file or directory to the trash\n",
    "send2trash.send2trash(\"Aman1.txt\")\n"
   ]
  },
  {
   "cell_type": "markdown",
   "id": "83efe3bf",
   "metadata": {},
   "source": [
    "shutil: The shutil module provides functions for file operations, including deletion. The shutil.rmtree() function is commonly used to delete a directory and all its contents recursively"
   ]
  },
  {
   "cell_type": "code",
   "execution_count": null,
   "id": "d4ce157e",
   "metadata": {},
   "outputs": [],
   "source": [
    "import shutil\n",
    "\n",
    "# Delete a directory and its contents\n",
    "shutil.rmtree(\"directory_path\")\n"
   ]
  },
  {
   "cell_type": "markdown",
   "id": "023ec82e",
   "metadata": {},
   "source": [
    "Ans of Q4"
   ]
  },
  {
   "cell_type": "markdown",
   "id": "967a7411",
   "metadata": {},
   "source": [
    "The equivalent method in the ZipFile class of the zipfile module to the open() method of file objects is the ZipFile() constructor. It is used to open or create a ZIP file.\n",
    "\n",
    "The ZipFile() constructor allows you to specify the path to an existing ZIP file that you want to open or create. It returns a ZipFile object that represents the opened or created ZIP file. You can then use this object to perform various operations on the ZIP file, such as extracting files, adding files, or obtaining information about the contents of the archive."
   ]
  },
  {
   "cell_type": "markdown",
   "id": "8e8ee563",
   "metadata": {},
   "source": [
    "Ans of Q5"
   ]
  },
  {
   "cell_type": "code",
   "execution_count": 95,
   "id": "aae9c615",
   "metadata": {},
   "outputs": [],
   "source": [
    "import os\n",
    "import shutil\n",
    "\n",
    "def copy_files_by_extension(source_folder, target_folder, extension):\n",
    "    # Create the target folder if it doesn't exist\n",
    "    if not os.path.exists(target_folder):\n",
    "        os.makedirs(target_folder)\n",
    "\n",
    "    # Walk through the source folder tree\n",
    "    for root, dirs, files in os.walk(source_folder):\n",
    "        for file in files:\n",
    "            if file.endswith(extension):\n",
    "                source_path = os.path.join(root, file)\n",
    "                target_path = os.path.join(target_folder, file)\n",
    "                shutil.copy2(source_path, target_path)\n",
    "                print(f\"Copied: {source_path} -> {target_path}\")\n",
    "\n",
    "# Set the source folder, target folder, and file extension\n",
    "source_folder = \"path/to/source/folder\"\n",
    "target_folder = \"path/to/target/folder\"\n",
    "file_extension = \".pdf\"\n",
    "\n",
    "# Call the function to copy files by extension\n",
    "copy_files_by_extension(source_folder, target_folder, file_extension)\n"
   ]
  },
  {
   "cell_type": "code",
   "execution_count": null,
   "id": "29d93c58",
   "metadata": {},
   "outputs": [],
   "source": []
  }
 ],
 "metadata": {
  "kernelspec": {
   "display_name": "Python 3 (ipykernel)",
   "language": "python",
   "name": "python3"
  },
  "language_info": {
   "codemirror_mode": {
    "name": "ipython",
    "version": 3
   },
   "file_extension": ".py",
   "mimetype": "text/x-python",
   "name": "python",
   "nbconvert_exporter": "python",
   "pygments_lexer": "ipython3",
   "version": "3.9.13"
  }
 },
 "nbformat": 4,
 "nbformat_minor": 5
}
