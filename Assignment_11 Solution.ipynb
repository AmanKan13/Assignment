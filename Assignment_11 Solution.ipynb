{
 "cells": [
  {
   "cell_type": "markdown",
   "id": "0dbadcc7",
   "metadata": {},
   "source": [
    "# Assignment_11 Solution"
   ]
  },
  {
   "cell_type": "markdown",
   "id": "1029c84a",
   "metadata": {},
   "source": [
    "Q1. Create an assert statement that throws an AssertionError if the variable spam is a negative\n",
    "integer.\n",
    "\n",
    "Q2. Write an assert statement that triggers an AssertionError if the variables eggs and bacon contain\n",
    "strings that are the same as each other, even if their cases are different (that is, &#39;hello&#39; and &#39;hello&#39; are\n",
    "considered the same, and &#39;goodbye&#39; and &#39;GOODbye&#39; are also considered the same).\n",
    "\n",
    "Q3. Create an assert statement that throws an AssertionError every time.\n",
    "\n",
    "Q4. What are the two lines that must be present in your software in order to call logging.debug()?\n",
    "\n",
    "Q5. What are the two lines that your program must have in order to have logging.debug() send a\n",
    "logging message to a file named programLog.txt?\n",
    "\n",
    "Q6. What are the five levels of logging?\n",
    "\n",
    "Q7. What line of code would you add to your software to disable all logging messages?\n",
    "\n",
    "Q8.Why is using logging messages better than using print() to display the same message?\n",
    "\n",
    "Q9. What are the differences between the Step Over, Step In, and Step Out buttons in the debugger?\n",
    "\n",
    "Q10.After you click Continue, when will the debugger stop ?\n",
    "\n",
    "Q11. What is the concept of a breakpoint?"
   ]
  },
  {
   "cell_type": "markdown",
   "id": "6260f237",
   "metadata": {},
   "source": [
    "Ans of Q1"
   ]
  },
  {
   "cell_type": "code",
   "execution_count": 14,
   "id": "a8d22ba4",
   "metadata": {},
   "outputs": [
    {
     "ename": "AssertionError",
     "evalue": "spam should not be a negative integer",
     "output_type": "error",
     "traceback": [
      "\u001b[1;31m---------------------------------------------------------------------------\u001b[0m",
      "\u001b[1;31mAssertionError\u001b[0m                            Traceback (most recent call last)",
      "\u001b[1;32m~\\AppData\\Local\\Temp\\ipykernel_23132\\2963780939.py\u001b[0m in \u001b[0;36m<module>\u001b[1;34m\u001b[0m\n\u001b[0;32m      1\u001b[0m \u001b[0mspam\u001b[0m \u001b[1;33m=\u001b[0m \u001b[1;33m-\u001b[0m\u001b[1;36m5\u001b[0m\u001b[1;33m\u001b[0m\u001b[1;33m\u001b[0m\u001b[0m\n\u001b[1;32m----> 2\u001b[1;33m \u001b[1;32massert\u001b[0m \u001b[0mspam\u001b[0m \u001b[1;33m>=\u001b[0m \u001b[1;36m0\u001b[0m\u001b[1;33m,\u001b[0m \u001b[1;34m\"spam should not be a negative integer\"\u001b[0m\u001b[1;33m\u001b[0m\u001b[1;33m\u001b[0m\u001b[0m\n\u001b[0m",
      "\u001b[1;31mAssertionError\u001b[0m: spam should not be a negative integer"
     ]
    }
   ],
   "source": [
    "spam = -5\n",
    "assert spam >= 0, \"spam should not be a negative integer\""
   ]
  },
  {
   "cell_type": "markdown",
   "id": "327d6b10",
   "metadata": {},
   "source": [
    "Ans of Q2"
   ]
  },
  {
   "cell_type": "code",
   "execution_count": 20,
   "id": "c57de92a",
   "metadata": {},
   "outputs": [
    {
     "ename": "AssertionError",
     "evalue": "eggs and bacon cannot be the same.",
     "output_type": "error",
     "traceback": [
      "\u001b[1;31m---------------------------------------------------------------------------\u001b[0m",
      "\u001b[1;31mAssertionError\u001b[0m                            Traceback (most recent call last)",
      "\u001b[1;32m~\\AppData\\Local\\Temp\\ipykernel_23132\\4010567984.py\u001b[0m in \u001b[0;36m<module>\u001b[1;34m\u001b[0m\n\u001b[0;32m      1\u001b[0m \u001b[0meggs\u001b[0m \u001b[1;33m=\u001b[0m \u001b[1;34m\"Hello\"\u001b[0m\u001b[1;33m\u001b[0m\u001b[1;33m\u001b[0m\u001b[0m\n\u001b[0;32m      2\u001b[0m \u001b[0mbacon\u001b[0m \u001b[1;33m=\u001b[0m \u001b[1;34m\"hello\"\u001b[0m\u001b[1;33m\u001b[0m\u001b[1;33m\u001b[0m\u001b[0m\n\u001b[1;32m----> 3\u001b[1;33m \u001b[1;32massert\u001b[0m \u001b[0meggs\u001b[0m\u001b[1;33m.\u001b[0m\u001b[0mlower\u001b[0m\u001b[1;33m(\u001b[0m\u001b[1;33m)\u001b[0m \u001b[1;33m!=\u001b[0m \u001b[0mbacon\u001b[0m\u001b[1;33m.\u001b[0m\u001b[0mlower\u001b[0m\u001b[1;33m(\u001b[0m\u001b[1;33m)\u001b[0m\u001b[1;33m,\u001b[0m \u001b[1;34m\"eggs and bacon cannot be the same.\"\u001b[0m\u001b[1;33m\u001b[0m\u001b[1;33m\u001b[0m\u001b[0m\n\u001b[0m",
      "\u001b[1;31mAssertionError\u001b[0m: eggs and bacon cannot be the same."
     ]
    }
   ],
   "source": [
    "eggs = \"Hello\"\n",
    "bacon = \"hello\"\n",
    "assert eggs.lower() != bacon.lower(), \"eggs and bacon cannot be the same.\"\n"
   ]
  },
  {
   "cell_type": "markdown",
   "id": "a48d5c5a",
   "metadata": {},
   "source": [
    "Ans of Q3"
   ]
  },
  {
   "cell_type": "code",
   "execution_count": 21,
   "id": "f60b456d",
   "metadata": {},
   "outputs": [
    {
     "ename": "AssertionError",
     "evalue": "This assert statement always triggers an AssertionError.",
     "output_type": "error",
     "traceback": [
      "\u001b[1;31m---------------------------------------------------------------------------\u001b[0m",
      "\u001b[1;31mAssertionError\u001b[0m                            Traceback (most recent call last)",
      "\u001b[1;32m~\\AppData\\Local\\Temp\\ipykernel_23132\\4152563029.py\u001b[0m in \u001b[0;36m<module>\u001b[1;34m\u001b[0m\n\u001b[1;32m----> 1\u001b[1;33m \u001b[1;32massert\u001b[0m \u001b[1;32mFalse\u001b[0m\u001b[1;33m,\u001b[0m \u001b[1;34m\"This assert statement always triggers an AssertionError.\"\u001b[0m\u001b[1;33m\u001b[0m\u001b[1;33m\u001b[0m\u001b[0m\n\u001b[0m",
      "\u001b[1;31mAssertionError\u001b[0m: This assert statement always triggers an AssertionError."
     ]
    }
   ],
   "source": [
    "assert False, \"This assert statement always triggers an AssertionError.\"\n"
   ]
  },
  {
   "cell_type": "markdown",
   "id": "0b201d8d",
   "metadata": {},
   "source": [
    "Ans of Q4"
   ]
  },
  {
   "cell_type": "code",
   "execution_count": 24,
   "id": "75ddf9cf",
   "metadata": {},
   "outputs": [],
   "source": [
    "#The two lines that must be present in our software in order to call logging.debug()\n",
    "import logging\n",
    "\n",
    "logging.basicConfig(level=logging.DEBUG)\n"
   ]
  },
  {
   "cell_type": "markdown",
   "id": "b21b10b7",
   "metadata": {},
   "source": [
    "Ans of Q5"
   ]
  },
  {
   "cell_type": "code",
   "execution_count": 26,
   "id": "7148af53",
   "metadata": {},
   "outputs": [],
   "source": [
    "import logging\n",
    "\n",
    "logging.basicConfig(filename='programLog.txt', level=logging.DEBUG)\n"
   ]
  },
  {
   "cell_type": "markdown",
   "id": "cb15eb82",
   "metadata": {},
   "source": [
    "Ans of Q6"
   ]
  },
  {
   "cell_type": "markdown",
   "id": "e48da7e6",
   "metadata": {},
   "source": [
    "The five levels of logging are :-\n",
    "1. Debug\n",
    "2. Info\n",
    "3. Warning\n",
    "4. Error\n",
    "5. Critical"
   ]
  },
  {
   "cell_type": "markdown",
   "id": "cddad690",
   "metadata": {},
   "source": [
    "Ans of Q7"
   ]
  },
  {
   "cell_type": "markdown",
   "id": "f2ca5e7d",
   "metadata": {},
   "source": [
    "To disable all logging messages in your software, "
   ]
  },
  {
   "cell_type": "code",
   "execution_count": 29,
   "id": "eecc2e5b",
   "metadata": {},
   "outputs": [],
   "source": [
    "import logging \n",
    "\n",
    "logging.disable(logging.CRITICAL)\n"
   ]
  },
  {
   "cell_type": "markdown",
   "id": "8bbe866a",
   "metadata": {},
   "source": [
    "Ans of Q8"
   ]
  },
  {
   "cell_type": "markdown",
   "id": "793fccf1",
   "metadata": {},
   "source": [
    "Using logging messages better than using print() to display the same message\n",
    "1. Granular contro\n",
    "2. Flexible output destinations\n",
    "3. Runtime configurability \n",
    "4. Structured logging\n",
    "5. Performance and efficiency:"
   ]
  },
  {
   "cell_type": "markdown",
   "id": "07a4c119",
   "metadata": {},
   "source": [
    "Ans of Q9"
   ]
  },
  {
   "cell_type": "markdown",
   "id": "654a9ff8",
   "metadata": {},
   "source": [
    "The differences between the Step Over, Step In, and Step Out buttons in the debugger are :-\n",
    "\n",
    "1. Step Over: Executes the current line and moves to the next line, treating function calls as a single step.\n",
    "\n",
    "2. Step In: Moves to the next line, including function calls, and pauses within the called function.\n",
    "\n",
    "3. Step Out: Executes the remaining lines of the current function and pauses at the line following the function call, returning to the caller's context."
   ]
  },
  {
   "cell_type": "markdown",
   "id": "d825a6ae",
   "metadata": {},
   "source": [
    "Ans of Q10"
   ]
  },
  {
   "cell_type": "markdown",
   "id": "b91d6194",
   "metadata": {},
   "source": [
    "After clicking the \"Continue\" button in a debugger, the debugger will stop when one of the following conditions is met:\n",
    "\n",
    "1. Breakpoint\n",
    "\n",
    "2. Exception\n",
    "\n",
    "3. Program"
   ]
  },
  {
   "cell_type": "markdown",
   "id": "8a0c32ad",
   "metadata": {},
   "source": [
    "Ans of Q11"
   ]
  },
  {
   "cell_type": "markdown",
   "id": "d913ff8f",
   "metadata": {},
   "source": [
    "A breakpoint is a specified point in the code where program execution is intentionally paused to allow developers to inspect the program's state, variables, and behavior. Breakpoints are a fundamental tool in debugging and are commonly used to identify and resolve issues in the code."
   ]
  },
  {
   "cell_type": "code",
   "execution_count": null,
   "id": "e612ec98",
   "metadata": {},
   "outputs": [],
   "source": []
  }
 ],
 "metadata": {
  "kernelspec": {
   "display_name": "Python 3 (ipykernel)",
   "language": "python",
   "name": "python3"
  },
  "language_info": {
   "codemirror_mode": {
    "name": "ipython",
    "version": 3
   },
   "file_extension": ".py",
   "mimetype": "text/x-python",
   "name": "python",
   "nbconvert_exporter": "python",
   "pygments_lexer": "ipython3",
   "version": "3.9.13"
  }
 },
 "nbformat": 4,
 "nbformat_minor": 5
}
