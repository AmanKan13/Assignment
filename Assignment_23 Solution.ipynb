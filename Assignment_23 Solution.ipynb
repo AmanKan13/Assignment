{
 "cells": [
  {
   "cell_type": "markdown",
   "id": "89714b7a",
   "metadata": {},
   "source": [
    "# Assignment_23 Solution"
   ]
  },
  {
   "cell_type": "markdown",
   "id": "7ec8f148",
   "metadata": {},
   "source": [
    "Q1. What is the result of the code, and why?\n",
    "\n",
    "&gt;&gt;&gt; def func(a, b=6, c=8):\n",
    "\n",
    "    print(a, b, c)\n",
    "&gt;&gt;&gt; func(1, 2)"
   ]
  },
  {
   "cell_type": "markdown",
   "id": "686d0d2b",
   "metadata": {},
   "source": [
    "Ans of Q1"
   ]
  },
  {
   "cell_type": "code",
   "execution_count": 34,
   "id": "74657047",
   "metadata": {},
   "outputs": [
    {
     "name": "stdout",
     "output_type": "stream",
     "text": [
      "1 2 8\n"
     ]
    }
   ],
   "source": [
    "def func(a,b=6,c=8):\n",
    "    print(a,b,c)\n",
    "func(1,2)\n",
    "# Putting value in the function will replace the existing value of function"
   ]
  },
  {
   "cell_type": "markdown",
   "id": "6b4e1f85",
   "metadata": {},
   "source": [
    "Q2. What is the result of this code, and why?\n",
    "\n",
    "&gt;&gt;&gt; def func(a, b, c=5):\n",
    "\n",
    "print(a, b, c)\n",
    "\n",
    "&gt;&gt;&gt; func(1, c=3, b=2)"
   ]
  },
  {
   "cell_type": "markdown",
   "id": "c7e67e46",
   "metadata": {},
   "source": [
    "Ans of Q2"
   ]
  },
  {
   "cell_type": "code",
   "execution_count": 35,
   "id": "9a5a798a",
   "metadata": {},
   "outputs": [
    {
     "name": "stdout",
     "output_type": "stream",
     "text": [
      "1 2 3\n"
     ]
    }
   ],
   "source": [
    "def func(a,b,c=5):\n",
    "    print(a,b,c)\n",
    "func(1,c=3,b=2)\n"
   ]
  },
  {
   "cell_type": "markdown",
   "id": "f1efaf15",
   "metadata": {},
   "source": [
    "Q3. How about this code: what is its result, and why?\n",
    "\n",
    "&gt;&gt;&gt; def func(a, *pargs):\n",
    "\n",
    "print(a, pargs)\n",
    "\n",
    "&gt;&gt;&gt; func(1, 2, 3)"
   ]
  },
  {
   "cell_type": "markdown",
   "id": "2982003a",
   "metadata": {},
   "source": [
    "Ans of Q3"
   ]
  },
  {
   "cell_type": "code",
   "execution_count": 40,
   "id": "260e9afa",
   "metadata": {},
   "outputs": [
    {
     "name": "stdout",
     "output_type": "stream",
     "text": [
      "1 (2, 3)\n"
     ]
    }
   ],
   "source": [
    "def func(a,*pargs):\n",
    "    print(a,pargs)\n",
    "func(1, 2, 3)\n",
    "# first argument will be taken as it is and other will be considered inside the tuple"
   ]
  },
  {
   "cell_type": "markdown",
   "id": "4cdbc6e1",
   "metadata": {},
   "source": [
    "Q4. What does this code print, and why?\n",
    "\n",
    "&gt;&gt;&gt; def func(a, **kargs):\n",
    "\n",
    "print(a, kargs)\n",
    "\n",
    "&gt;&gt;&gt; func(a=1, c=3, b=2)"
   ]
  },
  {
   "cell_type": "markdown",
   "id": "9b7f0f93",
   "metadata": {},
   "source": [
    "Ans of Q4"
   ]
  },
  {
   "cell_type": "code",
   "execution_count": 89,
   "id": "1a568412",
   "metadata": {},
   "outputs": [
    {
     "name": "stdout",
     "output_type": "stream",
     "text": [
      "1 {'c': 3, 'b': 2}\n"
     ]
    }
   ],
   "source": [
    "def func(a,**kargs):\n",
    "    print(a,kargs)\n",
    "\n",
    "func(a=1, c=3, b=2)"
   ]
  },
  {
   "cell_type": "code",
   "execution_count": 90,
   "id": "6422e7b9",
   "metadata": {},
   "outputs": [],
   "source": [
    "# first argument will be taken as it is and other will be considered key value pair inside dictionary"
   ]
  },
  {
   "cell_type": "markdown",
   "id": "91584803",
   "metadata": {},
   "source": [
    "Q5. What gets printed by this, and explain?\n",
    "\n",
    "&gt;&gt;&gt; def func(a, b, c=8, d=5):\n",
    "\n",
    "print(a, b, c, d)\n",
    "\n",
    "&gt;&gt;&gt; func(1, *(5, 6))"
   ]
  },
  {
   "cell_type": "code",
   "execution_count": 49,
   "id": "9749bc08",
   "metadata": {},
   "outputs": [
    {
     "name": "stdout",
     "output_type": "stream",
     "text": [
      "1 5 6 5\n"
     ]
    }
   ],
   "source": [
    "def func(a,b,c=8,d=5):\n",
    "    print(a,b,c,d)\n",
    "func(1,*(5,6))"
   ]
  },
  {
   "cell_type": "markdown",
   "id": "6fddfff6",
   "metadata": {},
   "source": [
    "Q6. what is the result of this, and explain?\n",
    "\n",
    "&gt;&gt;&gt; def func(a, b, c): a = 2; b[0] = &#39;x&#39;; \n",
    "c[&#39;a&#39;] = &#39;y&#39;\n",
    "\n",
    "&gt;&gt;&gt; l=1; m=[1]; n={&#39;a&#39;:0}\n",
    "\n",
    "&gt;&gt;&gt; func(l, m, n)"
   ]
  },
  {
   "cell_type": "code",
   "execution_count": 84,
   "id": "f4e40d7b",
   "metadata": {},
   "outputs": [],
   "source": [
    "def func(a, b, c):\n",
    "    a = 2;\n",
    "    b[0] = 'x'; \n",
    "    c['a'] = 'y'\n"
   ]
  },
  {
   "cell_type": "code",
   "execution_count": 85,
   "id": "30330a25",
   "metadata": {},
   "outputs": [],
   "source": [
    "l=1; m=[1]; n={'a':0}"
   ]
  },
  {
   "cell_type": "code",
   "execution_count": 86,
   "id": "7eebea42",
   "metadata": {
    "scrolled": true
   },
   "outputs": [],
   "source": [
    "func(l, m, n)"
   ]
  },
  {
   "cell_type": "code",
   "execution_count": 87,
   "id": "2cf756b6",
   "metadata": {},
   "outputs": [
    {
     "data": {
      "text/plain": [
       "(1, ['x'], {'a': 'y'})"
      ]
     },
     "execution_count": 87,
     "metadata": {},
     "output_type": "execute_result"
    }
   ],
   "source": [
    "l,m,n"
   ]
  },
  {
   "cell_type": "code",
   "execution_count": null,
   "id": "928fe72f",
   "metadata": {},
   "outputs": [],
   "source": []
  }
 ],
 "metadata": {
  "kernelspec": {
   "display_name": "Python 3 (ipykernel)",
   "language": "python",
   "name": "python3"
  },
  "language_info": {
   "codemirror_mode": {
    "name": "ipython",
    "version": 3
   },
   "file_extension": ".py",
   "mimetype": "text/x-python",
   "name": "python",
   "nbconvert_exporter": "python",
   "pygments_lexer": "ipython3",
   "version": "3.9.13"
  }
 },
 "nbformat": 4,
 "nbformat_minor": 5
}
