{
 "cells": [
  {
   "cell_type": "markdown",
   "id": "6368ba1f",
   "metadata": {},
   "source": [
    "# Programming Assignment_8 Solution"
   ]
  },
  {
   "cell_type": "markdown",
   "id": "929d68e4",
   "metadata": {},
   "source": [
    "Q1.Write a Python Program to Add Two Matrices?\n",
    "\n",
    "Q2. Write a Python Program to Multiply Two Matrices?\n",
    "\n",
    "Q3. Write a Python Program to Transpose a Matrix?\n",
    "\n",
    "Q4. Write a Python Program to Sort Words in Alphabetic Order?\n",
    "\n",
    "Q5. Write a Python Program to Remove Punctuation From a String?"
   ]
  },
  {
   "cell_type": "markdown",
   "id": "5d28075e",
   "metadata": {},
   "source": [
    "Ans of Q1"
   ]
  },
  {
   "cell_type": "code",
   "execution_count": 1,
   "id": "eb6c9548",
   "metadata": {},
   "outputs": [
    {
     "data": {
      "text/plain": [
       "[[10, 16, 10], [14, 14, 14], [11, 10, 4]]"
      ]
     },
     "execution_count": 1,
     "metadata": {},
     "output_type": "execute_result"
    }
   ],
   "source": [
    "matrix1 = [[1, 8, 3],\n",
    "           [6, 9, 6],\n",
    "           [5, 8, 3]]\n",
    "\n",
    "matrix2 = [[9, 8, 7],\n",
    "           [8, 5, 8],\n",
    "           [6, 2, 1]]\n",
    "rows = len(matrix1)\n",
    "cols = len(matrix1[0])\n",
    "# this will create a matrix of same order with 0 value \n",
    "result = [[0] * cols for i in range(rows)]\n",
    "    \n",
    "    # Add corresponding elements from the two matrices\n",
    "for i in range(rows):\n",
    "    for j in range(cols):\n",
    "        result[i][j] = matrix1[i][j] + matrix2[i][j]\n",
    "    \n",
    "result"
   ]
  },
  {
   "cell_type": "markdown",
   "id": "e925bc61",
   "metadata": {},
   "source": [
    "Ans of Q2"
   ]
  },
  {
   "cell_type": "code",
   "execution_count": 2,
   "id": "bafd06df",
   "metadata": {},
   "outputs": [
    {
     "data": {
      "text/plain": [
       "[[9, 64, 21], [48, 45, 48], [30, 16, 3]]"
      ]
     },
     "execution_count": 2,
     "metadata": {},
     "output_type": "execute_result"
    }
   ],
   "source": [
    "matrix1 = [[1, 8, 3],\n",
    "           [6, 9, 6],\n",
    "           [5, 8, 3]]\n",
    "\n",
    "matrix2 = [[9, 8, 7],\n",
    "           [8, 5, 8],\n",
    "           [6, 2, 1]]\n",
    "rows = len(matrix1)\n",
    "cols = len(matrix1[0])\n",
    "# this will create a matrix of same order with 0 value \n",
    "result = [[0] * cols for i in range(rows)]\n",
    "    \n",
    "    # Add corresponding elements from the two matrices\n",
    "for i in range(rows):\n",
    "    for j in range(cols):\n",
    "        result[i][j] = matrix1[i][j] * matrix2[i][j]\n",
    "    \n",
    "result"
   ]
  },
  {
   "cell_type": "markdown",
   "id": "359dbd00",
   "metadata": {},
   "source": [
    "Ans of Q3"
   ]
  },
  {
   "cell_type": "code",
   "execution_count": 3,
   "id": "9b9b84a9",
   "metadata": {},
   "outputs": [],
   "source": [
    "def transpose(matrix):\n",
    "    row = len(matrix)\n",
    "    col = len(matrix[0])\n",
    "    result = [[0] * cols for i in range(rows)]\n",
    "    for i in range(row):\n",
    "        for j in range(col):\n",
    "            result[i][j] = matrix[j][i]\n",
    "    return result"
   ]
  },
  {
   "cell_type": "code",
   "execution_count": 4,
   "id": "8b20913c",
   "metadata": {},
   "outputs": [],
   "source": [
    "A = [[1, 2, 3],\n",
    "           [4, 5, 6],\n",
    "           [7, 8, 9]]"
   ]
  },
  {
   "cell_type": "code",
   "execution_count": 5,
   "id": "e25a933c",
   "metadata": {},
   "outputs": [
    {
     "data": {
      "text/plain": [
       "[[1, 4, 7], [2, 5, 8], [3, 6, 9]]"
      ]
     },
     "execution_count": 5,
     "metadata": {},
     "output_type": "execute_result"
    }
   ],
   "source": [
    "transpose(A)"
   ]
  },
  {
   "cell_type": "markdown",
   "id": "32365615",
   "metadata": {},
   "source": [
    "Ans of Q4"
   ]
  },
  {
   "cell_type": "code",
   "execution_count": 17,
   "id": "2081d1de",
   "metadata": {},
   "outputs": [],
   "source": [
    "def sort_words(words):\n",
    "    sorted_words = sorted(words)\n",
    "    print(\"Sorted Words:\")\n",
    "    for word in sorted_words:\n",
    "        print(word)\n"
   ]
  },
  {
   "cell_type": "code",
   "execution_count": 18,
   "id": "3ad63b1c",
   "metadata": {},
   "outputs": [],
   "source": [
    "word_list = [\"apple\", \"banana\", \"cherry\", \"date\", \"elderberry\"]"
   ]
  },
  {
   "cell_type": "code",
   "execution_count": 19,
   "id": "e1e5a093",
   "metadata": {},
   "outputs": [
    {
     "name": "stdout",
     "output_type": "stream",
     "text": [
      "Sorted Words:\n",
      "apple\n",
      "banana\n",
      "cherry\n",
      "date\n",
      "elderberry\n"
     ]
    }
   ],
   "source": [
    "sort_words(word_list)"
   ]
  },
  {
   "cell_type": "markdown",
   "id": "04714965",
   "metadata": {},
   "source": [
    "Ans of Q5"
   ]
  },
  {
   "cell_type": "code",
   "execution_count": 24,
   "id": "702b890d",
   "metadata": {},
   "outputs": [
    {
     "name": "stdout",
     "output_type": "stream",
     "text": [
      "Hello This program remove punctuations\n"
     ]
    }
   ],
   "source": [
    "punctuations = '''!()-[]{};:'\"\\,<>./?@#$%^&*_~'''\n",
    "\n",
    "my_str = \"Hello!!!, This program remove punctuations!!!.\"\n",
    "\n",
    "no_punct = \"\"\n",
    "for char in my_str:\n",
    "   if char not in punctuations:\n",
    "       no_punct = no_punct + char\n",
    "print(no_punct)\n"
   ]
  },
  {
   "cell_type": "code",
   "execution_count": null,
   "id": "f3eb933e",
   "metadata": {},
   "outputs": [],
   "source": []
  }
 ],
 "metadata": {
  "kernelspec": {
   "display_name": "Python 3 (ipykernel)",
   "language": "python",
   "name": "python3"
  },
  "language_info": {
   "codemirror_mode": {
    "name": "ipython",
    "version": 3
   },
   "file_extension": ".py",
   "mimetype": "text/x-python",
   "name": "python",
   "nbconvert_exporter": "python",
   "pygments_lexer": "ipython3",
   "version": "3.9.13"
  }
 },
 "nbformat": 4,
 "nbformat_minor": 5
}
