{
 "cells": [
  {
   "cell_type": "markdown",
   "id": "89714b7a",
   "metadata": {},
   "source": [
    "# Programming Assignment_13 Solution"
   ]
  },
  {
   "cell_type": "markdown",
   "id": "148a2ec9",
   "metadata": {},
   "source": [
    "Question 1:\n",
    "Write a program that calculates and prints the value according to the given formula:\n",
    "Q = Square root of [(2 * C * D)/H]\n",
    "Following are the fixed values of C and H:\n",
    "C is 50. H is 30.\n",
    "D is the variable whose values should be input to your program in a comma-separated\n",
    "sequence.\n",
    "Example\n",
    "Let us assume the following comma separated input sequence is given to the program:\n",
    "100,150,180\n",
    "The output of the program should be:\n",
    "18,22,24\n",
    "\n",
    "Question 2:\n",
    "Write a program which takes 2 digits, X,Y as input and generates a 2-dimensional array. The\n",
    "element value in the i-th row and j-th column of the array should be i*j.\n",
    "Note: i=0,1.., X-1; j=0,1,¡Y-1.\n",
    "Example\n",
    "Suppose the following inputs are given to the program:\n",
    "3,5\n",
    "Then, the output of the program should be:\n",
    "[[0, 0, 0, 0, 0], [0, 1, 2, 3, 4], [0, 2, 4, 6, 8]]\n",
    "\n",
    "Question 3:\n",
    "Write a program that accepts a comma separated sequence of words as input and prints the\n",
    "words in a comma-separated sequence after sorting them alphabetically.\n",
    "Suppose the following input is supplied to the program:\n",
    "without,hello,bag,world\n",
    "Then, the output should be:\n",
    "bag,hello,without,world\n",
    "\n",
    "Question 4:\n",
    "Write a program that accepts a sequence of whitespace separated words as input and prints\n",
    "the words after removing all duplicate words and sorting them alphanumerically.\n",
    "Suppose the following input is supplied to the program:\n",
    "hello world and practice makes perfect and hello world again\n",
    "Then, the output should be:\n",
    "again and hello makes perfect practice world\n",
    "\n",
    "Question 5:\n",
    "Write a program that accepts a sentence and calculate the number of letters and digits.\n",
    "Suppose the following input is supplied to the program:\n",
    "hello world! 123\n",
    "Then, the output should be:\n",
    "LETTERS 10\n",
    "\n",
    "DIGITS 3\n",
    "\n",
    "Question 6:\n",
    "A website requires the users to input username and password to register. Write a program to\n",
    "check the validity of password input by users.\n",
    "Following are the criteria for checking the password:\n",
    "1. At least 1 letter between [a-z]\n",
    "2. At least 1 number between [0-9]\n",
    "1. At least 1 letter between [A-Z]\n",
    "3. At least 1 character from [$#@]\n",
    "4. Minimum length of transaction password: 6\n",
    "5. Maximum length of transaction password: 12\n",
    "Your program should accept a sequence of comma separated passwords and will check them\n",
    "according to the above criteria. Passwords that match the criteria are to be printed, each\n",
    "separated by a comma.\n",
    "Example\n",
    "If the following passwords are given as input to the program:\n",
    "ABd1234@1,a F1#,2w3E*,2We3345\n",
    "Then, the output of the program should be:\n",
    "ABd1234@1"
   ]
  },
  {
   "cell_type": "markdown",
   "id": "f21f7e39",
   "metadata": {},
   "source": [
    "Ans of Q1"
   ]
  },
  {
   "cell_type": "code",
   "execution_count": 4,
   "id": "cb28a47b",
   "metadata": {},
   "outputs": [
    {
     "data": {
      "text/plain": [
       "list"
      ]
     },
     "execution_count": 4,
     "metadata": {},
     "output_type": "execute_result"
    }
   ],
   "source": [
    "sequence = \"45,25,45\"\n",
    "values = sequence.split(',')\n",
    "values\n",
    "type(values)"
   ]
  },
  {
   "cell_type": "code",
   "execution_count": 6,
   "id": "4e4fb5b6",
   "metadata": {},
   "outputs": [
    {
     "name": "stdout",
     "output_type": "stream",
     "text": [
      "18,22,24\n"
     ]
    }
   ],
   "source": [
    "import math\n",
    "\n",
    "def calculate_values(sequence):\n",
    "    result = []\n",
    "    C = 50\n",
    "    H = 30\n",
    "    \n",
    "    values = sequence.split(',')\n",
    "    \n",
    "    for i in values:\n",
    "        D = int(i)\n",
    "        Q = int(math.sqrt((2 * C * D)/H))\n",
    "        result.append(Q)\n",
    "        \n",
    "    # Join the result list into a comma-separated string\n",
    "    output = ','.join(str(q) for q in result)\n",
    "    return output\n",
    "\n",
    "input_sequence = \"100,150,180\"\n",
    "output_sequence = calculate_values(input_sequence)\n",
    "print(output_sequence)\n"
   ]
  },
  {
   "cell_type": "markdown",
   "id": "1fe37660",
   "metadata": {},
   "source": [
    "Ans of Q2"
   ]
  },
  {
   "cell_type": "code",
   "execution_count": 15,
   "id": "fcc6c3d7",
   "metadata": {},
   "outputs": [
    {
     "name": "stdout",
     "output_type": "stream",
     "text": [
      "[[0, 0, 0, 0, 0], [0, 1, 2, 3, 4], [0, 2, 4, 6, 8]]\n"
     ]
    }
   ],
   "source": [
    "def generate_array(x,y):\n",
    "    array =[]\n",
    "    \n",
    "    for i in range(x):\n",
    "        row = []\n",
    "        for j in range(y):\n",
    "            row.append(i*j)\n",
    "        array.append(row)\n",
    "            \n",
    "    return array\n",
    "    \n",
    "x = 3\n",
    "y = 5\n",
    "output_array = generate_array(x, y)\n",
    "print(output_array)\n",
    "            "
   ]
  },
  {
   "cell_type": "markdown",
   "id": "7aab76b1",
   "metadata": {},
   "source": [
    "Ans of Q3"
   ]
  },
  {
   "cell_type": "code",
   "execution_count": 17,
   "id": "e0171956",
   "metadata": {},
   "outputs": [
    {
     "name": "stdout",
     "output_type": "stream",
     "text": [
      "bag,hello,without,world\n"
     ]
    }
   ],
   "source": [
    "def sort_words(words):\n",
    "    split_words = words.split(',')\n",
    "    sorted_words = sorted(split_words)\n",
    "    return sorted_words\n",
    "\n",
    "input_sequence = 'without,hello,bag,world'\n",
    "sorted_sequence = sort_words(input_sequence)\n",
    "output_sequence = ','.join(sorted_sequence)\n",
    "print(output_sequence)\n",
    "    "
   ]
  },
  {
   "cell_type": "markdown",
   "id": "95b958b1",
   "metadata": {},
   "source": [
    "Ans of Q4"
   ]
  },
  {
   "cell_type": "code",
   "execution_count": 18,
   "id": "8053d95e",
   "metadata": {},
   "outputs": [
    {
     "name": "stdout",
     "output_type": "stream",
     "text": [
      "again and hello makes perfect practice world\n"
     ]
    }
   ],
   "source": [
    "def process_words(sequence):\n",
    "    words = sequence.split()\n",
    "    unique_words = list(set(words))\n",
    "    sorted_words = sorted(unique_words)\n",
    "    return sorted_words\n",
    "\n",
    "# Test the program with the given example input\n",
    "input_sequence = 'hello world and practice makes perfect and hello world again'\n",
    "processed_words = process_words(input_sequence)\n",
    "output_sequence = ' '.join(processed_words)\n",
    "print(output_sequence)\n"
   ]
  },
  {
   "cell_type": "markdown",
   "id": "c6d7f14c",
   "metadata": {},
   "source": [
    "Ans of Q5"
   ]
  },
  {
   "cell_type": "code",
   "execution_count": 25,
   "id": "afae9d2f",
   "metadata": {},
   "outputs": [
    {
     "name": "stdout",
     "output_type": "stream",
     "text": [
      "LETTERS 10\n",
      "DIGITS 3\n"
     ]
    }
   ],
   "source": [
    "def count_letters_and_digits(sentence):\n",
    "    letters = 0\n",
    "    digits = 0\n",
    "\n",
    "    for char in sentence:\n",
    "        if char.isalpha():\n",
    "            letters += 1\n",
    "        elif char.isdigit():\n",
    "            digits += 1\n",
    "\n",
    "    return letters, digits\n",
    "\n",
    "# Test the program with the given example input\n",
    "input_sentence = 'hello world! 123'\n",
    "letter_count, digit_count = count_letters_and_digits(input_sentence)\n",
    "print(\"LETTERS\", letter_count)\n",
    "print(\"DIGITS\", digit_count)\n"
   ]
  },
  {
   "cell_type": "code",
   "execution_count": 27,
   "id": "26287be4",
   "metadata": {},
   "outputs": [
    {
     "name": "stdout",
     "output_type": "stream",
     "text": [
      "ABd1234@1\n"
     ]
    }
   ],
   "source": [
    "import re\n",
    "\n",
    "def check_password_validity(password):\n",
    "    if len(password) < 6 or len(password) > 12:\n",
    "        return False\n",
    "\n",
    "    if not re.search(r\"[a-z]\", password):\n",
    "        return False\n",
    "\n",
    "    if not re.search(r\"[0-9]\", password):\n",
    "        return False\n",
    "\n",
    "    if not re.search(r\"[A-Z]\", password):\n",
    "        return False\n",
    "\n",
    "    if not re.search(r\"[$#@]\", password):\n",
    "        return False\n",
    "\n",
    "    return True\n",
    "\n",
    "# Test the program with the given example passwords\n",
    "passwords = \"ABd1234@1,a F1#,2w3E*,2We3345\"\n",
    "password_list = passwords.split(\",\")\n",
    "valid_passwords = []\n",
    "\n",
    "for password in password_list:\n",
    "    if check_password_validity(password):\n",
    "        valid_passwords.append(password)\n",
    "\n",
    "output = \",\".join(valid_passwords)\n",
    "print(output)\n"
   ]
  }
 ],
 "metadata": {
  "kernelspec": {
   "display_name": "Python 3 (ipykernel)",
   "language": "python",
   "name": "python3"
  },
  "language_info": {
   "codemirror_mode": {
    "name": "ipython",
    "version": 3
   },
   "file_extension": ".py",
   "mimetype": "text/x-python",
   "name": "python",
   "nbconvert_exporter": "python",
   "pygments_lexer": "ipython3",
   "version": "3.9.13"
  }
 },
 "nbformat": 4,
 "nbformat_minor": 5
}
