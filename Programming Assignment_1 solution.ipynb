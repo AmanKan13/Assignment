{
 "cells": [
  {
   "cell_type": "markdown",
   "id": "f17ecf83",
   "metadata": {},
   "source": [
    "Q1. Write a Python program to print \"Hello Python\"?"
   ]
  },
  {
   "cell_type": "code",
   "execution_count": 2,
   "id": "eb88dd95",
   "metadata": {},
   "outputs": [
    {
     "name": "stdout",
     "output_type": "stream",
     "text": [
      "Hello Python\n"
     ]
    }
   ],
   "source": [
    "#Ans 1.\n",
    "print(\"Hello Python\")"
   ]
  },
  {
   "cell_type": "markdown",
   "id": "2fc6f715",
   "metadata": {},
   "source": [
    "Q2. Write a Python program to do arithmetical operations addition and division.?"
   ]
  },
  {
   "cell_type": "code",
   "execution_count": 11,
   "id": "0b56928e",
   "metadata": {},
   "outputs": [
    {
     "name": "stdout",
     "output_type": "stream",
     "text": [
      "enter your first number :500\n",
      "enter your second number :20\n",
      "Addition of 500 and 20 is 520\n",
      "Division of 500 and 20 is 25\n"
     ]
    }
   ],
   "source": [
    "#Ans 2.\n",
    "\n",
    "num1 = int(input(\"enter your first number :\"))\n",
    "num2 = int(input(\"enter your second number :\"))\n",
    "\n",
    "Addition = num1+num2\n",
    "\n",
    "division = num1/num2\n",
    "\n",
    "print(f\"Addition of {num1} and {num2} is {Addition}\")\n",
    "\n",
    "print(f\"Division of {num1} and {num2} is {int(division)}\")\n",
    "\n"
   ]
  },
  {
   "cell_type": "markdown",
   "id": "44146ed7",
   "metadata": {},
   "source": [
    "Q3. Write a Python program to find the area of a triangle?"
   ]
  },
  {
   "cell_type": "code",
   "execution_count": 15,
   "id": "5dee4de9",
   "metadata": {},
   "outputs": [
    {
     "name": "stdout",
     "output_type": "stream",
     "text": [
      "enter the base of triangle in CM :5\n",
      "enter the hieght of triangle in CM :5\n",
      "Area of triangle with base 5 & hieght 5 is 12.5 cm sq \n"
     ]
    }
   ],
   "source": [
    "#Ans 3.\n",
    "triange_base = int(input(\"enter the base of triangle in CM :\"))\n",
    "triange_Hight = int(input(\"enter the hieght of triangle in CM :\"))\n",
    "\n",
    "Area_Triangle = 0.5* triange_base*triange_Hight\n",
    "\n",
    "print(f\"Area of triangle with base {triange_base} & hieght {triange_Hight} is {Area_Triangle} cm sq \")"
   ]
  },
  {
   "cell_type": "markdown",
   "id": "07740916",
   "metadata": {},
   "source": [
    "Q4. Write a Python program to swap two variables?"
   ]
  },
  {
   "cell_type": "code",
   "execution_count": 17,
   "id": "734fa9db",
   "metadata": {},
   "outputs": [
    {
     "name": "stdout",
     "output_type": "stream",
     "text": [
      "amit aman\n"
     ]
    }
   ],
   "source": [
    "v1 = \"aman\"\n",
    "v2 = \"amit\"\n",
    "if v1 != v2:\n",
    "    v3=v1\n",
    "    v1=v2\n",
    "    v2=v3\n",
    "print(v1,v2)"
   ]
  },
  {
   "cell_type": "markdown",
   "id": "1a26d016",
   "metadata": {},
   "source": [
    "Q5. Write a Python program to generate a random number?"
   ]
  },
  {
   "cell_type": "code",
   "execution_count": 22,
   "id": "c785a1bd",
   "metadata": {},
   "outputs": [
    {
     "name": "stdout",
     "output_type": "stream",
     "text": [
      "33\n"
     ]
    }
   ],
   "source": [
    "import random  \n",
    "n = random.randint(0,50) \n",
    "print(n) "
   ]
  },
  {
   "cell_type": "code",
   "execution_count": null,
   "id": "eb36e04a",
   "metadata": {},
   "outputs": [],
   "source": []
  }
 ],
 "metadata": {
  "kernelspec": {
   "display_name": "Python 3 (ipykernel)",
   "language": "python",
   "name": "python3"
  },
  "language_info": {
   "codemirror_mode": {
    "name": "ipython",
    "version": 3
   },
   "file_extension": ".py",
   "mimetype": "text/x-python",
   "name": "python",
   "nbconvert_exporter": "python",
   "pygments_lexer": "ipython3",
   "version": "3.9.13"
  }
 },
 "nbformat": 4,
 "nbformat_minor": 5
}
