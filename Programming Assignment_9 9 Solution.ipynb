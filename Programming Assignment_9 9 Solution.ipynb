{
 "cells": [
  {
   "cell_type": "markdown",
   "id": "580a2f5b",
   "metadata": {},
   "source": [
    "# Programming Assignment_9 Solution"
   ]
  },
  {
   "cell_type": "markdown",
   "id": "170a9457",
   "metadata": {},
   "source": [
    "Q1 Write a Python program to check if the given number is a Disarium Number?\n",
    "\n",
    "Q2. Write a Python program to print all disarium numbers between 1 to 100?\n",
    "\n",
    "Q3. Write a Python program to check if the given number is Happy Number?\n",
    "\n",
    "Q4. Write a Python program to print all happy numbers between 1 and 100?\n",
    "\n",
    "Q5. Write a Python program to determine whether the given number is a Harshad Number?\n",
    "\n",
    "Q6. Write a Python program to print all pronic numbers between 1 and 100?"
   ]
  },
  {
   "cell_type": "markdown",
   "id": "24774fe1",
   "metadata": {},
   "source": [
    "Ans of Q1"
   ]
  },
  {
   "cell_type": "code",
   "execution_count": 1,
   "id": "9c5b495d",
   "metadata": {},
   "outputs": [
    {
     "name": "stdout",
     "output_type": "stream",
     "text": [
      "Enter a number: 175\n",
      "175 is a Disarium Number\n"
     ]
    }
   ],
   "source": [
    "def isdisarium(num):\n",
    "    \n",
    "    string_Number = str(num)\n",
    "    lenght = len(string_Number)\n",
    "    sum_of_digit = 0\n",
    "    \n",
    "    for i in range(lenght):\n",
    "        digit = int(string_Number[i])\n",
    "        sum_of_digit += digit**(i+1)\n",
    "\n",
    "    if sum_of_digit == num:\n",
    "        return True\n",
    "    else:\n",
    "        return False\n",
    "number = int(input(\"Enter a number: \"))\n",
    "if isdisarium(number):\n",
    "    print(f'{number} is a Disarium Number')\n",
    "else:\n",
    "    print(f'{number} is not a Disarium Number')\n"
   ]
  },
  {
   "cell_type": "markdown",
   "id": "425e280a",
   "metadata": {},
   "source": [
    "Ans of Q2\n"
   ]
  },
  {
   "cell_type": "code",
   "execution_count": 2,
   "id": "e7148110",
   "metadata": {},
   "outputs": [
    {
     "name": "stdout",
     "output_type": "stream",
     "text": [
      "1\n",
      "2\n",
      "3\n",
      "4\n",
      "5\n",
      "6\n",
      "7\n",
      "8\n",
      "9\n",
      "89\n"
     ]
    }
   ],
   "source": [
    "def isdisarium(num):\n",
    "    \n",
    "    string_Number = str(num)\n",
    "    lenght = len(string_Number)\n",
    "    sum_of_digit = 0\n",
    "    \n",
    "    for i in range(lenght):\n",
    "        digit = int(string_Number[i])\n",
    "        sum_of_digit += digit**(i+1)\n",
    "\n",
    "    if sum_of_digit == num:\n",
    "        return True\n",
    "    else:\n",
    "        return False\n",
    "\n",
    "for i in range(1,100):\n",
    "    if isdisarium(i):\n",
    "        print(i)"
   ]
  },
  {
   "cell_type": "markdown",
   "id": "84dcb117",
   "metadata": {},
   "source": [
    "Ans of Q3"
   ]
  },
  {
   "cell_type": "code",
   "execution_count": 7,
   "id": "52d3258c",
   "metadata": {},
   "outputs": [
    {
     "name": "stdout",
     "output_type": "stream",
     "text": [
      "Enter a number: 20\n",
      "20 is not a Happy number.\n"
     ]
    }
   ],
   "source": [
    "def is_happy_number(number):\n",
    "    seen_numbers = set()\n",
    "    while number != 1:\n",
    "        # Calculate the sum of squares of digits\n",
    "        number = sum(int(digit) ** 2 for digit in str(number))\n",
    "        \n",
    "        # If number is already seen, it will result in an infinite loop\n",
    "        if number in seen_numbers:\n",
    "            return False\n",
    "        \n",
    "        # Add current number to the set of seen numbers\n",
    "        seen_numbers.add(number)\n",
    "\n",
    "    return True\n",
    "\n",
    "\n",
    "number = int(input(\"Enter a number: \"))\n",
    "if is_happy_number(number):\n",
    "    print(number, \"is a Happy number.\")\n",
    "else:\n",
    "    print(number, \"is not a Happy number.\")\n"
   ]
  },
  {
   "cell_type": "markdown",
   "id": "a9aaa4fa",
   "metadata": {},
   "source": [
    "Ans of Q4"
   ]
  },
  {
   "cell_type": "code",
   "execution_count": 10,
   "id": "a1028c71",
   "metadata": {},
   "outputs": [
    {
     "name": "stdout",
     "output_type": "stream",
     "text": [
      "1\n",
      "7\n",
      "10\n",
      "13\n",
      "19\n",
      "23\n",
      "28\n",
      "31\n",
      "32\n",
      "44\n",
      "49\n",
      "68\n",
      "70\n",
      "79\n",
      "82\n",
      "86\n",
      "91\n",
      "94\n",
      "97\n"
     ]
    }
   ],
   "source": [
    "def is_happy_number(number):\n",
    "    seen_numbers = set()\n",
    "    while number != 1:\n",
    "        # Calculate the sum of squares of digits\n",
    "        number = sum(int(digit) ** 2 for digit in str(number))\n",
    "        \n",
    "        # If number is already seen, it will result in an infinite loop\n",
    "        if number in seen_numbers:\n",
    "            return False\n",
    "        \n",
    "        # Add current number to the set of seen numbers\n",
    "        seen_numbers.add(number)\n",
    "\n",
    "    return True\n",
    "\n",
    "\n",
    "for i in range(1,100):\n",
    "    if is_happy_number(i):\n",
    "        print(i)"
   ]
  },
  {
   "cell_type": "markdown",
   "id": "26377dc5",
   "metadata": {},
   "source": [
    "Ans of Q5"
   ]
  },
  {
   "cell_type": "code",
   "execution_count": 12,
   "id": "c4ac9a65",
   "metadata": {},
   "outputs": [
    {
     "name": "stdout",
     "output_type": "stream",
     "text": [
      "Enter a number: 18\n",
      "18 is a Harshad number.\n"
     ]
    }
   ],
   "source": [
    "def is_harshad_number(number):\n",
    "    sum_of_digits = sum(int(digit) for digit in str(number))\n",
    "    return number % sum_of_digits == 0\n",
    "\n",
    "# Test the function\n",
    "number = int(input(\"Enter a number: \"))\n",
    "if is_harshad_number(number):\n",
    "    print(number, \"is a Harshad number.\")\n",
    "else:\n",
    "    print(number, \"is not a Harshad number.\")\n"
   ]
  },
  {
   "cell_type": "markdown",
   "id": "015c7834",
   "metadata": {},
   "source": [
    "Ans of Q6"
   ]
  },
  {
   "cell_type": "code",
   "execution_count": 26,
   "id": "ff5b07e5",
   "metadata": {},
   "outputs": [
    {
     "data": {
      "text/plain": [
       "[0, 2, 6, 12, 20, 30, 42, 56, 72, 90]"
      ]
     },
     "execution_count": 26,
     "metadata": {},
     "output_type": "execute_result"
    }
   ],
   "source": [
    "def pronic_number():\n",
    "    pronic_numbers = []\n",
    "    \n",
    "    for i in range(100):\n",
    "        new_num = i*(i+1)\n",
    "        if new_num>100:\n",
    "            break\n",
    "        else:\n",
    "            pronic_numbers.append(new_num)\n",
    "    return pronic_numbers\n",
    "pronic_number()"
   ]
  }
 ],
 "metadata": {
  "kernelspec": {
   "display_name": "Python 3 (ipykernel)",
   "language": "python",
   "name": "python3"
  },
  "language_info": {
   "codemirror_mode": {
    "name": "ipython",
    "version": 3
   },
   "file_extension": ".py",
   "mimetype": "text/x-python",
   "name": "python",
   "nbconvert_exporter": "python",
   "pygments_lexer": "ipython3",
   "version": "3.9.13"
  }
 },
 "nbformat": 4,
 "nbformat_minor": 5
}
