{
 "cells": [
  {
   "cell_type": "markdown",
   "id": "0dbadcc7",
   "metadata": {},
   "source": [
    "# Assignment_14 Solution"
   ]
  },
  {
   "cell_type": "markdown",
   "id": "0bdb0c3c",
   "metadata": {},
   "source": [
    "Q1. What does RGBA stand for?\n",
    "\n",
    "Q2. From the Pillow module, how do you get the RGBA value of any images?\n",
    "\n",
    "Q3. What is a box tuple, and how does it work?\n",
    "\n",
    "Q4. Use your image and load in notebook then, How can you find out \n",
    "the width and height of an\n",
    "Image object?\n",
    "\n",
    "Q5. What method would you call to get Image object for a 100×100 image, excluding the lower-left\n",
    "quarter of it?\n",
    "\n",
    "Q6. After making changes to an Image object, how could you save it as an image file?\n",
    "\n",
    "Q7. What module contains Pillow’s shape-drawing code?\n",
    "\n",
    "Q8. Image objects do not have drawing methods. What kind of object does? How do you get this kind\n",
    "of object?"
   ]
  },
  {
   "cell_type": "markdown",
   "id": "a673c181",
   "metadata": {},
   "source": [
    "Ans of Q1"
   ]
  },
  {
   "cell_type": "markdown",
   "id": "fc3df5d1",
   "metadata": {},
   "source": [
    "RGBA stands for Red Green Blue Alpha. It is a color model used to represent colors in computer graphics and image processing."
   ]
  },
  {
   "cell_type": "markdown",
   "id": "2718199f",
   "metadata": {},
   "source": [
    "Ans of Q2"
   ]
  },
  {
   "cell_type": "markdown",
   "id": "5150f03a",
   "metadata": {},
   "source": [
    "The Pillow module, you can use the getdata() method of an image object to retrieve the RGBA (Red, Green, Blue, Alpha) values of each pixel in the image"
   ]
  },
  {
   "cell_type": "code",
   "execution_count": 69,
   "id": "341a18e7",
   "metadata": {},
   "outputs": [
    {
     "name": "stdout",
     "output_type": "stream",
     "text": [
      "(0, 0, 0, 0)\n"
     ]
    }
   ],
   "source": [
    "from PIL import Image\n",
    "\n",
    "# Open an image file\n",
    "image = Image.open('BI.png')\n",
    "\n",
    "# Get the RGBA values of each pixel in the image\n",
    "pixel_data = image.getdata()\n",
    "\n",
    "# Print the RGBA values for the first pixel\n",
    "rgba = pixel_data[0]\n",
    "print(rgba)  # Output: (R, G, B, A)\n"
   ]
  },
  {
   "cell_type": "markdown",
   "id": "68cfd6a2",
   "metadata": {},
   "source": [
    "Ans of Q3"
   ]
  },
  {
   "cell_type": "markdown",
   "id": "4abf62fb",
   "metadata": {},
   "source": [
    "A \"box tuple\" refers to a tuple that represents a rectangular region or bounding box in an image. It typically consists of four values: (x1, y1, x2, y2), where (x1, y1) represents the coordinates of the top-left corner of the box, and (x2, y2) represents the coordinates of the bottom-right corner of the box.\n",
    " \n",
    "(x1, y1): These coordinates represent the top-left corner of the bounding box. The x1 value corresponds to the horizontal position (from left to right) of the top-left corner, and the y1 value corresponds to the vertical position (from top to bottom) of the top-left corner.\n",
    "\n",
    "(x2, y2): These coordinates represent the bottom-right corner of the bounding box. The x2 value corresponds to the horizontal position of the bottom-right corner, and the y2 value corresponds to the vertical position of the bottom-right corner.\n"
   ]
  },
  {
   "cell_type": "markdown",
   "id": "e5106d68",
   "metadata": {},
   "source": [
    "Ans of Q4"
   ]
  },
  {
   "cell_type": "markdown",
   "id": "c7ca0d7f",
   "metadata": {},
   "source": [
    "To find out the width and height of an Image object in a Jupyter Notebook, you can use the Pillow library (PIL) in Python. "
   ]
  },
  {
   "cell_type": "code",
   "execution_count": 42,
   "id": "bc37fcf1",
   "metadata": {},
   "outputs": [
    {
     "name": "stdout",
     "output_type": "stream",
     "text": [
      "Width:  512\n",
      "Height:  512\n"
     ]
    }
   ],
   "source": [
    "from PIL import Image\n",
    "\n",
    "# Load the image\n",
    "image = Image.open('BI.png')\n",
    "\n",
    "# Get the width and height of the image\n",
    "width, height = image.size\n",
    "\n",
    "# Print the width and height\n",
    "print(\"Width: \", width)\n",
    "print(\"Height: \", height)\n"
   ]
  },
  {
   "cell_type": "markdown",
   "id": "d026a8ae",
   "metadata": {},
   "source": [
    "Ans of Q5"
   ]
  },
  {
   "cell_type": "markdown",
   "id": "0d46adb2",
   "metadata": {},
   "source": [
    "To obtain an Image object for a 100x100 image, excluding the lower-left quarter of it, you can use the crop() method from the Pillow library (PIL) in Python."
   ]
  },
  {
   "cell_type": "code",
   "execution_count": 73,
   "id": "a6fda65a",
   "metadata": {},
   "outputs": [],
   "source": [
    "from PIL import Image\n",
    "\n",
    "# Load the original image\n",
    "image = Image.open('BI.png')\n",
    "\n",
    "# Define the coordinates for the upper-left and lower-right corners of the region to keep\n",
    "x1 = 10\n",
    "y1 = 10\n",
    "x2 = 540\n",
    "y2 = 540\n",
    "\n",
    "# Crop the image to exclude the lower-left quarter\n",
    "cropped_image = image.crop((x1, y1, x2, y2))\n",
    "\n",
    "# Display the cropped image\n",
    "cropped_image.show()\n"
   ]
  },
  {
   "cell_type": "markdown",
   "id": "57e8f115",
   "metadata": {},
   "source": [
    "Ans of Q6"
   ]
  },
  {
   "cell_type": "markdown",
   "id": "ad41425b",
   "metadata": {},
   "source": [
    "After making changes to an Image object using the Pillow library (PIL) in Python, you can save it as an image file using the save() method. "
   ]
  },
  {
   "cell_type": "code",
   "execution_count": 59,
   "id": "b04c4c00",
   "metadata": {},
   "outputs": [],
   "source": [
    "from PIL import Image\n",
    "\n",
    "# Load the original image\n",
    "image = Image.open('BI.png')\n",
    "\n",
    "# Make changes to the image (e.g., cropping, resizing, filtering, etc.)\n",
    "\n",
    "# Save the modified image as a new file\n",
    "image.save('new_image.png')\n"
   ]
  },
  {
   "cell_type": "markdown",
   "id": "a296c6bc",
   "metadata": {},
   "source": [
    "Ans of Q7"
   ]
  },
  {
   "cell_type": "markdown",
   "id": "abe81d66",
   "metadata": {},
   "source": [
    "Pillow's shape-drawing code is contained within the ImageDraw module. This module provides functionality for drawing various shapes, such as lines, rectangles, circles, polygons, and text, on an Image object"
   ]
  },
  {
   "cell_type": "code",
   "execution_count": 74,
   "id": "cefc4395",
   "metadata": {},
   "outputs": [],
   "source": [
    "from PIL import Image, ImageDraw\n",
    "\n",
    "# Create a new image\n",
    "image = Image.new('RGB', (500, 500), (255, 255, 255))\n",
    "\n",
    "# Create an ImageDraw object\n",
    "draw = ImageDraw.Draw(image)\n",
    "\n",
    "# Draw a rectangle\n",
    "rectangle_coords = (50, 500, 200, 200)\n",
    "draw.rectangle(rectangle_coords, outline='red')\n",
    "\n",
    "# Save the image\n",
    "image.save('drawn_image.jpg')\n"
   ]
  },
  {
   "cell_type": "markdown",
   "id": "fe4766d4",
   "metadata": {},
   "source": [
    "Ans of Q8"
   ]
  },
  {
   "cell_type": "markdown",
   "id": "cfd3253c",
   "metadata": {},
   "source": [
    "Image objects in the Pillow library do not have drawing methods. Instead, you need to use the ImageDraw module to perform drawing operations on an Image object. The ImageDraw module provides the necessary functionality for drawing shapes, lines, and text on an image."
   ]
  },
  {
   "cell_type": "code",
   "execution_count": 75,
   "id": "eede85ba",
   "metadata": {},
   "outputs": [],
   "source": [
    "from PIL import Image, ImageDraw\n",
    "\n",
    "# Load the image\n",
    "image = Image.open('BI.png')\n",
    "\n",
    "# Create an ImageDraw object\n",
    "draw = ImageDraw.Draw(image)\n",
    "\n",
    "# Use the ImageDraw object to perform drawing operations\n",
    "# For example, draw a rectangle\n",
    "rectangle_coords = (50, 50, 200, 200)\n",
    "draw.rectangle(rectangle_coords, outline='blue')\n",
    "\n",
    "# Save or display the modified image\n",
    "image.save('modified_image.png')\n"
   ]
  },
  {
   "cell_type": "code",
   "execution_count": null,
   "id": "738319af",
   "metadata": {},
   "outputs": [],
   "source": []
  }
 ],
 "metadata": {
  "kernelspec": {
   "display_name": "Python 3 (ipykernel)",
   "language": "python",
   "name": "python3"
  },
  "language_info": {
   "codemirror_mode": {
    "name": "ipython",
    "version": 3
   },
   "file_extension": ".py",
   "mimetype": "text/x-python",
   "name": "python",
   "nbconvert_exporter": "python",
   "pygments_lexer": "ipython3",
   "version": "3.9.13"
  }
 },
 "nbformat": 4,
 "nbformat_minor": 5
}
