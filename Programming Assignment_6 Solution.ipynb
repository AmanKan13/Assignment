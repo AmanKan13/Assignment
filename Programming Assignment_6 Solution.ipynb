{
 "cells": [
  {
   "cell_type": "markdown",
   "id": "71f6cffe",
   "metadata": {},
   "source": [
    "# Programming Assignmen 6"
   ]
  },
  {
   "cell_type": "markdown",
   "id": "61e21a35",
   "metadata": {},
   "source": [
    "1. Write a Python Program to Display Fibonacci Sequence Using Recursion?\n",
    "2. Write a Python Program to Find Factorial of Number Using Recursion?\n",
    "3. Write a Python Program to calculate your Body Mass Index?\n",
    "4. Write a Python Program to calculate the natural logarithm of any number?\n",
    "5. Write a Python Program for cube sum of first n natural numbers?"
   ]
  },
  {
   "cell_type": "markdown",
   "id": "4cfed5bc",
   "metadata": {},
   "source": [
    "Ans of Q1"
   ]
  },
  {
   "cell_type": "code",
   "execution_count": 1,
   "id": "3f3f157b",
   "metadata": {},
   "outputs": [
    {
     "name": "stdout",
     "output_type": "stream",
     "text": [
      "How many terms do you want to display? 5\n",
      "Fibonacci sequence:\n",
      "0\n",
      "1\n",
      "1\n",
      "2\n",
      "3\n"
     ]
    }
   ],
   "source": [
    "def fibonacci(n):\n",
    "    if n <= 1:\n",
    "        return n\n",
    "    else:\n",
    "        return (fibonacci(n - 1) + fibonacci(n - 2))\n",
    "\n",
    "n = int(input(\"How many terms do you want to display? \"))\n",
    "\n",
    "\n",
    "if n <= 0:\n",
    "    print(\"Please enter a positive integer.\")\n",
    "else:\n",
    "    print(\"Fibonacci sequence:\")\n",
    "    for i in range(n):\n",
    "        print(fibonacci(i))\n"
   ]
  },
  {
   "cell_type": "markdown",
   "id": "74eafd53",
   "metadata": {},
   "source": [
    "Ans of Q2"
   ]
  },
  {
   "cell_type": "code",
   "execution_count": 2,
   "id": "85e8bdd2",
   "metadata": {},
   "outputs": [
    {
     "name": "stdout",
     "output_type": "stream",
     "text": [
      "Enter a positive integer: 12\n",
      "The factorial of 12 is 479001600.\n"
     ]
    }
   ],
   "source": [
    "def factorial(n):\n",
    "    if n == 0:\n",
    "        return 1\n",
    "    else:\n",
    "        return n * factorial(n-1)\n",
    "\n",
    "n = int(input(\"Enter a positive integer: \"))\n",
    "\n",
    "if n < 0:\n",
    "    print(\"Factorial is not defined for negative integers.\")\n",
    "elif n == 0:\n",
    "    print(\"The factorial of 0 is 1.\")\n",
    "else:\n",
    "    print(f\"The factorial of {n} is {factorial(n)}.\")\n"
   ]
  },
  {
   "cell_type": "markdown",
   "id": "74873c6f",
   "metadata": {},
   "source": [
    "Ans of Q3"
   ]
  },
  {
   "cell_type": "code",
   "execution_count": 3,
   "id": "3ede402a",
   "metadata": {},
   "outputs": [
    {
     "name": "stdout",
     "output_type": "stream",
     "text": [
      "Enter your weight in kilograms: 5\n",
      "Enter your height in meters: 2\n",
      "Your BMI is 1.25.\n"
     ]
    }
   ],
   "source": [
    "weight = float(input(\"Enter your weight in kilograms: \"))\n",
    "height = float(input(\"Enter your height in meters: \"))\n",
    "\n",
    "bmi = weight / (height ** 2)\n",
    "\n",
    "print(f\"Your BMI is {bmi:.2f}.\")\n"
   ]
  },
  {
   "cell_type": "markdown",
   "id": "c96b987d",
   "metadata": {},
   "source": [
    "Ans of Q4"
   ]
  },
  {
   "cell_type": "code",
   "execution_count": 4,
   "id": "95b0d5e1",
   "metadata": {},
   "outputs": [
    {
     "name": "stdout",
     "output_type": "stream",
     "text": [
      "Enter a positive number: 5\n",
      "The natural logarithm of 5.0 is 1.61.\n"
     ]
    }
   ],
   "source": [
    "import math\n",
    "\n",
    "x = float(input(\"Enter a positive number: \"))\n",
    "\n",
    "if x <= 0:\n",
    "    print(\"Natural logarithm is not defined for non-positive numbers.\")\n",
    "else:\n",
    "    ln_x = math.log(x)\n",
    "\n",
    "    print(f\"The natural logarithm of {x} is {ln_x:.2f}.\")\n"
   ]
  },
  {
   "cell_type": "markdown",
   "id": "8d222d79",
   "metadata": {},
   "source": [
    "Ans of Q5"
   ]
  },
  {
   "cell_type": "code",
   "execution_count": 9,
   "id": "839f863e",
   "metadata": {},
   "outputs": [
    {
     "name": "stdout",
     "output_type": "stream",
     "text": [
      "Enter a Natural number: 5\n",
      "The cube sum of first 5 natural number is 225\n"
     ]
    }
   ],
   "source": [
    "cube_sum = 0\n",
    "\n",
    "x = int(input(\"Enter a Natural number: \"))\n",
    "\n",
    "for i in range(1,x+1):\n",
    "    cube_sum = cube_sum + i**3\n",
    "    \n",
    "print(f\"The cube sum of first {x} natural number is {cube_sum}\")"
   ]
  }
 ],
 "metadata": {
  "kernelspec": {
   "display_name": "Python 3 (ipykernel)",
   "language": "python",
   "name": "python3"
  },
  "language_info": {
   "codemirror_mode": {
    "name": "ipython",
    "version": 3
   },
   "file_extension": ".py",
   "mimetype": "text/x-python",
   "name": "python",
   "nbconvert_exporter": "python",
   "pygments_lexer": "ipython3",
   "version": "3.9.13"
  }
 },
 "nbformat": 4,
 "nbformat_minor": 5
}
