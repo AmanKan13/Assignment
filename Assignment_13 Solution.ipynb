{
 "cells": [
  {
   "cell_type": "markdown",
   "id": "0dbadcc7",
   "metadata": {},
   "source": [
    "# Assignment_13 Solution"
   ]
  },
  {
   "cell_type": "markdown",
   "id": "b9c4c85b",
   "metadata": {},
   "source": [
    "Q1. What advantages do Excel spreadsheets have over CSV spreadsheets?\n",
    "\n",
    "Q2.What do you pass to csv.reader() and csv.writer() to create reader and writer objects?\n",
    "\n",
    "Q3. What modes do File objects for reader and writer objects need to be opened in?\n",
    "\n",
    "Q4. What method takes a list argument and writes it to a CSV file?\n",
    "\n",
    "Q5. What do the keyword arguments delimiter and line terminator do?\n",
    "\n",
    "Q6. What function takes a string of JSON data and returns a Python data structure?\n",
    "\n",
    "Q7. What function takes a Python data structure and returns a string of JSON data?"
   ]
  },
  {
   "cell_type": "markdown",
   "id": "55562d39",
   "metadata": {},
   "source": [
    "Ans of Q1"
   ]
  },
  {
   "cell_type": "markdown",
   "id": "14cb317b",
   "metadata": {},
   "source": [
    "The advantages do Excel spreadsheets have over CSV spreadsheets are:\n",
    "1. Structured Data: Excel spreadsheets support a structured format with rows and columns, allowing you to organize and manage data more effectively. CSV files are simple text files with no inherent structure, containing only raw data separated by commas.\n",
    "\n",
    "2. Data Formatting: Excel allows you to apply various formatting options to your data, such as changing fonts, applying styles, adding conditional formatting, and more. This formatting capability makes it easier to present and interpret data visually. CSV files only contain raw data without any formatting options.\n",
    "\n",
    "3. Data Validation: Excel offers data validation features, allowing you to define rules and restrictions on the data entered in cells. You can set up validation rules to ensure data integrity, consistency, and accuracy. CSV files do not have built-in data validation features."
   ]
  },
  {
   "cell_type": "markdown",
   "id": "9ee46374",
   "metadata": {},
   "source": [
    "Ans of Q2"
   ]
  },
  {
   "cell_type": "markdown",
   "id": "62aa5254",
   "metadata": {},
   "source": [
    "csv.reader() function, you typically pass an open file object (obtained using the open() function) that represents the CSV file you want to read.\n"
   ]
  },
  {
   "cell_type": "code",
   "execution_count": 8,
   "id": "3ffebe34",
   "metadata": {},
   "outputs": [],
   "source": [
    "import csv\n",
    "\n",
    "# Open the CSV file in read mode\n",
    "csv_file = open('sample.csv', 'r')\n",
    "\n",
    "# Create a reader object\n",
    "reader = csv.reader(csv_file)\n",
    "\n",
    "# Perform operations with the reader object\n",
    "\n",
    "# Close the file\n",
    "csv_file.close()"
   ]
  },
  {
   "cell_type": "markdown",
   "id": "0a34d09f",
   "metadata": {},
   "source": [
    "csv.writer() function, you pass an open file object (obtained using the open() function) that represents the CSV file where you want to write data. "
   ]
  },
  {
   "cell_type": "code",
   "execution_count": 9,
   "id": "73646f9e",
   "metadata": {},
   "outputs": [],
   "source": [
    "import csv\n",
    "\n",
    "# Open the CSV file in write mode\n",
    "csv_file = open('output.csv', 'w')\n",
    "\n",
    "# Create a writer object\n",
    "writer = csv.writer(csv_file)\n",
    "\n",
    "# Perform operations with the writer object\n",
    "\n",
    "# Close the file\n",
    "csv_file.close()"
   ]
  },
  {
   "cell_type": "markdown",
   "id": "689fa99a",
   "metadata": {},
   "source": [
    "Ans of Q3"
   ]
  },
  {
   "cell_type": "markdown",
   "id": "30db3853",
   "metadata": {},
   "source": [
    "Reader Object:\n",
    "The file object used with csv.reader() should be opened in read mode ('r')."
   ]
  },
  {
   "cell_type": "markdown",
   "id": "3bd2a633",
   "metadata": {},
   "source": [
    "Writer Object:\n",
    "The file object used with csv.writer() should be opened in write mode ('w') or append mode ('a')."
   ]
  },
  {
   "cell_type": "markdown",
   "id": "bc36022e",
   "metadata": {},
   "source": [
    "Ans of Q4"
   ]
  },
  {
   "cell_type": "markdown",
   "id": "b8cb0fa2",
   "metadata": {},
   "source": [
    "The writerow() method of a csv.writer object is used to write a list of values to a CSV file. Each element in the list represents a cell value in the CSV file."
   ]
  },
  {
   "cell_type": "code",
   "execution_count": 17,
   "id": "1f67f956",
   "metadata": {},
   "outputs": [],
   "source": [
    "import csv\n",
    "\n",
    "# Open the CSV file in write mode\n",
    "with open('output.csv', 'w') as csv_file:\n",
    "    writer = csv.writer(csv_file)\n",
    "\n",
    "    # Write a list of values to the CSV file\n",
    "    data_row = ['John', 'Doe', 25]\n",
    "    writer.writerow(data_row)\n",
    "\n",
    "    # Write another list of values to the CSV file\n",
    "    another_row = ['Jane', 'Smith', 30]\n",
    "    writer.writerow(another_row)\n",
    "   \n",
    "\n",
    "    \n"
   ]
  },
  {
   "cell_type": "markdown",
   "id": "a225001c",
   "metadata": {},
   "source": [
    "Ans of Q5"
   ]
  },
  {
   "cell_type": "markdown",
   "id": "e8dc006c",
   "metadata": {},
   "source": [
    "Delimiter (delimiter):\n",
    "\n",
    "The delimiter argument specifies the character or string used to separate individual fields (values) within a CSV row.\n",
    "By default, the delimiter is a comma (,), which is why CSV files are often referred to as comma-separated values."
   ]
  },
  {
   "cell_type": "markdown",
   "id": "9b9977dd",
   "metadata": {},
   "source": [
    "Line Terminator (lineterminator):\n",
    "\n",
    "The lineterminator argument specifies the character or string used to terminate each line (row) in the CSV file.\n",
    "By default, the line terminator is the platform-specific newline character ('\\n' on Unix/Linux, '\\r\\n' on Windows)."
   ]
  },
  {
   "cell_type": "markdown",
   "id": "2834185e",
   "metadata": {},
   "source": [
    "Ans of Q6"
   ]
  },
  {
   "cell_type": "markdown",
   "id": "698d7336",
   "metadata": {},
   "source": [
    "The json.loads() function in Python is used to parse a string containing JSON data and convert it into a corresponding Python data structure. "
   ]
  },
  {
   "cell_type": "code",
   "execution_count": 21,
   "id": "a58b5cc7",
   "metadata": {},
   "outputs": [
    {
     "name": "stdout",
     "output_type": "stream",
     "text": [
      "John\n",
      "30\n",
      "New York\n"
     ]
    }
   ],
   "source": [
    "import json\n",
    "\n",
    "# JSON string\n",
    "json_data = '{\"name\": \"John\", \"age\": 30, \"city\": \"New York\"}'\n",
    "\n",
    "# Parse JSON data into a Python data structure\n",
    "python_data = json.loads(json_data)\n",
    "\n",
    "# Access the values in the Python data structure\n",
    "print(python_data[\"name\"])  # Output: John\n",
    "print(python_data[\"age\"])   # Output: 30\n",
    "print(python_data[\"city\"])  # Output: New York\n"
   ]
  },
  {
   "cell_type": "markdown",
   "id": "a779fb7c",
   "metadata": {},
   "source": [
    "Ans of Q7"
   ]
  },
  {
   "cell_type": "markdown",
   "id": "66f4fc17",
   "metadata": {},
   "source": [
    "The json.dumps() function in Python is used to serialize a Python data structure into a JSON-formatted string."
   ]
  },
  {
   "cell_type": "code",
   "execution_count": 22,
   "id": "3babe22b",
   "metadata": {},
   "outputs": [
    {
     "name": "stdout",
     "output_type": "stream",
     "text": [
      "{\"name\": \"John\", \"age\": 30, \"city\": \"New York\"}\n"
     ]
    }
   ],
   "source": [
    "import json\n",
    "\n",
    "# Python data structure\n",
    "python_data = {\n",
    "    \"name\": \"John\",\n",
    "    \"age\": 30,\n",
    "    \"city\": \"New York\"\n",
    "}\n",
    "\n",
    "# Convert Python data structure to a JSON string\n",
    "json_data = json.dumps(python_data)\n",
    "\n",
    "# Print the JSON string\n",
    "print(json_data)\n"
   ]
  },
  {
   "cell_type": "code",
   "execution_count": null,
   "id": "632a0937",
   "metadata": {},
   "outputs": [],
   "source": []
  }
 ],
 "metadata": {
  "kernelspec": {
   "display_name": "Python 3 (ipykernel)",
   "language": "python",
   "name": "python3"
  },
  "language_info": {
   "codemirror_mode": {
    "name": "ipython",
    "version": 3
   },
   "file_extension": ".py",
   "mimetype": "text/x-python",
   "name": "python",
   "nbconvert_exporter": "python",
   "pygments_lexer": "ipython3",
   "version": "3.9.13"
  }
 },
 "nbformat": 4,
 "nbformat_minor": 5
}
