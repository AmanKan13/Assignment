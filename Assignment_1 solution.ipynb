{
 "cells": [
  {
   "cell_type": "code",
   "execution_count": 3,
   "id": "4a471a29",
   "metadata": {},
   "outputs": [
    {
     "data": {
      "text/plain": [
       "'Q1. In the below elements which of them are values or an expression? eg:- values can be\\ninteger or string and expressions will be mathematical operators.\\n\\n*\\n&#39;hello&#39;\\n-87.8\\n-\\n/\\n+\\n6\\n'"
      ]
     },
     "execution_count": 3,
     "metadata": {},
     "output_type": "execute_result"
    }
   ],
   "source": [
    "\"\"\"Q1. In the below elements which of them are values or an expression? eg:- values can be\n",
    "integer or string and expressions will be mathematical operators.\n",
    "\n",
    "1) *\n",
    "2) \"hello\"\n",
    "3) -87.8\n",
    "4) -\n",
    "5) /\n",
    "6) +\n",
    "7) 6\n",
    "\"\"\""
   ]
  },
  {
   "cell_type": "markdown",
   "id": "66229ece",
   "metadata": {},
   "source": [
    "Answer of Q1"
   ]
  },
  {
   "cell_type": "code",
   "execution_count": 8,
   "id": "0d8e2ccf",
   "metadata": {},
   "outputs": [
    {
     "data": {
      "text/plain": [
       "'\\n1) * is an expression and a mathematical operator.\\n2) \"hello\" is a value of string type.\\n3) -87.8 is a value of float type.\\n4) - is an expression and a mathematical operator.\\n5) /is an expression and a mathematical operator.\\n6) +is an expression and a mathematical operator.\\n7) 6 87.8 is a value of int type.\\n'"
      ]
     },
     "execution_count": 8,
     "metadata": {},
     "output_type": "execute_result"
    }
   ],
   "source": [
    "\"\"\"\n",
    "1) * is an expression and a mathematical operator.\n",
    "2) \"hello\" is a value of string type.\n",
    "3) -87.8 is a value of float type.\n",
    "4) - is an expression and a mathematical operator.\n",
    "5) /is an expression and a mathematical operator.\n",
    "6) +is an expression and a mathematical operator.\n",
    "7) 6 87.8 is a value of int type.\n",
    "\"\"\""
   ]
  },
  {
   "cell_type": "markdown",
   "id": "63d2bb4f",
   "metadata": {},
   "source": [
    "Q2. What is the difference between string and variable?"
   ]
  },
  {
   "cell_type": "markdown",
   "id": "c3ffb682",
   "metadata": {},
   "source": [
    "Answer of Q2\n"
   ]
  },
  {
   "cell_type": "code",
   "execution_count": 12,
   "id": "ab8bcbf5",
   "metadata": {},
   "outputs": [
    {
     "name": "stdout",
     "output_type": "stream",
     "text": [
      "Aman\n"
     ]
    }
   ],
   "source": [
    "\"\"\"\n",
    "string : A string is a collection of one or more characters put in a single quote, double-quote or triple quote.\n",
    "example : \"aman\",\"a755\"\n",
    "variable : A Python variable is a name given to a memory location. It is the basic unit of storage in a program.\n",
    "example : \n",
    "\"\"\"\n",
    "Var = \"Aman\"\n",
    "print(Var)"
   ]
  },
  {
   "cell_type": "markdown",
   "id": "2bac9d41",
   "metadata": {},
   "source": [
    "Q3. Describe three different data types."
   ]
  },
  {
   "cell_type": "markdown",
   "id": "21cfcb04",
   "metadata": {},
   "source": [
    "Answer of Q3"
   ]
  },
  {
   "cell_type": "code",
   "execution_count": 37,
   "id": "cf7eba8a",
   "metadata": {},
   "outputs": [
    {
     "data": {
      "text/plain": [
       "'\\nString : A string is a collection of one or more characters put in a single quote, double-quote or triple quote.\\nInteger : interger are whole numbers which can be positive or negative.\\nFloat : float are real numbers which is specified by a decimal point. float can also be positive or negative.\\nList : Lists are just like the arrays, declared in other languages which is a ordered collection of data.\\n    '"
      ]
     },
     "execution_count": 37,
     "metadata": {},
     "output_type": "execute_result"
    }
   ],
   "source": [
    "\"\"\"\n",
    "String : A string is a collection of one or more characters put in a single quote, double-quote or triple quote.\n",
    "Integer : interger are whole numbers which can be positive or negative.\n",
    "Float : float are real numbers which is specified by a decimal point. float can also be positive or negative.\n",
    "List : Lists are just like the arrays, declared in other languages which is a ordered collection of data.\n",
    "    \"\"\""
   ]
  },
  {
   "cell_type": "markdown",
   "id": "1df18043",
   "metadata": {},
   "source": [
    "Q4 What is an expression made up of? What do all expressions do?"
   ]
  },
  {
   "cell_type": "markdown",
   "id": "a75f0d68",
   "metadata": {},
   "source": [
    "Answer of Q4"
   ]
  },
  {
   "cell_type": "code",
   "execution_count": 14,
   "id": "eb6c8cae",
   "metadata": {},
   "outputs": [
    {
     "data": {
      "text/plain": [
       "'\\nAn expression is a combination of operators and operands that is interpreted to produce some other value. In any programming language, an expression is evaluated as per the precedence of its operators.\\n\\nwe have different types of expressions which are explained below :\\n\\n1.Constant Expressions: These are the expressions that have constant values only.\\nex:\\nx = 15 + 1.3\\n  \\nprint(x)\\n\\n2. Arithmetic Expressions: An arithmetic expression is a combination of numeric values, operators, and sometimes parenthesis\\nex:\\nx = 40\\ny = 12\\n  \\nadd = x + y\\nsub = x - y\\npro = x * y\\ndiv = x / y\\n  \\nprint(add)\\nprint(sub)\\nprint(pro)\\nprint(div)\\n\\n3. Integral Expressions: These are the kind of expressions that produce only integer results after all computations and type conversions.\\nex:\\n\\na = 13\\nb = 12.0\\n  \\nc = a + int(b)\\nprint(c)\\n\\n4. Floating Expressions: These are the kind of expressions which produce floating point numbers as result after all computations and type conversions.\\nex:\\na = 13\\nb = 5\\n  \\nc = a / b\\nprint(c)\\n\\n5. Relational Expressions: In these types of expressions, arithmetic expressions are written on both sides of relational operator (> , < , >= , <=). Those arithmetic expressions are evaluated first, and then compared as per relational operator and produce a boolean output in the end. These expressions are also called Boolean expressions.\\nex:\\na = 21\\nb = 13\\nc = 40\\nd = 37\\n  \\np = (a + b) >= (c - d)\\nprint(p)\\n\\n6. Logical Expressions: These are kinds of expressions that result in either True or False.\\nex:\\nP = (10 == 9)\\nQ = (7 > 5)\\n  \\n# Logical Expressions\\nR = P and Q\\nS = P or Q\\nT = not P\\n  \\nprint(R)\\nprint(S)\\nprint(T)\\n\\n7. Bitwise Expressions: These are the kind of expressions in which computations are performed at bit level.\\nex:\\na = 12\\n  \\nx = a >> 2\\ny = a << 1\\nprint(x,y)\\n\\n8. Combinational Expressions: We can also use different types of expressions in a single expression, and that will be termed as combinational expressions.\\nex:\\na = 16\\nb = 12\\n  \\nc = a + (b >> 1)\\nprint(c)\\n\\n'"
      ]
     },
     "execution_count": 14,
     "metadata": {},
     "output_type": "execute_result"
    }
   ],
   "source": [
    "\"\"\"\n",
    "An expression is a combination of operators and operands that is interpreted to produce some other value. In any programming language, an expression is evaluated as per the precedence of its operators.\n",
    "\n",
    "we have different types of expressions which are explained below :\n",
    "\n",
    "1.Constant Expressions: These are the expressions that have constant values only.\n",
    "ex:\n",
    "x = 15 + 1.3\n",
    "  \n",
    "print(x)\n",
    "\n",
    "2. Arithmetic Expressions: An arithmetic expression is a combination of numeric values, operators, and sometimes parenthesis\n",
    "ex:\n",
    "x = 40\n",
    "y = 12\n",
    "  \n",
    "add = x + y\n",
    "sub = x - y\n",
    "pro = x * y\n",
    "div = x / y\n",
    "  \n",
    "print(add)\n",
    "print(sub)\n",
    "print(pro)\n",
    "print(div)\n",
    "\n",
    "3. Integral Expressions: These are the kind of expressions that produce only integer results after all computations and type conversions.\n",
    "ex:\n",
    "\n",
    "a = 13\n",
    "b = 12.0\n",
    "  \n",
    "c = a + int(b)\n",
    "print(c)\n",
    "\n",
    "4. Floating Expressions: These are the kind of expressions which produce floating point numbers as result after all computations and type conversions.\n",
    "ex:\n",
    "a = 13\n",
    "b = 5\n",
    "  \n",
    "c = a / b\n",
    "print(c)\n",
    "\n",
    "5. Relational Expressions: In these types of expressions, arithmetic expressions are written on both sides of relational operator (> , < , >= , <=). Those arithmetic expressions are evaluated first, and then compared as per relational operator and produce a boolean output in the end. These expressions are also called Boolean expressions.\n",
    "ex:\n",
    "a = 21\n",
    "b = 13\n",
    "c = 40\n",
    "d = 37\n",
    "  \n",
    "p = (a + b) >= (c - d)\n",
    "print(p)\n",
    "\n",
    "6. Logical Expressions: These are kinds of expressions that result in either True or False.\n",
    "ex:\n",
    "P = (10 == 9)\n",
    "Q = (7 > 5)\n",
    "  \n",
    "# Logical Expressions\n",
    "R = P and Q\n",
    "S = P or Q\n",
    "T = not P\n",
    "  \n",
    "print(R)\n",
    "print(S)\n",
    "print(T)\n",
    "\n",
    "7. Bitwise Expressions: These are the kind of expressions in which computations are performed at bit level.\n",
    "ex:\n",
    "a = 12\n",
    "  \n",
    "x = a >> 2\n",
    "y = a << 1\n",
    "print(x,y)\n",
    "\n",
    "8. Combinational Expressions: We can also use different types of expressions in a single expression, and that will be termed as combinational expressions.\n",
    "ex:\n",
    "a = 16\n",
    "b = 12\n",
    "  \n",
    "c = a + (b >> 1)\n",
    "print(c)\n",
    "\n",
    "\"\"\""
   ]
  },
  {
   "cell_type": "markdown",
   "id": "207d7eb6",
   "metadata": {},
   "source": [
    "Q5. This assignment statements, like spam = 10. What is the difference between an\n",
    "expression and a statement?"
   ]
  },
  {
   "cell_type": "markdown",
   "id": "316d5846",
   "metadata": {},
   "source": [
    "Answer of Q5"
   ]
  },
  {
   "cell_type": "code",
   "execution_count": 26,
   "id": "98a4cd3f",
   "metadata": {},
   "outputs": [
    {
     "data": {
      "text/plain": [
       "'An expression evaluates to a single value. A statement does not.'"
      ]
     },
     "execution_count": 26,
     "metadata": {},
     "output_type": "execute_result"
    }
   ],
   "source": [
    "\"\"\"An expression evaluates to a single value. A statement does not.\"\"\""
   ]
  },
  {
   "cell_type": "markdown",
   "id": "84d297fb",
   "metadata": {},
   "source": [
    "Q6. After running the following code, what does the variable bacon contain?\n",
    "bacon = 22\n",
    "bacon + 1"
   ]
  },
  {
   "cell_type": "markdown",
   "id": "d52b7d5e",
   "metadata": {},
   "source": [
    "Answer of Q6"
   ]
  },
  {
   "cell_type": "code",
   "execution_count": 39,
   "id": "f05425c5",
   "metadata": {},
   "outputs": [
    {
     "data": {
      "text/plain": [
       "23"
      ]
     },
     "execution_count": 39,
     "metadata": {},
     "output_type": "execute_result"
    }
   ],
   "source": [
    "bacon = 22\n",
    "bacon + 1"
   ]
  },
  {
   "cell_type": "markdown",
   "id": "712db9ae",
   "metadata": {},
   "source": [
    "Q7. What should the values of the following two terms be?\n",
    "\"spam\" +\"spamspam\";\n",
    "\"spam\" * 3"
   ]
  },
  {
   "cell_type": "markdown",
   "id": "2fb6995a",
   "metadata": {},
   "source": [
    "Answer of Q7"
   ]
  },
  {
   "cell_type": "code",
   "execution_count": 40,
   "id": "49efa9ac",
   "metadata": {},
   "outputs": [
    {
     "data": {
      "text/plain": [
       "'spamspamspam'"
      ]
     },
     "execution_count": 40,
     "metadata": {},
     "output_type": "execute_result"
    }
   ],
   "source": [
    "\"spam\" +\"spamspam\"\n",
    "# the above code will combine both string values."
   ]
  },
  {
   "cell_type": "code",
   "execution_count": 41,
   "id": "821d86a7",
   "metadata": {},
   "outputs": [
    {
     "data": {
      "text/plain": [
       "'spamspamspam'"
      ]
     },
     "execution_count": 41,
     "metadata": {},
     "output_type": "execute_result"
    }
   ],
   "source": [
    "\"spam\" * 3\n",
    "# the above code will repeat the string three times."
   ]
  },
  {
   "cell_type": "markdown",
   "id": "7308c814",
   "metadata": {},
   "source": [
    "Q8. Why is eggs a valid variable name while 100 is invalid?"
   ]
  },
  {
   "cell_type": "markdown",
   "id": "effd5401",
   "metadata": {},
   "source": [
    "Answer of Q8"
   ]
  },
  {
   "cell_type": "code",
   "execution_count": 42,
   "id": "2cb8ff6e",
   "metadata": {},
   "outputs": [
    {
     "data": {
      "text/plain": [
       "'Because variable names cannot begin with a number.'"
      ]
     },
     "execution_count": 42,
     "metadata": {},
     "output_type": "execute_result"
    }
   ],
   "source": [
    "\"Because variable names cannot begin with a number.\""
   ]
  },
  {
   "cell_type": "markdown",
   "id": "f78f9257",
   "metadata": {},
   "source": [
    "Q9. What three functions can be used to get the integer, floating-point number, or string\n",
    "version of a value?"
   ]
  },
  {
   "cell_type": "markdown",
   "id": "ba04ce06",
   "metadata": {},
   "source": [
    "Answer of Q9"
   ]
  },
  {
   "cell_type": "code",
   "execution_count": 43,
   "id": "b81fa26e",
   "metadata": {},
   "outputs": [
    {
     "data": {
      "text/plain": [
       "'\\nto get interger we can use int()\\nto get floating-point number we can use float()\\nto get string we can use str()\\n\\n'"
      ]
     },
     "execution_count": 43,
     "metadata": {},
     "output_type": "execute_result"
    }
   ],
   "source": [
    "\"\"\"\n",
    "to get interger we can use int()\n",
    "to get floating-point number we can use float()\n",
    "to get string we can use str()\n",
    "\n",
    "\"\"\"\n"
   ]
  },
  {
   "cell_type": "markdown",
   "id": "4944a06a",
   "metadata": {},
   "source": [
    "10. Why does this expression cause an error? How can you fix it?\n",
    "\"I have eaten\" + 99 + \"burritos.\""
   ]
  },
  {
   "cell_type": "markdown",
   "id": "ca647015",
   "metadata": {},
   "source": [
    "Answer of Q10"
   ]
  },
  {
   "cell_type": "code",
   "execution_count": 44,
   "id": "9c7e7826",
   "metadata": {},
   "outputs": [
    {
     "data": {
      "text/plain": [
       "'I have eaten 99 burritos.'"
      ]
     },
     "execution_count": 44,
     "metadata": {},
     "output_type": "execute_result"
    }
   ],
   "source": [
    "\"I have eaten \" + str(99) + \" burritos.\""
   ]
  }
 ],
 "metadata": {
  "celltoolbar": "Raw Cell Format",
  "kernelspec": {
   "display_name": "Python 3 (ipykernel)",
   "language": "python",
   "name": "python3"
  },
  "language_info": {
   "codemirror_mode": {
    "name": "ipython",
    "version": 3
   },
   "file_extension": ".py",
   "mimetype": "text/x-python",
   "name": "python",
   "nbconvert_exporter": "python",
   "pygments_lexer": "ipython3",
   "version": "3.9.13"
  }
 },
 "nbformat": 4,
 "nbformat_minor": 5
}
