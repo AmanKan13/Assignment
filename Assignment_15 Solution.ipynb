{
 "cells": [
  {
   "cell_type": "markdown",
   "id": "0dbadcc7",
   "metadata": {},
   "source": [
    "# Assignment_15 Solution"
   ]
  },
  {
   "cell_type": "markdown",
   "id": "2e764c05",
   "metadata": {},
   "source": [
    "Q1.How many seconds are in an hour? Use the interactive interpreter as a calculator and multiply the\n",
    "number of seconds in a minute (60) by the number of minutes in an hour (also 60).\n",
    "sol. 60\n",
    "\n",
    "Q2. Assign the result from the previous task (seconds in an hour) to a variable called\n",
    "seconds_per_hour.\n",
    "\n",
    "Q3. How many seconds do you think there are in a day? Make use of the variables seconds per hour\n",
    "and minutes per hour.\n",
    "\n",
    "Q4. Calculate seconds per day again, but this time save the result in a variable called seconds_per_day\n",
    "\n",
    "Q5. Divide seconds_per_day by seconds_per_hour. Use floating-point (/) division.\n",
    "\n",
    "Q6. Divide seconds_per_day by seconds_per_hour, using integer (//) division. Did this number agree\n",
    "with the floating-point value from the previous question, aside from the final .0?\n",
    "\n",
    "Q7. Write a generator, genPrimes, that returns the sequence of prime numbers on successive calls to\n",
    "its next() method: 2, 3, 5, 7, 11, ..."
   ]
  },
  {
   "cell_type": "markdown",
   "id": "aa7595f6",
   "metadata": {},
   "source": [
    "Ans of Q1"
   ]
  },
  {
   "cell_type": "code",
   "execution_count": 2,
   "id": "f7f2d5da",
   "metadata": {},
   "outputs": [
    {
     "data": {
      "text/plain": [
       "3600"
      ]
     },
     "execution_count": 2,
     "metadata": {},
     "output_type": "execute_result"
    }
   ],
   "source": [
    "60*60"
   ]
  },
  {
   "cell_type": "markdown",
   "id": "2eccc7ce",
   "metadata": {},
   "source": [
    "Ans of Q2"
   ]
  },
  {
   "cell_type": "code",
   "execution_count": 5,
   "id": "77de932d",
   "metadata": {},
   "outputs": [
    {
     "data": {
      "text/plain": [
       "3600"
      ]
     },
     "execution_count": 5,
     "metadata": {},
     "output_type": "execute_result"
    }
   ],
   "source": [
    "seconds_per_hour = 60*60\n",
    "seconds_per_hour"
   ]
  },
  {
   "cell_type": "markdown",
   "id": "19e65f43",
   "metadata": {},
   "source": [
    "Ans of Q3"
   ]
  },
  {
   "cell_type": "code",
   "execution_count": 6,
   "id": "439d2b50",
   "metadata": {},
   "outputs": [
    {
     "data": {
      "text/plain": [
       "86400"
      ]
     },
     "execution_count": 6,
     "metadata": {},
     "output_type": "execute_result"
    }
   ],
   "source": [
    "seconds_per_hour = 60\n",
    "minutes_per_hour = 60\n",
    "hours_per_day = 24\n",
    "seconds_per_hour*minutes_per_hour*hours_per_day"
   ]
  },
  {
   "cell_type": "markdown",
   "id": "a2d358f3",
   "metadata": {},
   "source": [
    "Ans of Q4"
   ]
  },
  {
   "cell_type": "code",
   "execution_count": 9,
   "id": "5d48a2a0",
   "metadata": {},
   "outputs": [
    {
     "data": {
      "text/plain": [
       "86400"
      ]
     },
     "execution_count": 9,
     "metadata": {},
     "output_type": "execute_result"
    }
   ],
   "source": [
    "seconds_per_day = seconds_per_hour*minutes_per_hour*hours_per_day\n",
    "seconds_per_day"
   ]
  },
  {
   "cell_type": "markdown",
   "id": "81d32fe4",
   "metadata": {},
   "source": [
    "Ans of Q5"
   ]
  },
  {
   "cell_type": "code",
   "execution_count": 11,
   "id": "120ad768",
   "metadata": {},
   "outputs": [
    {
     "data": {
      "text/plain": [
       "1440.0"
      ]
     },
     "execution_count": 11,
     "metadata": {},
     "output_type": "execute_result"
    }
   ],
   "source": [
    "seconds_per_day/seconds_per_hour"
   ]
  },
  {
   "cell_type": "markdown",
   "id": "b0e95234",
   "metadata": {},
   "source": [
    "Ans of Q6"
   ]
  },
  {
   "cell_type": "code",
   "execution_count": 12,
   "id": "f6dd3648",
   "metadata": {},
   "outputs": [
    {
     "data": {
      "text/plain": [
       "1440"
      ]
     },
     "execution_count": 12,
     "metadata": {},
     "output_type": "execute_result"
    }
   ],
   "source": [
    "seconds_per_day//seconds_per_hour"
   ]
  },
  {
   "cell_type": "markdown",
   "id": "f5fcb4ba",
   "metadata": {},
   "source": [
    "Ans of Q7"
   ]
  },
  {
   "cell_type": "code",
   "execution_count": 63,
   "id": "2f3250f3",
   "metadata": {},
   "outputs": [],
   "source": [
    "def genPrimes():\n",
    "    primes = []  # List to store the prime numbers\n",
    "    \n",
    "    # Helper function to check if a number is prime\n",
    "    def is_prime(n):\n",
    "        for prime in primes:\n",
    "            if n % prime == 0:\n",
    "                return False\n",
    "        return True\n",
    "\n",
    "    n = 2  # Start with the first prime number\n",
    "    \n",
    "    while True:\n",
    "        if is_prime(n):\n",
    "            primes.append(n)  # Add the prime number to the list\n",
    "            yield n  # Yield the prime number\n",
    "        n += 1\n"
   ]
  },
  {
   "cell_type": "code",
   "execution_count": 64,
   "id": "a97fca29",
   "metadata": {},
   "outputs": [
    {
     "name": "stdout",
     "output_type": "stream",
     "text": [
      "Enter The Number10\n",
      "2\n",
      "3\n",
      "5\n",
      "7\n",
      "11\n",
      "13\n",
      "17\n",
      "19\n",
      "23\n",
      "29\n"
     ]
    }
   ],
   "source": [
    "prime_generator = genPrimes()\n",
    "num = int(input(\"Enter The Number\"))\n",
    "for i in range(num):\n",
    "    print(next(prime_generator))  # Output: 2\n"
   ]
  },
  {
   "cell_type": "markdown",
   "id": "6f004839",
   "metadata": {},
   "source": [
    "Write a generator, genPrimes, that returns the sequence of prime numbers on successive calls to its next() method: 2, 3, 5, 7, 11, ..."
   ]
  },
  {
   "cell_type": "code",
   "execution_count": 85,
   "id": "707f20e8",
   "metadata": {},
   "outputs": [],
   "source": [
    "def primenum():\n",
    "    prime = []\n",
    "    p = 100\n",
    "    for i in range(p):\n",
    "        prime.append(i)\n",
    "        if \n",
    "    \n",
    "        \n",
    "            \n",
    "primenum()"
   ]
  },
  {
   "cell_type": "code",
   "execution_count": null,
   "id": "5e9a513b",
   "metadata": {},
   "outputs": [],
   "source": [
    "200"
   ]
  }
 ],
 "metadata": {
  "kernelspec": {
   "display_name": "Python 3 (ipykernel)",
   "language": "python",
   "name": "python3"
  },
  "language_info": {
   "codemirror_mode": {
    "name": "ipython",
    "version": 3
   },
   "file_extension": ".py",
   "mimetype": "text/x-python",
   "name": "python",
   "nbconvert_exporter": "python",
   "pygments_lexer": "ipython3",
   "version": "3.9.13"
  }
 },
 "nbformat": 4,
 "nbformat_minor": 5
}
