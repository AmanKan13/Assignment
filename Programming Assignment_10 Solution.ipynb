{
 "cells": [
  {
   "cell_type": "markdown",
   "id": "907c9777",
   "metadata": {},
   "source": [
    "# Programming Assignment_10 Solution"
   ]
  },
  {
   "cell_type": "markdown",
   "id": "31acb0fd",
   "metadata": {},
   "source": [
    "Q1. 1. Write a Python program to find sum of elements in list?\n",
    "\n",
    "Q2. Write a Python program to Multiply all numbers in the list?\n",
    "\n",
    "Q3. Write a Python program to find smallest number in a list?\n",
    "\n",
    "Q4. Write a Python program to find largest number in a list?\n",
    "\n",
    "Q5. Write a Python program to find second largest number in a list?\n",
    "\n",
    "Q6. Write a Python program to find N largest elements from a list?\n",
    "\n",
    "Q7. Write a Python program to print even numbers in a list?\n",
    "\n",
    "Q8. Write a Python program to print odd numbers in a List?\n",
    "\n",
    "Q9. Write a Python program to Remove empty List from List?\n",
    "\n",
    "Q10. Write a Python program to Cloning or Copying a list?\n",
    "\n",
    "Q11. Write a Python program to Count occurrences of an element in a list?"
   ]
  },
  {
   "cell_type": "markdown",
   "id": "f0070d27",
   "metadata": {},
   "source": [
    "Ans of Q1"
   ]
  },
  {
   "cell_type": "code",
   "execution_count": 1,
   "id": "efe9388d",
   "metadata": {},
   "outputs": [
    {
     "data": {
      "text/plain": [
       "15"
      ]
     },
     "execution_count": 1,
     "metadata": {},
     "output_type": "execute_result"
    }
   ],
   "source": [
    "def Sum_list(List):\n",
    "    Sum = 0\n",
    "    for i in List:\n",
    "        Sum += i\n",
    "    return Sum\n",
    "A = [1,4,2,3,5]\n",
    "Sum_list(A)"
   ]
  },
  {
   "cell_type": "markdown",
   "id": "4411f039",
   "metadata": {},
   "source": [
    "Ans of Q2"
   ]
  },
  {
   "cell_type": "code",
   "execution_count": 2,
   "id": "80b9529f",
   "metadata": {},
   "outputs": [
    {
     "data": {
      "text/plain": [
       "120"
      ]
     },
     "execution_count": 2,
     "metadata": {},
     "output_type": "execute_result"
    }
   ],
   "source": [
    "def Multiply_list(List):\n",
    "    Multiply = 1\n",
    "    for i in List:\n",
    "        Multiply *= i\n",
    "    return Multiply\n",
    "A = [1,4,2,3,5]\n",
    "Multiply_list(A)"
   ]
  },
  {
   "cell_type": "markdown",
   "id": "52e6eea9",
   "metadata": {},
   "source": [
    "Ans of Q3"
   ]
  },
  {
   "cell_type": "code",
   "execution_count": 5,
   "id": "30f26b91",
   "metadata": {},
   "outputs": [
    {
     "name": "stdout",
     "output_type": "stream",
     "text": [
      "Smallest number: 2\n"
     ]
    }
   ],
   "source": [
    "def find_smallest_number(List):\n",
    "    if len(List) == 0:\n",
    "        raise ValueError(\"The list is empty.\")\n",
    "\n",
    "    smallest = List[0]\n",
    "    for num in List:\n",
    "        if num < smallest:\n",
    "            smallest = num\n",
    "    return smallest\n",
    "\n",
    "numbers_list = [5, 3, 9, 2, 7]\n",
    "smallest_number = find_smallest_number(numbers_list)\n",
    "print(\"Smallest number:\", smallest_number)\n"
   ]
  },
  {
   "cell_type": "markdown",
   "id": "8fb4a8ab",
   "metadata": {},
   "source": [
    "Ans of Q4"
   ]
  },
  {
   "cell_type": "code",
   "execution_count": 4,
   "id": "12f359ff",
   "metadata": {},
   "outputs": [
    {
     "data": {
      "text/plain": [
       "10"
      ]
     },
     "execution_count": 4,
     "metadata": {},
     "output_type": "execute_result"
    }
   ],
   "source": [
    "def Largest_num(List):\n",
    "    Largest_Number = 0\n",
    "    for i in range(len(List)):\n",
    "        while List[i]> Largest_Number:\n",
    "            Largest_Number = A[i]\n",
    "    return Largest_Number\n",
    "\n",
    "A = [10,4,2,3,5]\n",
    "Largest_num(A)"
   ]
  },
  {
   "cell_type": "markdown",
   "id": "43bc8dc3",
   "metadata": {},
   "source": [
    "Ans of Q5"
   ]
  },
  {
   "cell_type": "code",
   "execution_count": 7,
   "id": "dbc8c538",
   "metadata": {},
   "outputs": [
    {
     "name": "stdout",
     "output_type": "stream",
     "text": [
      "Second largest number: 7\n"
     ]
    }
   ],
   "source": [
    "def find_second_largest(numbers):\n",
    "    if len(numbers) < 2:\n",
    "        raise ValueError(\"The list should contain at least two numbers.\")\n",
    "\n",
    "    largest = float('-inf')\n",
    "    second_largest = float('-inf')\n",
    "\n",
    "    for num in numbers:\n",
    "        if num > largest:\n",
    "            second_largest = largest\n",
    "            largest = num\n",
    "        elif num > second_largest and num < largest:\n",
    "            second_largest = num\n",
    "\n",
    "    if second_largest == float('-inf'):\n",
    "        raise ValueError(\"There is no second largest number in the list.\")\n",
    "\n",
    "    return second_largest\n",
    "\n",
    "\n",
    "numbers_list = [5, 3, 9, 2, 7]\n",
    "second_largest_number = find_second_largest(numbers_list)\n",
    "print(\"Second largest number:\", second_largest_number)\n"
   ]
  },
  {
   "cell_type": "markdown",
   "id": "78a4b121",
   "metadata": {},
   "source": [
    "Ans of Q6"
   ]
  },
  {
   "cell_type": "code",
   "execution_count": 6,
   "id": "d20a5119",
   "metadata": {},
   "outputs": [
    {
     "name": "stdout",
     "output_type": "stream",
     "text": [
      "3 largest elements: [9, 8, 7]\n"
     ]
    }
   ],
   "source": [
    "def find_n_largest(numbers, n):\n",
    "    if len(numbers) < n:\n",
    "        raise ValueError(\"The list does not contain enough elements.\")\n",
    "\n",
    "    largest_elements = sorted(numbers, reverse=True)[:n]\n",
    "    return largest_elements\n",
    "\n",
    "\n",
    "numbers_list = [5, 3, 9, 2, 7, 1, 8, 4]\n",
    "n = 3\n",
    "n_largest_elements = find_n_largest(numbers_list, n)\n",
    "print(f\"{n} largest elements:\", n_largest_elements)\n"
   ]
  },
  {
   "cell_type": "markdown",
   "id": "7bec3077",
   "metadata": {},
   "source": [
    "Ans of Q7"
   ]
  },
  {
   "cell_type": "code",
   "execution_count": 9,
   "id": "039cdb0b",
   "metadata": {},
   "outputs": [
    {
     "data": {
      "text/plain": [
       "[12, 8, 4]"
      ]
     },
     "execution_count": 9,
     "metadata": {},
     "output_type": "execute_result"
    }
   ],
   "source": [
    "def find_even_number(numbers):\n",
    "    even_numbers = []\n",
    "    for num in numbers:\n",
    "        if num % 2 == 0:\n",
    "            even_numbers.append(num)\n",
    "    return even_numbers\n",
    "numbers_list = [25, 13, 19, 12, 7, 1, 8, 4]\n",
    "find_even_number(numbers_list)"
   ]
  },
  {
   "cell_type": "markdown",
   "id": "67c63a8d",
   "metadata": {},
   "source": [
    "Ans of Q8"
   ]
  },
  {
   "cell_type": "code",
   "execution_count": 13,
   "id": "f43b5dde",
   "metadata": {},
   "outputs": [
    {
     "data": {
      "text/plain": [
       "[25, 13, 19, 7, 1]"
      ]
     },
     "execution_count": 13,
     "metadata": {},
     "output_type": "execute_result"
    }
   ],
   "source": [
    "def find_odd_number(numbers):\n",
    "    odd_numbers = []\n",
    "    for num in numbers:\n",
    "        if num % 2 == 1:\n",
    "            odd_numbers.append(num)\n",
    "    return odd_numbers\n",
    "numbers_list = [25, 13, 19, 12, 7, 1, 8, 4]\n",
    "find_odd_number(numbers_list)"
   ]
  },
  {
   "cell_type": "markdown",
   "id": "f31913f9",
   "metadata": {},
   "source": [
    "Ans of Q9"
   ]
  },
  {
   "cell_type": "code",
   "execution_count": 18,
   "id": "ae32ae2d",
   "metadata": {},
   "outputs": [
    {
     "name": "stdout",
     "output_type": "stream",
     "text": [
      "The original list is : [5, 6, [], 3, [], [], 9]\n",
      "List after empty list removal : [5, 6, 3, 9]\n"
     ]
    }
   ],
   "source": [
    "test_list = [5, 6, [], 3, [], [], 9]\n",
    " \n",
    "print(\"The original list is : \" + str(test_list))\n",
    " \n",
    "# Remove empty List from List\n",
    "# using list comprehension\n",
    "remove_empty_list = [sublst for sublst in test_list if sublst != []]\n",
    " \n",
    "print(\"List after empty list removal : \" + str(res))"
   ]
  },
  {
   "cell_type": "markdown",
   "id": "695a4aee",
   "metadata": {},
   "source": [
    "Ans of Q10"
   ]
  },
  {
   "cell_type": "code",
   "execution_count": 19,
   "id": "5d89184e",
   "metadata": {},
   "outputs": [
    {
     "name": "stdout",
     "output_type": "stream",
     "text": [
      "Original List: [4, 8, 2, 10, 15, 18]\n",
      "After Cloning: [4, 8, 2, 10, 15, 18]\n"
     ]
    }
   ],
   "source": [
    "def Cloning(li1):\n",
    "    li_copy = li1[:]\n",
    "    return li_copy\n",
    " \n",
    " \n",
    "\n",
    "li1 = [4, 8, 2, 10, 15, 18]\n",
    "li2 = Cloning(li1)\n",
    "print(\"Original List:\", li1)\n",
    "print(\"After Cloning:\", li2)"
   ]
  },
  {
   "cell_type": "markdown",
   "id": "2f991659",
   "metadata": {},
   "source": [
    "Ans of Q11"
   ]
  },
  {
   "cell_type": "code",
   "execution_count": 21,
   "id": "1adc8a6e",
   "metadata": {},
   "outputs": [
    {
     "name": "stdout",
     "output_type": "stream",
     "text": [
      "8 has occurred 5 times\n"
     ]
    }
   ],
   "source": [
    "def countX(lst, x):\n",
    "    count = 0\n",
    "    for ele in lst:\n",
    "        if (ele == x):\n",
    "            count = count + 1\n",
    "    return count\n",
    " \n",
    " \n",
    "lst = [8, 6, 8, 10, 8, 20, 10, 8, 8]\n",
    "x = 8\n",
    "print('{} has occurred {} times'.format(x,\n",
    "                                        countX(lst, x)))"
   ]
  }
 ],
 "metadata": {
  "kernelspec": {
   "display_name": "Python 3 (ipykernel)",
   "language": "python",
   "name": "python3"
  },
  "language_info": {
   "codemirror_mode": {
    "name": "ipython",
    "version": 3
   },
   "file_extension": ".py",
   "mimetype": "text/x-python",
   "name": "python",
   "nbconvert_exporter": "python",
   "pygments_lexer": "ipython3",
   "version": "3.9.13"
  }
 },
 "nbformat": 4,
 "nbformat_minor": 5
}
