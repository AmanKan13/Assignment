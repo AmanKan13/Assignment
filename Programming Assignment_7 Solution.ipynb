{
 "cells": [
  {
   "cell_type": "markdown",
   "id": "3cc2956b",
   "metadata": {},
   "source": [
    "Programming Assignment 7"
   ]
  },
  {
   "cell_type": "markdown",
   "id": "d5cab772",
   "metadata": {},
   "source": [
    "1. Write a Python Program to find sum of array?\n",
    "2. Write a Python Program to find largest element in an array?\n",
    "3. Write a Python Program for array rotation?\n",
    "4. Write a Python Program to Split the array and add the first part to the end?\n",
    "5. Write a Python Program to check if given array is Monotonic?"
   ]
  },
  {
   "cell_type": "markdown",
   "id": "81ee9378",
   "metadata": {},
   "source": [
    "Ans of Q1"
   ]
  },
  {
   "cell_type": "code",
   "execution_count": 3,
   "id": "1480090d",
   "metadata": {},
   "outputs": [
    {
     "name": "stdout",
     "output_type": "stream",
     "text": [
      "The sum of the array [1, 2, 3, 4, 5] is 15.\n"
     ]
    }
   ],
   "source": [
    "array = [1, 2, 3, 4, 5]\n",
    "\n",
    "array_sum = 0\n",
    "for i in array:\n",
    "    array_sum = array_sum + i\n",
    "\n",
    "print(f\"The sum of the array {array} is {array_sum}.\")\n"
   ]
  },
  {
   "cell_type": "markdown",
   "id": "96b7c388",
   "metadata": {},
   "source": [
    "Ans of Q2"
   ]
  },
  {
   "cell_type": "code",
   "execution_count": 7,
   "id": "9f595aae",
   "metadata": {},
   "outputs": [
    {
     "name": "stdout",
     "output_type": "stream",
     "text": [
      "The largest element in the array [1, 12, 3, 4, 5] is 12.\n"
     ]
    }
   ],
   "source": [
    "array = [1, 12, 3, 4, 5]\n",
    "\n",
    "Largest = array[0]\n",
    "for i in range(1,len(array)):\n",
    "    if array[i] > Largest :\n",
    "        Largest = array[i]\n",
    "print(f\"The largest element in the array {array} is {Largest}.\")"
   ]
  },
  {
   "cell_type": "markdown",
   "id": "1b3f1f93",
   "metadata": {},
   "source": [
    "Ans of Q3"
   ]
  },
  {
   "cell_type": "code",
   "execution_count": 9,
   "id": "1d2a2e58",
   "metadata": {},
   "outputs": [
    {
     "name": "stdout",
     "output_type": "stream",
     "text": [
      "The original array is [1, 2, 3, 4, 5]\n",
      "The rotated array is [3, 4, 5, 1, 2]\n"
     ]
    }
   ],
   "source": [
    "array = [1, 2, 3, 4, 5]\n",
    "\n",
    "k = 3\n",
    "\n",
    "rotated_array = array[-k:] + array[:-k]\n",
    "\n",
    "print(f\"The original array is {array}\")\n",
    "print(f\"The rotated array is {rotated_array}\")\n"
   ]
  },
  {
   "cell_type": "markdown",
   "id": "9c0b2d18",
   "metadata": {},
   "source": [
    "Ans of Q4"
   ]
  },
  {
   "cell_type": "code",
   "execution_count": 14,
   "id": "356f2cbb",
   "metadata": {},
   "outputs": [
    {
     "name": "stdout",
     "output_type": "stream",
     "text": [
      "The original array is [1, 2, 35, 4, 5]\n",
      "The split array with the first part added to the end is [35, 4, 5, 1, 2]\n"
     ]
    }
   ],
   "source": [
    "array = [1, 2, 35, 4, 5]\n",
    "\n",
    "k = 2\n",
    "\n",
    "split_array = array[k:] + array[:k]\n",
    "\n",
    "print(f\"The original array is {array}\")\n",
    "print(f\"The split array with the first part added to the end is {split_array}\")\n"
   ]
  },
  {
   "cell_type": "markdown",
   "id": "4a00a0d6",
   "metadata": {},
   "source": [
    "Ans of Q5"
   ]
  },
  {
   "cell_type": "code",
   "execution_count": 15,
   "id": "c5fad6d0",
   "metadata": {},
   "outputs": [
    {
     "name": "stdout",
     "output_type": "stream",
     "text": [
      "The array is not monotonic.\n"
     ]
    }
   ],
   "source": [
    "\n",
    "array = [1, 2, 35, 4, 5]\n",
    "\n",
    "is_monotonic = True\n",
    "\n",
    "# Checking if the array is non-increasing\n",
    "for i in range(1, len(array)):\n",
    "    if array[i] > array[i-1]:\n",
    "        is_monotonic = False\n",
    "        break\n",
    "\n",
    "# checking if it is non-decreasing\n",
    "if not is_monotonic:\n",
    "    is_monotonic = True\n",
    "    for i in range(1, len(array)):\n",
    "        if array[i] < array[i-1]:\n",
    "            is_monotonic = False\n",
    "            break\n",
    "\n",
    "if is_monotonic:\n",
    "    print(\"The array is monotonic.\")\n",
    "else:\n",
    "    print(\"The array is not monotonic.\")\n"
   ]
  }
 ],
 "metadata": {
  "kernelspec": {
   "display_name": "Python 3 (ipykernel)",
   "language": "python",
   "name": "python3"
  },
  "language_info": {
   "codemirror_mode": {
    "name": "ipython",
    "version": 3
   },
   "file_extension": ".py",
   "mimetype": "text/x-python",
   "name": "python",
   "nbconvert_exporter": "python",
   "pygments_lexer": "ipython3",
   "version": "3.9.13"
  }
 },
 "nbformat": 4,
 "nbformat_minor": 5
}
