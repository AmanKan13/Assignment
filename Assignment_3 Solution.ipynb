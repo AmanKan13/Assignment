{
 "cells": [
  {
   "cell_type": "markdown",
   "id": "e1ddbbda",
   "metadata": {},
   "source": [
    "1. Why are functions advantageous to have in your programs?\n",
    "2. When does the code in a function run: when it's specified or when it's called?\n",
    "3. What statement creates a function?\n",
    "4. What is the difference between a function and a function call?\n",
    "5. How many global scopes are there in a Python program? How many local scopes?\n",
    "6. What happens to variables in a local scope when the function call returns?\n",
    "7. What is the concept of a return value? Is it possible to have a return value in an expression?\n",
    "8. If a function does not have a return statement, what is the return value of a call to that function?\n",
    "9. How do you make a function variable refer to the global variable?\n",
    "10. What is the data type of None?\n",
    "11. What does the sentence import areallyourpetsnamederic do?\n",
    "12. If you had a bacon() feature in a spam module, what would you call it after importing spam?\n",
    "13. What can you do to save a programme from crashing if it encounters an error?\n",
    "14. What is the purpose of the try clause? What is the purpose of the except clause?"
   ]
  },
  {
   "cell_type": "code",
   "execution_count": 1,
   "id": "bddc5fa9",
   "metadata": {},
   "outputs": [
    {
     "data": {
      "text/plain": [
       "'functions are advantageous as Functions reduce the need for duplicate code. This makes programs shorter, easier toread, and easier to update.'"
      ]
     },
     "execution_count": 1,
     "metadata": {},
     "output_type": "execute_result"
    }
   ],
   "source": [
    "#Ans of Q1\n",
    "\"functions are advantageous as Functions reduce the need for duplicate code. This makes programs shorter, easier toread, and easier to update.\""
   ]
  },
  {
   "cell_type": "code",
   "execution_count": 3,
   "id": "ac0100c6",
   "metadata": {},
   "outputs": [
    {
     "data": {
      "text/plain": [
       "\"The code in a function runs when it's called.\""
      ]
     },
     "execution_count": 3,
     "metadata": {},
     "output_type": "execute_result"
    }
   ],
   "source": [
    "#Ans of Q2\n",
    "\"The code in a function runs when it's called.\""
   ]
  },
  {
   "cell_type": "code",
   "execution_count": 4,
   "id": "2605c1df",
   "metadata": {},
   "outputs": [
    {
     "data": {
      "text/plain": [
       "'The def keyword is used to creates a function'"
      ]
     },
     "execution_count": 4,
     "metadata": {},
     "output_type": "execute_result"
    }
   ],
   "source": [
    "#Ans of Q3\n",
    "\"The def keyword is used to creates a function\""
   ]
  },
  {
   "cell_type": "code",
   "execution_count": 6,
   "id": "36efc768",
   "metadata": {},
   "outputs": [
    {
     "data": {
      "text/plain": [
       "20"
      ]
     },
     "execution_count": 6,
     "metadata": {},
     "output_type": "execute_result"
    }
   ],
   "source": [
    "#Ans of Q4\n",
    "\"\"\"\n",
    "function :\n",
    "A function is a block of code that does a particular operation and returns a result. It usually accepts inputs as parameters and returns a result. The parameters are not mandatory.\n",
    "ex:\n",
    "\"\"\"\n",
    "def test(a,b):\n",
    "    return a + b\n",
    "\n",
    "\n",
    "\"\"\"\n",
    "function call :\n",
    "A function call is the code used to pass control to a function.\n",
    "ex:\n",
    "\"\"\"\n",
    "test(10,10)\n"
   ]
  },
  {
   "cell_type": "code",
   "execution_count": 8,
   "id": "fd61d305",
   "metadata": {},
   "outputs": [
    {
     "data": {
      "text/plain": [
       "'There is only one global and local scope in python per program execution.'"
      ]
     },
     "execution_count": 8,
     "metadata": {},
     "output_type": "execute_result"
    }
   ],
   "source": [
    "#Ans of Q5\n",
    "\"There is only one global and local scope in python per program execution.\"\n"
   ]
  },
  {
   "cell_type": "code",
   "execution_count": 10,
   "id": "3125badd",
   "metadata": {},
   "outputs": [
    {
     "data": {
      "text/plain": [
       "' Local variables are created when a function starts, and deleted when the function is completed.Hence when the function call returns, the local variables are destroyed.'"
      ]
     },
     "execution_count": 10,
     "metadata": {},
     "output_type": "execute_result"
    }
   ],
   "source": [
    "#Ans of Q6\n",
    "\" Local variables are created when a function starts, and deleted when the function is completed.Hence when the function call returns, the local variables are destroyed.\""
   ]
  },
  {
   "cell_type": "code",
   "execution_count": 21,
   "id": "ef6fd557",
   "metadata": {},
   "outputs": [
    {
     "data": {
      "text/plain": [
       "\"\\n A return is a value that a function returns to the calling script or function when it completes its task.\\n\\n A Python function will always have a return value. There is no notion of procedure or routine in Python. So, if you don't explicitly use a return value in a return statement, or if you totally omit the return statement, then Python will implicitly return a default value for you.\\n\""
      ]
     },
     "execution_count": 21,
     "metadata": {},
     "output_type": "execute_result"
    }
   ],
   "source": [
    "#Ans of Q7\n",
    "\n",
    "\"\"\"\n",
    " A return is a value that a function returns to the calling script or function when it completes its task.\n",
    "\n",
    " A Python function will always have a return value. There is no notion of procedure or routine in Python. So, if you don't explicitly use a return value in a return statement, or if you totally omit the return statement, then Python will implicitly return a default value for you.\n",
    "\"\"\""
   ]
  },
  {
   "cell_type": "code",
   "execution_count": 29,
   "id": "77a8b964",
   "metadata": {},
   "outputs": [
    {
     "name": "stdout",
     "output_type": "stream",
     "text": [
      "In this case, the return value of the called function is undefined.\n"
     ]
    }
   ],
   "source": [
    "#Ans of Q8\n",
    "print(\"In this case, the return value of the called function is undefined.\")\n",
    "def test21(a):\n",
    "    a*a\n",
    "test21(2)"
   ]
  },
  {
   "cell_type": "code",
   "execution_count": 30,
   "id": "211021b2",
   "metadata": {},
   "outputs": [
    {
     "data": {
      "text/plain": [
       "'we can use the global keyword to declare which variables are global.'"
      ]
     },
     "execution_count": 30,
     "metadata": {},
     "output_type": "execute_result"
    }
   ],
   "source": [
    "#Ans of Q9\n",
    "\"we can use the global keyword to declare which variables are global.\""
   ]
  },
  {
   "cell_type": "code",
   "execution_count": 32,
   "id": "1b53fb6b",
   "metadata": {},
   "outputs": [
    {
     "data": {
      "text/plain": [
       "'None is a data type of its own(NoneType).'"
      ]
     },
     "execution_count": 32,
     "metadata": {},
     "output_type": "execute_result"
    }
   ],
   "source": [
    "#Ans of Q10\n",
    "\"None is a data type of its own(NoneType).\""
   ]
  },
  {
   "cell_type": "code",
   "execution_count": 34,
   "id": "98026220",
   "metadata": {},
   "outputs": [
    {
     "data": {
      "text/plain": [
       "'It gives ModuleNotFound Error'"
      ]
     },
     "execution_count": 34,
     "metadata": {},
     "output_type": "execute_result"
    }
   ],
   "source": [
    "#Ans of Q11\n",
    "\"It gives ModuleNotFound Error\""
   ]
  },
  {
   "cell_type": "code",
   "execution_count": 35,
   "id": "ef69299a",
   "metadata": {},
   "outputs": [
    {
     "data": {
      "text/plain": [
       "'\\nwe would call it a function.\\nTo call the function #bacon() we could use below statement :\\nimport spam\\nspam.bacon()\\n'"
      ]
     },
     "execution_count": 35,
     "metadata": {},
     "output_type": "execute_result"
    }
   ],
   "source": [
    "#Ans of Q12\n",
    "\"\"\"\n",
    "we can call it a function.\n",
    "To call the function #bacon() we could use below statement :\n",
    "import spam\n",
    "spam.bacon()\n",
    "\"\"\""
   ]
  },
  {
   "cell_type": "code",
   "execution_count": 38,
   "id": "8510e9fe",
   "metadata": {},
   "outputs": [
    {
     "data": {
      "text/plain": [
       "'we could use Exceptions handling Using try and except'"
      ]
     },
     "execution_count": 38,
     "metadata": {},
     "output_type": "execute_result"
    }
   ],
   "source": [
    "#Ans of Q13\n",
    "\"we could use Exceptions handling Using try and except\""
   ]
  },
  {
   "cell_type": "code",
   "execution_count": 39,
   "id": "69246ded",
   "metadata": {},
   "outputs": [
    {
     "data": {
      "text/plain": [
       "'The try block lets you test a block of code for errors. The except block lets you handle the error. '"
      ]
     },
     "execution_count": 39,
     "metadata": {},
     "output_type": "execute_result"
    }
   ],
   "source": [
    "#Ans of Q14\n",
    "\"The try block lets you test a block of code for errors. The except block lets you handle the error. \""
   ]
  }
 ],
 "metadata": {
  "kernelspec": {
   "display_name": "Python 3 (ipykernel)",
   "language": "python",
   "name": "python3"
  },
  "language_info": {
   "codemirror_mode": {
    "name": "ipython",
    "version": 3
   },
   "file_extension": ".py",
   "mimetype": "text/x-python",
   "name": "python",
   "nbconvert_exporter": "python",
   "pygments_lexer": "ipython3",
   "version": "3.9.13"
  }
 },
 "nbformat": 4,
 "nbformat_minor": 5
}
