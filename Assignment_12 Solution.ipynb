{
 "cells": [
  {
   "cell_type": "markdown",
   "id": "0dbadcc7",
   "metadata": {},
   "source": [
    "# Assignment_12 Solution"
   ]
  },
  {
   "cell_type": "markdown",
   "id": "30ac5097",
   "metadata": {},
   "source": [
    "Q1. In what modes should the PdfFileReader() and PdfFileWriter() File objects will be opened?\n",
    "\n",
    "Q2. From a PdfFileReader object, how do you get a Page object for page 5?\n",
    "\n",
    "Q3. What PdfFileReader variable stores the number of pages in the PDF document?\n",
    "\n",
    "Q4. If a PdfFileReader object’s PDF is encrypted with the password swordfish, what must you do\n",
    "before you can obtain Page objects from it?\n",
    "\n",
    "Q5. What methods do you use to rotate a page?\n",
    "\n",
    "Q6. What is the difference between a Run object and a Paragraph object?\n",
    "\n",
    "Q7. How do you obtain a list of Paragraph objects for a Document object that’s stored in a variable\n",
    "named doc?\n",
    "\n",
    "Q8. What type of object has bold, underline, italic, strike, and outline variables?\n",
    "\n",
    "Q9. What is the difference between False, True, and None for the bold variable?\n",
    "\n",
    "Q10. How do you create a Document object for a new Word document?\n",
    "\n",
    "Q11. How do you add a paragraph with the text &#39;Hello, there!&#39; to a Document object stored in a\n",
    "variable named doc?\n",
    "\n",
    "Q12. What integers represent the levels of headings available in Word documents?"
   ]
  },
  {
   "cell_type": "markdown",
   "id": "91409482",
   "metadata": {},
   "source": [
    "Ans of Q1"
   ]
  },
  {
   "cell_type": "markdown",
   "id": "ae7cdc2c",
   "metadata": {},
   "source": [
    "PdfFileReader() and PdfFileWriter() objects are created using the open() method of the PdfFileReader and PdfFileWriter classes, respectively. The open() method is used to open the PDF file in a specific mode."
   ]
  },
  {
   "cell_type": "markdown",
   "id": "c16a8e02",
   "metadata": {},
   "source": [
    "For PdfFileReader(), the PDF file should be opened in binary mode ('rb'), which stands for \"read binary.\" "
   ]
  },
  {
   "cell_type": "code",
   "execution_count": 1,
   "id": "9d2f905e",
   "metadata": {},
   "outputs": [
    {
     "name": "stdout",
     "output_type": "stream",
     "text": [
      "Requirement already satisfied: PyPDF2 in c:\\users\\amank\\anaconda3\\lib\\site-packages (3.0.1)\n",
      "Requirement already satisfied: typing_extensions>=3.10.0.0 in c:\\users\\amank\\anaconda3\\lib\\site-packages (from PyPDF2) (4.3.0)\n",
      "Note: you may need to restart the kernel to use updated packages.\n"
     ]
    }
   ],
   "source": [
    "pip install PyPDF2"
   ]
  },
  {
   "cell_type": "code",
   "execution_count": 21,
   "id": "087ea7d9",
   "metadata": {
    "scrolled": true
   },
   "outputs": [
    {
     "name": "stdout",
     "output_type": "stream",
     "text": [
      "Number of pages: 2\n"
     ]
    }
   ],
   "source": [
    "import PyPDF2\n",
    "pdf_file = open('Menu.pdf', 'rb')\n",
    "pdf_reader = PyPDF2.PdfReader(pdf_file)\n",
    "num_pages = len(pdf_reader.pages)\n",
    "print('Number of pages:', num_pages)"
   ]
  },
  {
   "cell_type": "markdown",
   "id": "c2ce07a2",
   "metadata": {},
   "source": [
    "For PdfFileWriter(), the PDF file should be opened in binary mode as well, but with write binary mode ('wb'). This allows the writer to create a new PDF file or modify an existing one."
   ]
  },
  {
   "cell_type": "code",
   "execution_count": 20,
   "id": "e7800686",
   "metadata": {},
   "outputs": [],
   "source": [
    "output_pdf = open('output.pdf', 'wb')\n",
    "pdf_writer = PyPDF2.PdfWriter()"
   ]
  },
  {
   "cell_type": "markdown",
   "id": "5a12adcb",
   "metadata": {},
   "source": [
    "Ans of Q2"
   ]
  },
  {
   "cell_type": "code",
   "execution_count": 38,
   "id": "0908d17a",
   "metadata": {},
   "outputs": [],
   "source": [
    "with open('Menu.pdf', 'rb') as pdf_file:\n",
    "    pdf_reader = PyPDF2.PdfReader(pdf_file)\n",
    "\n",
    "    # Get the Page object for page 2 (index 1)\n",
    "    # similarly we can do this for 5 pages\n",
    "    page = pdf_reader.pages[1]\n",
    "    page.extract_text()\n"
   ]
  },
  {
   "cell_type": "markdown",
   "id": "55f04315",
   "metadata": {},
   "source": [
    "Ans of Q3"
   ]
  },
  {
   "cell_type": "markdown",
   "id": "c3e83c98",
   "metadata": {},
   "source": [
    "The PdfFileReader class in PyPDF2 provides a variable called numPages that stores the number of pages in a PDF document. This variable holds the total count of pages present in the PDF file."
   ]
  },
  {
   "cell_type": "code",
   "execution_count": 40,
   "id": "13393ed8",
   "metadata": {},
   "outputs": [],
   "source": [
    "with open('Menu.pdf', 'rb') as pdf_file:\n",
    "    pdf_reader = PyPDF2.PdfReader(pdf_file)\n",
    "\n",
    "    # Get the number of pages in the PDF document\n",
    "    num_pages = len(pdf_reader.pages) \n"
   ]
  },
  {
   "cell_type": "markdown",
   "id": "f879ea12",
   "metadata": {},
   "source": [
    "Ans of Q4"
   ]
  },
  {
   "cell_type": "markdown",
   "id": "7ea57e2c",
   "metadata": {},
   "source": [
    "If a PdfFileReader object's PDF is encrypted with a password (e.g., \"swordfish\"), you need to decrypt the PDF file by providing the correct password before you can obtain Page objects from it."
   ]
  },
  {
   "cell_type": "markdown",
   "id": "1664b78b",
   "metadata": {},
   "source": [
    "Before we obtain the page object, the pdf has to be decrypted by calling .decrypt('swordfish')"
   ]
  },
  {
   "cell_type": "markdown",
   "id": "ae1bf669",
   "metadata": {},
   "source": [
    "Ans of Q5"
   ]
  },
  {
   "cell_type": "markdown",
   "id": "5674735e",
   "metadata": {},
   "source": [
    "page.rotateClockwise(90) is used to rotate a page by 90 degree we can replace 90 by some other values "
   ]
  },
  {
   "cell_type": "markdown",
   "id": "87624af4",
   "metadata": {},
   "source": [
    "A Run object represents a contiguous span of text within a paragraph that has the same formatting attributes.\n",
    "It is the smallest unit of text styling or formatting that can be applied independently within a paragraph."
   ]
  },
  {
   "cell_type": "markdown",
   "id": "7ac34005",
   "metadata": {},
   "source": [
    "A Paragraph object represents a block of text or a logical unit of text within a document.\n",
    "It typically consists of one or more Run objects."
   ]
  },
  {
   "cell_type": "markdown",
   "id": "0e2aa9dc",
   "metadata": {},
   "source": [
    "Ans of Q6"
   ]
  },
  {
   "cell_type": "code",
   "execution_count": 45,
   "id": "90fdc8f9",
   "metadata": {},
   "outputs": [
    {
     "name": "stdout",
     "output_type": "stream",
     "text": [
      "Collecting python-docx\n",
      "  Downloading python-docx-0.8.11.tar.gz (5.6 MB)\n",
      "     ---------------------------------------- 5.6/5.6 MB 4.1 MB/s eta 0:00:00\n",
      "  Preparing metadata (setup.py): started\n",
      "  Preparing metadata (setup.py): finished with status 'done'\n",
      "Requirement already satisfied: lxml>=2.3.2 in c:\\users\\amank\\anaconda3\\lib\\site-packages (from python-docx) (4.9.1)\n",
      "Building wheels for collected packages: python-docx\n",
      "  Building wheel for python-docx (setup.py): started\n",
      "  Building wheel for python-docx (setup.py): finished with status 'done'\n",
      "  Created wheel for python-docx: filename=python_docx-0.8.11-py3-none-any.whl size=184489 sha256=a66fe6c64ab7baa88372569ae0459f41d4ead6cac45faa624c67d85a439f8763\n",
      "  Stored in directory: c:\\users\\amank\\appdata\\local\\pip\\cache\\wheels\\83\\8b\\7c\\09ae60c42c7ba4ed2dddaf2b8b9186cb105255856d6ed3dba5\n",
      "Successfully built python-docx\n",
      "Installing collected packages: python-docx\n",
      "Successfully installed python-docx-0.8.11\n",
      "Note: you may need to restart the kernel to use updated packages.\n"
     ]
    }
   ],
   "source": [
    "pip install python-docx\n"
   ]
  },
  {
   "cell_type": "code",
   "execution_count": 48,
   "id": "6e37ae43",
   "metadata": {},
   "outputs": [],
   "source": [
    "from docx import Document\n",
    "\n",
    "# Create a new Document object\n",
    "doc = Document()\n",
    "\n",
    "# Add content to the document\n",
    "doc.add_paragraph(\"Hello, world!\")  # Adding a paragraph with text\n",
    " # Adding an image (replace \"image.jpg\" with the path to your image file)\n",
    "# You can add more paragraphs, tables, headings, etc.\n",
    "\n",
    "# Save the document\n",
    "doc.save(\"abc.docx\")  # Save the document to a file (replace \"output.docx\" with your desired filename)\n"
   ]
  },
  {
   "cell_type": "code",
   "execution_count": 54,
   "id": "2bf7ce14",
   "metadata": {},
   "outputs": [
    {
     "data": {
      "text/plain": [
       "[<docx.text.paragraph.Paragraph at 0x1af8ea8f9d0>]"
      ]
     },
     "execution_count": 54,
     "metadata": {},
     "output_type": "execute_result"
    }
   ],
   "source": [
    "import docx\n",
    "doc = docx.Document('abc.docx')\n",
    "doc.paragraphs # Paragraph is an attribute\n"
   ]
  },
  {
   "cell_type": "code",
   "execution_count": 58,
   "id": "bf5771ba",
   "metadata": {},
   "outputs": [
    {
     "name": "stdout",
     "output_type": "stream",
     "text": [
      "<docx.text.paragraph.Paragraph object at 0x000001AF8EC72130>\n"
     ]
    }
   ],
   "source": [
    "for i in doc.paragraphs:\n",
    "    text = i  \n",
    "    print(text)\n",
    "# This code will give object"
   ]
  },
  {
   "cell_type": "code",
   "execution_count": 60,
   "id": "8ab55689",
   "metadata": {},
   "outputs": [
    {
     "name": "stdout",
     "output_type": "stream",
     "text": [
      "Hello, world!\n"
     ]
    }
   ],
   "source": [
    "for i in doc.paragraphs:\n",
    "    text = i.text\n",
    "    print(text)\n",
    "# This code will give text"
   ]
  },
  {
   "cell_type": "markdown",
   "id": "5a6c2efd",
   "metadata": {},
   "source": [
    "Ans of Q8"
   ]
  },
  {
   "cell_type": "markdown",
   "id": "b190740e",
   "metadata": {},
   "source": [
    "The Font object in the python-docx library has variables for bold, underline, italic, strike, and outline formatting attributes"
   ]
  },
  {
   "cell_type": "markdown",
   "id": "9765e36e",
   "metadata": {},
   "source": [
    "Ans of Q9"
   ]
  },
  {
   "cell_type": "markdown",
   "id": "81fd86d1",
   "metadata": {},
   "source": [
    "False:\n",
    "\n",
    "Setting bold to False means that the text will not be displayed in bold.\n",
    "\n",
    "Example: run.bold = False\n",
    "True:\n",
    "\n",
    "Setting bold to True means that the text will be displayed in bold.\n",
    "\n",
    "Example: run.bold = True\n",
    "\n",
    "None:\n",
    "Setting bold to None (or not explicitly setting it) will inherit the bold setting from the underlying style hierarchy.\n",
    "If the style hierarchy specifies that the text should be bold, then it will be displayed in bold.\n",
    "If the style hierarchy does not specify bold formatting, the text will not be displayed in bold."
   ]
  },
  {
   "cell_type": "markdown",
   "id": "42131ff6",
   "metadata": {},
   "source": [
    "Ans of Q10"
   ]
  },
  {
   "cell_type": "markdown",
   "id": "e03664b3",
   "metadata": {},
   "source": [
    "By Calling the docx.Document() function."
   ]
  },
  {
   "cell_type": "markdown",
   "id": "ba86756d",
   "metadata": {},
   "source": [
    "Ans of Q11"
   ]
  },
  {
   "cell_type": "code",
   "execution_count": 69,
   "id": "f11418fc",
   "metadata": {},
   "outputs": [],
   "source": [
    "import docx\n",
    "doc = docx.Document()\n",
    "\n",
    "doc.add_paragraph('Hello there!')\n",
    "doc.save('Doc.docx')\n",
    "     "
   ]
  },
  {
   "cell_type": "markdown",
   "id": "d4fc97cf",
   "metadata": {},
   "source": [
    "Ans of Q12"
   ]
  },
  {
   "cell_type": "markdown",
   "id": "338d588c",
   "metadata": {},
   "source": [
    "Heading levels are typically represented by integers from 1 to 9."
   ]
  },
  {
   "cell_type": "markdown",
   "id": "61d33d1a",
   "metadata": {},
   "source": [
    "These heading levels allow you to create a structured outline or table of contents in your Word documents, with the ability to apply different formatting and hierarchical organization to different sections of your content."
   ]
  },
  {
   "cell_type": "code",
   "execution_count": null,
   "id": "7b72d9a8",
   "metadata": {},
   "outputs": [],
   "source": []
  }
 ],
 "metadata": {
  "kernelspec": {
   "display_name": "Python 3 (ipykernel)",
   "language": "python",
   "name": "python3"
  },
  "language_info": {
   "codemirror_mode": {
    "name": "ipython",
    "version": 3
   },
   "file_extension": ".py",
   "mimetype": "text/x-python",
   "name": "python",
   "nbconvert_exporter": "python",
   "pygments_lexer": "ipython3",
   "version": "3.9.13"
  }
 },
 "nbformat": 4,
 "nbformat_minor": 5
}
