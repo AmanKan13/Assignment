{
 "cells": [
  {
   "cell_type": "markdown",
   "id": "89714b7a",
   "metadata": {},
   "source": [
    "# Assignment_25 Solution"
   ]
  },
  {
   "cell_type": "markdown",
   "id": "d6eb772a",
   "metadata": {},
   "source": [
    "Q1. What is the difference between enclosing a list comprehension in square brackets and\n",
    "parentheses?\n",
    "\n",
    "Q2. What is the relationship between generators and iterators?\n",
    "\n",
    "Q3. What are the signs that a function is a generator function?\n",
    "\n",
    "Q4. What is the purpose of a yield statement?\n",
    "\n",
    "Q5. What is the relationship between map calls and list comprehensions? Make a comparison and\n",
    "contrast between the two."
   ]
  },
  {
   "cell_type": "markdown",
   "id": "59762eca",
   "metadata": {},
   "source": [
    "Ans of Q1"
   ]
  },
  {
   "cell_type": "markdown",
   "id": "3f8f01a2",
   "metadata": {},
   "source": [
    "Square brackets: When you enclose a list comprehension in square brackets, it creates a new list. The list comprehension iterates over an iterable, applies a transformation or condition, and generates a new list containing the results."
   ]
  },
  {
   "cell_type": "markdown",
   "id": "e5e711ee",
   "metadata": {},
   "source": [
    "Parentheses: When you enclose a list comprehension in parentheses, it creates a generator object. A generator comprehension, also known as a generator expression, is similar to a list comprehension but generates elements on-the-fly as you iterate over it. It doesn't construct the entire list in memory at once"
   ]
  },
  {
   "cell_type": "markdown",
   "id": "23b2c460",
   "metadata": {},
   "source": [
    "Ans of Q2"
   ]
  },
  {
   "cell_type": "markdown",
   "id": "44cacdf3",
   "metadata": {},
   "source": [
    "Iterators: In Python, an iterator is an object that implements the iterator protocol, which consists of two methods: __iter__() and __next__(). The __iter__() method returns the iterator object itself, and the __next__() method returns the next item from the iterator. Iterators provide a way to iterate over a sequence of elements, fetching one element at a time.\n",
    "\n",
    "Generators: A generator is a special type of iterator that is created using a generator function or a generator comprehension. Generator functions are defined like regular functions but use the yield keyword instead of return to produce a series of values. Each time the yield statement is encountered, the generator function suspends its execution, saves its internal state, and yields the value to the caller. The next time the generator is called, it resumes execution from where it left off, retaining its internal state.\n",
    "\n",
    "Relationship: Generators can be seen as a concise and convenient way to create iterators. When a generator function is called, it returns a generator object, which is an iterator. The generator object can be iterated over using a loop or by calling the next() function on it. The generator function's code is executed on each iteration until a yield statement is encountered. At that point, the yielded value is returned, and the function's state is saved. The next time the generator is iterated, execution resumes from where it left off, continuing until the next yield statement or until the function completes."
   ]
  },
  {
   "cell_type": "markdown",
   "id": "6eaf6b8d",
   "metadata": {},
   "source": [
    "Ans of Q3"
   ]
  },
  {
   "cell_type": "markdown",
   "id": "23f1bb90",
   "metadata": {},
   "source": [
    "There are a few signs that indicate a function is a generator function in Python:\n",
    "\n",
    "1. Use of the yield keyword: Generator functions use the yield keyword instead of the return keyword to yield a series of values one at a time. If you encounter a function that contains one or more yield statements, it is likely a generator function.\n",
    "\n",
    "2. Function definition: Generator functions are defined like regular functions using the def keyword, but they often have a different structure compared to regular functions. They may contain one or more yield statements and typically generate values in a loop or based on some condition.\n",
    "\n",
    "3. Returns a generator object: When a generator function is called, it doesn't execute the function's body immediately. Instead, it returns a generator object, which is an iterator. You can recognize a generator function if its return value is assigned to a variable, and that variable can be iterated over using a loop or by calling the next() function on it."
   ]
  },
  {
   "cell_type": "markdown",
   "id": "5bfb6df1",
   "metadata": {},
   "source": [
    "Ans of Q4"
   ]
  },
  {
   "cell_type": "markdown",
   "id": "c3370e04",
   "metadata": {},
   "source": [
    "The main purposes of the yield statement:\n",
    "\n",
    "Generate a series of values: By using yield in a loop or based on some condition, a generator function can produce a sequence of values, one at a time, instead of constructing and returning an entire sequence at once. This enables the generator to be memory-efficient, especially when dealing with large datasets or infinite sequences."
   ]
  },
  {
   "cell_type": "markdown",
   "id": "261d3cab",
   "metadata": {},
   "source": [
    "Ans of Q5"
   ]
  },
  {
   "cell_type": "markdown",
   "id": "7bd6fb72",
   "metadata": {},
   "source": [
    "Map Calls:\n",
    "\n",
    "Syntax: A map call takes two arguments: a function and an iterable. It applies the function to each element of the iterable and returns a map object, which is an iterator. To get a list as the output, you need to explicitly convert the map object to a list using the list() function.\n",
    "\n",
    "Function Application: The provided function is applied to each element of the iterable, and the results are collected in the map object. The function can be a built-in function, a lambda function, or any other callable."
   ]
  },
  {
   "cell_type": "markdown",
   "id": "319a9958",
   "metadata": {},
   "source": [
    "List Comprehensions:\n",
    "\n",
    "Syntax: A list comprehension is a compact way to create a new list by specifying an expression, an optional condition, and an iterable. The resulting list is created immediately.\n",
    "\n",
    "Expressive Power: List comprehensions allow for more expressive power compared to map calls. They support applying multiple transformations, filtering elements based on conditions, and even nested iterations. This allows you to create complex lists in a concise and readable manner.\n"
   ]
  },
  {
   "cell_type": "code",
   "execution_count": null,
   "id": "40bb7a6a",
   "metadata": {},
   "outputs": [],
   "source": []
  }
 ],
 "metadata": {
  "kernelspec": {
   "display_name": "Python 3 (ipykernel)",
   "language": "python",
   "name": "python3"
  },
  "language_info": {
   "codemirror_mode": {
    "name": "ipython",
    "version": 3
   },
   "file_extension": ".py",
   "mimetype": "text/x-python",
   "name": "python",
   "nbconvert_exporter": "python",
   "pygments_lexer": "ipython3",
   "version": "3.9.13"
  }
 },
 "nbformat": 4,
 "nbformat_minor": 5
}
