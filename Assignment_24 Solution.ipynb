{
 "cells": [
  {
   "cell_type": "markdown",
   "id": "89714b7a",
   "metadata": {},
   "source": [
    "# Assignment_24 Solution"
   ]
  },
  {
   "cell_type": "markdown",
   "id": "ab67131e",
   "metadata": {},
   "source": [
    "Q1. What is the relationship between def statements and lambda expressions ?\n",
    "\n",
    "Q2. What is the benefit of lambda?\n",
    "\n",
    "Q3. Compare and contrast map, filter, and reduce.\n",
    "\n",
    "Q4. What are function annotations, and how are they used?\n",
    "\n",
    "Q5. What are recursive functions, and how are they used?\n",
    "\n",
    "Q6. What are some general design guidelines for coding functions?\n",
    "\n",
    "Q7. Name three or more ways that functions can communicate results to a caller."
   ]
  },
  {
   "cell_type": "markdown",
   "id": "489f6926",
   "metadata": {},
   "source": [
    "Ans of Q1"
   ]
  },
  {
   "cell_type": "markdown",
   "id": "5d3d02cb",
   "metadata": {},
   "source": [
    "Def statements and lambda expressions are both used to define functions in Python, but they have some key differences.\n",
    "\n",
    "**Naming**: A def statement creates a named function that can be referred to by its name, while a lambda expression creates an anonymous function without a specific name.\n",
    "\n",
    "**Size and Complexity**: Def statements can include multiple lines of code and can have complex logic within the function block. Lambda expressions are limited to a single expression and are typically used for simpler, more concise functions.\n",
    "\n",
    "**Assignability**: The result of a def statement is assigned to a variable, allowing it to be called multiple times. Lambda expressions are usually used where they are defined without assigning them to a variable, although they can be assigned to a variable for later use if needed."
   ]
  },
  {
   "cell_type": "code",
   "execution_count": 91,
   "id": "84d78c58",
   "metadata": {},
   "outputs": [],
   "source": [
    "def function_name(parameters):\n",
    "    # Code block\n",
    "    return value"
   ]
  },
  {
   "cell_type": "code",
   "execution_count": 92,
   "id": "cad2353a",
   "metadata": {},
   "outputs": [
    {
     "data": {
      "text/plain": [
       "<function __main__.<lambda>(parameters)>"
      ]
     },
     "execution_count": 92,
     "metadata": {},
     "output_type": "execute_result"
    }
   ],
   "source": [
    "lambda parameters: expression"
   ]
  },
  {
   "cell_type": "markdown",
   "id": "d5dfe3cf",
   "metadata": {},
   "source": [
    "Ans of Q2"
   ]
  },
  {
   "cell_type": "markdown",
   "id": "8bedced8",
   "metadata": {},
   "source": [
    "Lambda expressions provide a compact syntax for defining small functions in a single line of code. This can make the code more readable and reduce the need for creating separate named functions for simple operations.\n",
    "\n",
    "**Function Composition**: Lambda expressions can be used as building blocks for functional programming techniques such as function composition. They can be combined with higher-order functions like map(), filter(), and reduce() to perform operations on collections or sequences in a concise and expressive way."
   ]
  },
  {
   "cell_type": "markdown",
   "id": "aa7f2fe3",
   "metadata": {},
   "source": [
    "Ans of Q3"
   ]
  },
  {
   "cell_type": "markdown",
   "id": "ed7fc718",
   "metadata": {},
   "source": [
    "**Map, filter, and reduce** are higher-order functions in Python that operate on iterables (such as lists, tuples, or strings) and are commonly used in functional programming. While they share similarities, they have distinct purposes and behaviors:"
   ]
  },
  {
   "cell_type": "markdown",
   "id": "3b4424b3",
   "metadata": {},
   "source": [
    "Map:\n",
    "\n",
    "Purpose: The map() function applies a given function to each element of an iterable and returns an iterator that yields the results. It allows for transforming each element of a collection without modifying the original iterable.\n",
    "Syntax: map(function, iterable)\n"
   ]
  },
  {
   "cell_type": "code",
   "execution_count": 96,
   "id": "40bb4d37",
   "metadata": {},
   "outputs": [
    {
     "name": "stdout",
     "output_type": "stream",
     "text": [
      "[2, 4, 6, 8, 10]\n"
     ]
    }
   ],
   "source": [
    "#Example:\n",
    "    # Doubling each element of a list\n",
    "numbers = [1, 2, 3, 4, 5]\n",
    "doubled = map(lambda x: x * 2, numbers)\n",
    "print(list(doubled))  # Output: [2, 4, 6, 8, 10]\n"
   ]
  },
  {
   "cell_type": "markdown",
   "id": "f7b99443",
   "metadata": {},
   "source": [
    "Filter:\n",
    "\n",
    "Purpose: The filter() function creates an iterator from the elements of an iterable that satisfy a given condition. It allows for selecting elements based on a predicate function and discarding the ones that don't match the condition.\n",
    "Syntax: filter(function, iterable)\n",
    "Example:"
   ]
  },
  {
   "cell_type": "code",
   "execution_count": 98,
   "id": "63d640ac",
   "metadata": {},
   "outputs": [
    {
     "name": "stdout",
     "output_type": "stream",
     "text": [
      "[2, 4]\n"
     ]
    }
   ],
   "source": [
    "# Selecting even numbers from a list\n",
    "numbers = [1, 2, 3, 4, 5]\n",
    "evens = filter(lambda x: x % 2 == 0, numbers)\n",
    "print(list(evens))  # Output: [2, 4]\n"
   ]
  },
  {
   "cell_type": "markdown",
   "id": "e6d243bc",
   "metadata": {},
   "source": [
    "Reduce:\n",
    "\n",
    "Purpose: The reduce() function applies a given function to the elements of an iterable in a cumulative way, reducing them to a single value. It repeatedly applies the function to the result obtained so far and the next element of the iterable until all elements have been processed.\n",
    "Syntax: reduce(function, iterable[, initializer]) "
   ]
  },
  {
   "cell_type": "code",
   "execution_count": 99,
   "id": "d043767a",
   "metadata": {},
   "outputs": [
    {
     "name": "stdout",
     "output_type": "stream",
     "text": [
      "15\n"
     ]
    }
   ],
   "source": [
    "# Summing all elements of a list\n",
    "from functools import reduce\n",
    "numbers = [1, 2, 3, 4, 5]\n",
    "total = reduce(lambda x, y: x + y, numbers)\n",
    "print(total)  # Output: 15\n"
   ]
  },
  {
   "cell_type": "markdown",
   "id": "a4406a71",
   "metadata": {},
   "source": [
    "In summary, map() is used to transform each element of an iterable, filter() is used to select elements based on a condition, and reduce() is used to cumulatively apply a function to an iterable, reducing it to a single value."
   ]
  },
  {
   "cell_type": "markdown",
   "id": "16217825",
   "metadata": {},
   "source": [
    "Ans of Q4"
   ]
  },
  {
   "cell_type": "markdown",
   "id": "f369a2c9",
   "metadata": {},
   "source": [
    "**Function annotations** in Python are a way to attach metadata to the parameters and return value of a function declaration. They provide a way to specify the expected types, provide documentation, or add any other arbitrary information about the function's inputs and outputs. Function annotations do not affect the execution or behavior of the function; they are purely optional and provide additional information for developers or tools to interpret.\n",
    "\n",
    "Function annotations are defined using colons (:) after the parameter or return value declaration in the function signature. The syntax for function annotations is as follows:"
   ]
  },
  {
   "cell_type": "code",
   "execution_count": 102,
   "id": "acdbc0a1",
   "metadata": {},
   "outputs": [
    {
     "name": "stdout",
     "output_type": "stream",
     "text": [
      "{'x': <class 'int'>, 'y': <class 'int'>, 'return': <class 'int'>}\n"
     ]
    }
   ],
   "source": [
    "def add(x: int, y: int) -> int:\n",
    "    return x + y\n",
    "\n",
    "print(add.__annotations__)\n"
   ]
  },
  {
   "cell_type": "markdown",
   "id": "d02d3933",
   "metadata": {},
   "source": [
    "Ans of Q5"
   ]
  },
  {
   "cell_type": "markdown",
   "id": "d0c4fccf",
   "metadata": {},
   "source": [
    "A recursive function is a function that calls itself during its execution. In other words, it is a function that solves a problem by breaking it down into smaller, similar subproblems and calling itself to solve each subproblem. Recursive functions are based on the concept of recursion, which is the process of solving a problem by solving smaller instances of the same problem.\n",
    "\n",
    "Recursive functions typically consist of two parts:\n",
    "\n",
    "Base Case: A base case is a condition that defines the simplest case or the terminating condition of the recursive function. When the base case is met, the function stops calling itself and returns a result without further recursion.\n",
    "\n",
    "Recursive Case: The recursive case is the part of the function where it calls itself to solve a smaller instance of the problem. By breaking down the problem into smaller subproblems, the function can make progress towards the base case."
   ]
  },
  {
   "cell_type": "code",
   "execution_count": 108,
   "id": "7b1b0d5b",
   "metadata": {},
   "outputs": [
    {
     "name": "stdout",
     "output_type": "stream",
     "text": [
      "120\n"
     ]
    },
    {
     "data": {
      "text/plain": [
       "'the factorial() function calls itself with a smaller value (n - 1) until it reaches\\nthe base case (n == 0), where it returns 1.\\nmultiplying the current value of n with the result of the recursive call, until it reaches the original call.'"
      ]
     },
     "execution_count": 108,
     "metadata": {},
     "output_type": "execute_result"
    }
   ],
   "source": [
    "def factorial(n):\n",
    "    if n == 0:  # Base case\n",
    "        return 1\n",
    "    else:\n",
    "        return n * factorial(n - 1)  # Recursive case\n",
    "\n",
    "result = factorial(5)\n",
    "print(result) \n",
    "\n",
    "\"\"\"the factorial() function calls itself with a smaller value (n - 1) until it reaches\n",
    "the base case (n == 0), where it returns 1.\n",
    "multiplying the current value of n with the result of the recursive call, until it reaches the original call.\"\"\""
   ]
  },
  {
   "cell_type": "markdown",
   "id": "b7edceb3",
   "metadata": {},
   "source": [
    "Ans of Q6"
   ]
  },
  {
   "cell_type": "markdown",
   "id": "d5a40ab2",
   "metadata": {},
   "source": [
    "When coding functions, it is important to follow good design guidelines to ensure readability, maintainability, and reusability of the code. Here are some general guidelines for coding functions:\n",
    "\n",
    "1. Single Responsibility Principle: Functions should have a clear and single responsibility. They should focus on performing a specific task or solving a specific problem. If a function becomes too large or complex, consider breaking it down into smaller, more focused functions.\n",
    "\n",
    "2. Function Naming: Choose descriptive and meaningful names for functions that accurately reflect their purpose or the action they perform. Use verbs or verb phrases to indicate the function's behavior.\n",
    "\n",
    "3. Function Length and Complexity: Keep functions concise and avoid excessive complexity. Functions should ideally fit within a single screen without the need for scrolling. If a function becomes too long or contains nested logic, consider refactoring it into smaller functions or using control structures like loops or conditional statements to simplify the code.\n",
    "\n",
    "4. Function Parameters: Limit the number of parameters a function requires, as too many parameters can make the function harder to use and understand. If a function has a large number of parameters, consider grouping related parameters into objects or data structures. Use default parameter values when appropriate to provide flexibility and avoid excessive parameter passing.\n",
    "\n",
    "5. Error Handling: Consider how your function handles and communicates errors or exceptional cases. Use appropriate exception handling techniques, such as try-except blocks, to catch and handle exceptions. If your function can raise exceptions, clearly document the exceptions it may raise.\n",
    "\n",
    "6. Modularity and Reusability: Design functions to be modular and reusable. Aim for functions that can be used in multiple contexts and are independent of specific data or global states. Encapsulate specific functionality within functions, allowing them to be easily called and reused in different parts of your codebase.\n",
    "\n",
    "8. Testing and Validation: Write test cases for your functions to verify their correctness and behavior. Use automated testing frameworks to run tests and ensure that your functions work as intended. Consider edge cases, boundary conditions, and different scenarios during testing.\n",
    "\n",
    "9. Maintain Consistent Style: Follow a consistent coding style within your functions and adhere to the established style guide for the programming language you are using. Consistent indentation, naming conventions, and formatting improve readability and make your code more approachable for others.\n",
    "\n",
    "10. Limit Side Effects: Minimize side effects and mutable state changes within functions. Functions should ideally operate on their inputs and return the computed result without modifying external variables or state. If necessary, clearly document and communicate any side effects.\n",
    "\n"
   ]
  },
  {
   "cell_type": "markdown",
   "id": "72f9f7a1",
   "metadata": {},
   "source": [
    "Ans of Q6"
   ]
  },
  {
   "cell_type": "markdown",
   "id": "26d22880",
   "metadata": {},
   "source": [
    "Below are the three ways that functions can communicate results to a caller."
   ]
  },
  {
   "cell_type": "code",
   "execution_count": 110,
   "id": "ce5da21f",
   "metadata": {},
   "outputs": [
    {
     "name": "stdout",
     "output_type": "stream",
     "text": [
      "5\n"
     ]
    }
   ],
   "source": [
    "def add_numbers(a, b):\n",
    "    return a + b\n",
    "\n",
    "result = add_numbers(2, 3)\n",
    "print(result)  # Output: 5\n"
   ]
  },
  {
   "cell_type": "code",
   "execution_count": 111,
   "id": "1390333a",
   "metadata": {},
   "outputs": [
    {
     "name": "stdout",
     "output_type": "stream",
     "text": [
      "[1, 2, 3, 4]\n"
     ]
    }
   ],
   "source": [
    "def append_element(lst, element):\n",
    "    lst.append(element)\n",
    "\n",
    "my_list = [1, 2, 3]\n",
    "append_element(my_list, 4)\n",
    "print(my_list)  # Output: [1, 2, 3, 4]\n"
   ]
  },
  {
   "cell_type": "code",
   "execution_count": 112,
   "id": "ddcd1fc3",
   "metadata": {},
   "outputs": [
    {
     "name": "stdout",
     "output_type": "stream",
     "text": [
      "1\n"
     ]
    }
   ],
   "source": [
    "count = 0\n",
    "\n",
    "def increment_count():\n",
    "    global count\n",
    "    count += 1\n",
    "\n",
    "increment_count()\n",
    "print(count)  # Output: 1\n"
   ]
  },
  {
   "cell_type": "code",
   "execution_count": null,
   "id": "c60e54db",
   "metadata": {},
   "outputs": [],
   "source": []
  }
 ],
 "metadata": {
  "kernelspec": {
   "display_name": "Python 3 (ipykernel)",
   "language": "python",
   "name": "python3"
  },
  "language_info": {
   "codemirror_mode": {
    "name": "ipython",
    "version": 3
   },
   "file_extension": ".py",
   "mimetype": "text/x-python",
   "name": "python",
   "nbconvert_exporter": "python",
   "pygments_lexer": "ipython3",
   "version": "3.9.13"
  }
 },
 "nbformat": 4,
 "nbformat_minor": 5
}
