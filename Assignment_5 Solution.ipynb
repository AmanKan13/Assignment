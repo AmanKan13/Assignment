{
 "cells": [
  {
   "cell_type": "markdown",
   "id": "325eb6b4",
   "metadata": {},
   "source": [
    "# Assignment 5"
   ]
  },
  {
   "cell_type": "markdown",
   "id": "f5d814cf",
   "metadata": {},
   "source": [
    "Q1. What does an empty dictionary&#39;s code look like?"
   ]
  },
  {
   "cell_type": "markdown",
   "id": "e0af8d11",
   "metadata": {},
   "source": [
    "Ans of Q1"
   ]
  },
  {
   "cell_type": "code",
   "execution_count": 1,
   "id": "af4766e8",
   "metadata": {},
   "outputs": [
    {
     "data": {
      "text/plain": [
       "dict"
      ]
     },
     "execution_count": 1,
     "metadata": {},
     "output_type": "execute_result"
    }
   ],
   "source": [
    "empty_dic = {}\n",
    "type(empty_dic)"
   ]
  },
  {
   "cell_type": "markdown",
   "id": "2cd1ba5e",
   "metadata": {},
   "source": [
    "Q2. What is the value of a dictionary value with the key &#39;foo&#39; and the value 42?"
   ]
  },
  {
   "cell_type": "markdown",
   "id": "a27c250a",
   "metadata": {},
   "source": [
    "Ans of Q2"
   ]
  },
  {
   "cell_type": "code",
   "execution_count": 2,
   "id": "ff6344e4",
   "metadata": {},
   "outputs": [
    {
     "data": {
      "text/plain": [
       "dict_values([42, 12])"
      ]
     },
     "execution_count": 2,
     "metadata": {},
     "output_type": "execute_result"
    }
   ],
   "source": [
    "dic = {'foo':42,'aman':12}\n",
    "dic.values()"
   ]
  },
  {
   "cell_type": "markdown",
   "id": "0747f2ae",
   "metadata": {},
   "source": [
    "Q3. What is the most significant distinction between a dictionary and a list?"
   ]
  },
  {
   "cell_type": "markdown",
   "id": "fc67f29b",
   "metadata": {},
   "source": [
    "Ans of Q3"
   ]
  },
  {
   "cell_type": "code",
   "execution_count": 3,
   "id": "3c13d90c",
   "metadata": {},
   "outputs": [],
   "source": [
    "\"\"\"A list is an ordered collection of elements that are indexed by integers starting from zero. You can add, remove, and modify elements of a list by their index. For example, you can create a list of numbers as follow\n",
    "\"\"\"\n",
    "my_list = [1, 2, 3, 4, 5]\n",
    "\n",
    "\"A dictionary, on the other hand, is an unordered collection of key-value pairs. Each key in a dictionary maps to a corresponding value. You can add, remove, and modify key-value pairs in a dictionary. For example, you can create a dictionary of people's ages as follows:\"\n",
    "ages = {\"Aman\": 20, \"Adi\": 25, \"sunny\": 42}"
   ]
  },
  {
   "cell_type": "markdown",
   "id": "00c9e6c9",
   "metadata": {},
   "source": [
    "Q4. What happens if you try to access spam[&#39;foo&#39;] if spam is {&#39;bar&#39;: 100}?"
   ]
  },
  {
   "cell_type": "markdown",
   "id": "ec0f7f7a",
   "metadata": {},
   "source": [
    "Ans of Q4"
   ]
  },
  {
   "cell_type": "code",
   "execution_count": 4,
   "id": "92421bf2",
   "metadata": {},
   "outputs": [
    {
     "ename": "KeyError",
     "evalue": "'foo'",
     "output_type": "error",
     "traceback": [
      "\u001b[1;31m---------------------------------------------------------------------------\u001b[0m",
      "\u001b[1;31mKeyError\u001b[0m                                  Traceback (most recent call last)",
      "\u001b[1;32m~\\AppData\\Local\\Temp\\ipykernel_10024\\4225480567.py\u001b[0m in \u001b[0;36m<module>\u001b[1;34m\u001b[0m\n\u001b[0;32m      1\u001b[0m \u001b[1;34m\"this code will lead to an error(keyerror) as 'foo' isn't a key value in the spam dictionary\"\u001b[0m\u001b[1;33m\u001b[0m\u001b[1;33m\u001b[0m\u001b[0m\n\u001b[0;32m      2\u001b[0m \u001b[0mspam\u001b[0m \u001b[1;33m=\u001b[0m \u001b[1;33m{\u001b[0m\u001b[1;34m'bar'\u001b[0m\u001b[1;33m:\u001b[0m \u001b[1;36m100\u001b[0m\u001b[1;33m}\u001b[0m\u001b[1;33m\u001b[0m\u001b[1;33m\u001b[0m\u001b[0m\n\u001b[1;32m----> 3\u001b[1;33m \u001b[0mspam\u001b[0m\u001b[1;33m[\u001b[0m\u001b[1;34m'foo'\u001b[0m\u001b[1;33m]\u001b[0m\u001b[1;33m\u001b[0m\u001b[1;33m\u001b[0m\u001b[0m\n\u001b[0m",
      "\u001b[1;31mKeyError\u001b[0m: 'foo'"
     ]
    }
   ],
   "source": [
    "\"this code will lead to an error(keyerror) as 'foo' isn't a key value in the spam dictionary\"\n",
    "spam = {'bar': 100}\n",
    "spam['foo']"
   ]
  },
  {
   "cell_type": "markdown",
   "id": "fbd32d72",
   "metadata": {},
   "source": [
    "Q5. If a dictionary is stored in spam, what is the difference between the expressions &#39;cat&#39; in spam and\n",
    "&#39;cat&#39; in spam.keys()?"
   ]
  },
  {
   "cell_type": "markdown",
   "id": "bc663eac",
   "metadata": {},
   "source": [
    "Ans of Q5"
   ]
  },
  {
   "cell_type": "code",
   "execution_count": null,
   "id": "a2b872cc",
   "metadata": {},
   "outputs": [],
   "source": [
    "\"\"\"The expression 'cat' in spam checks if the key 'cat' is present in the dictionary spam. If the key exists in spam, it returns True, otherwise False. For example:\"\"\"\n",
    "spam = {'cat': 5,}\n",
    "print('cat' in spam) "
   ]
  },
  {
   "cell_type": "code",
   "execution_count": null,
   "id": "fd19dbc0",
   "metadata": {},
   "outputs": [],
   "source": [
    "\"\"\"However, the expression 'cat' in spam.keys() is equivalent to 'cat' in spam. That is, it also checks if the key 'cat' is present in the dictionary spam. For example:\"\"\"\n",
    "print('cat' in spam.keys())"
   ]
  },
  {
   "cell_type": "markdown",
   "id": "f7b5fe26",
   "metadata": {},
   "source": [
    "Q6. If a dictionary is stored in spam, what is the difference between the expressions &#39;cat&#39; in spam and\n",
    "&#39;cat&#39; in spam.values()?"
   ]
  },
  {
   "cell_type": "markdown",
   "id": "61fb1c3b",
   "metadata": {},
   "source": [
    "Ans of Q6"
   ]
  },
  {
   "cell_type": "code",
   "execution_count": null,
   "id": "751fd001",
   "metadata": {},
   "outputs": [],
   "source": [
    "\"The expression 'cat' in spam checks if the key 'cat' is present in the dictionary spam. If the key exists in spam, it returns True, otherwise False. For example:\"\n",
    "spam = {'cat': 5,}\n",
    "print('cat' in spam) \n"
   ]
  },
  {
   "cell_type": "code",
   "execution_count": null,
   "id": "17dce69c",
   "metadata": {},
   "outputs": [],
   "source": [
    "However "
   ]
  },
  {
   "cell_type": "code",
   "execution_count": null,
   "id": "2689a331",
   "metadata": {},
   "outputs": [],
   "source": [
    "\"\"\"However, 'cat' in spam.values() checks if the value 'cat' is present in any of the values of the dictionary spam. If the value exists in spam, it returns True, otherwise False. However, since the value 'cat' is not present in any of the values of the spam dictionary (the values are integers), this expression will always return False. For example:\"\"\"\n",
    "\n",
    "print('cat' in spam.values())  "
   ]
  },
  {
   "cell_type": "markdown",
   "id": "8fa1ef40",
   "metadata": {},
   "source": [
    "Q7 What is a shortcut for the following code?\n",
    "if &#39;color&#39; not in spam:\n",
    "spam[&#39;color&#39;] = &#39;black&#39;"
   ]
  },
  {
   "cell_type": "markdown",
   "id": "6c16602e",
   "metadata": {},
   "source": [
    "Ans of Q7"
   ]
  },
  {
   "cell_type": "code",
   "execution_count": 20,
   "id": "7f3a1041",
   "metadata": {},
   "outputs": [
    {
     "data": {
      "text/plain": [
       "{'Color': 'Black'}"
      ]
     },
     "execution_count": 20,
     "metadata": {},
     "output_type": "execute_result"
    }
   ],
   "source": [
    "spam = {}\n",
    "spam.setdefault('Color', 'Black')\n",
    "spam"
   ]
  },
  {
   "cell_type": "markdown",
   "id": "e5377cbe",
   "metadata": {},
   "source": [
    "Q8. How do you &quot;pretty print&quot; dictionary values using which module and function?"
   ]
  },
  {
   "cell_type": "markdown",
   "id": "1e95a60b",
   "metadata": {},
   "source": [
    "Ans of Q8"
   ]
  },
  {
   "cell_type": "code",
   "execution_count": 22,
   "id": "315423e0",
   "metadata": {},
   "outputs": [
    {
     "name": "stdout",
     "output_type": "stream",
     "text": [
      "{'age': 30, 'city': 'New York', 'name': 'John'}\n"
     ]
    }
   ],
   "source": [
    "import pprint\n",
    "\n",
    "my_dict = {'name': 'John', 'age': 30, 'city': 'New York'}\n",
    "pprint.pprint(my_dict)"
   ]
  }
 ],
 "metadata": {
  "kernelspec": {
   "display_name": "Python 3 (ipykernel)",
   "language": "python",
   "name": "python3"
  },
  "language_info": {
   "codemirror_mode": {
    "name": "ipython",
    "version": 3
   },
   "file_extension": ".py",
   "mimetype": "text/x-python",
   "name": "python",
   "nbconvert_exporter": "python",
   "pygments_lexer": "ipython3",
   "version": "3.9.13"
  }
 },
 "nbformat": 4,
 "nbformat_minor": 5
}
