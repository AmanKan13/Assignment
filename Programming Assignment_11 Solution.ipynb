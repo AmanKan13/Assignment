{
 "cells": [
  {
   "cell_type": "markdown",
   "id": "89714b7a",
   "metadata": {},
   "source": [
    "# Programming Assignment_11 Solution"
   ]
  },
  {
   "cell_type": "markdown",
   "id": "148a2ec9",
   "metadata": {},
   "source": [
    "Q1. Write a Python program to find words which are greater than given length k?\n",
    "\n",
    "Q2. Write a Python program for removing i-th character from a string?\n",
    "\n",
    "Q3. Write a Python program to split and join a string?\n",
    "\n",
    "Q4. Write a Python to check if a given string is binary string or not?\n",
    "\n",
    "Q5. Write a Python program to find uncommon words from two Strings?\n",
    "\n",
    "Q6. Write a Python to find all duplicate characters in string?\n",
    "\n",
    "Q7. Write a Python Program to check if a string contains any special character?"
   ]
  },
  {
   "cell_type": "markdown",
   "id": "f21f7e39",
   "metadata": {},
   "source": [
    "Ans of Q1"
   ]
  },
  {
   "cell_type": "code",
   "execution_count": 28,
   "id": "2cf6db05",
   "metadata": {},
   "outputs": [
    {
     "name": "stdout",
     "output_type": "stream",
     "text": [
      "Enter the word 5\n",
      "Words greater than length 5 : ['Length']\n"
     ]
    }
   ],
   "source": [
    "k = int(input(\"Enter the word \"))\n",
    "def length_k(sentence):\n",
    "    word = sentence.split()\n",
    "    List = []\n",
    "    for i in word:\n",
    "            if len(i) > k:\n",
    "                List.append(i)        \n",
    "    return List\n",
    "                \n",
    "\n",
    "word = \"Here is the Code for Length k\" \n",
    "\n",
    "Word_greater_than_length_k = length_k(word)\n",
    "\n",
    "print(\"Words greater than length\", k, \":\", Word_greater_than_length_k)"
   ]
  },
  {
   "cell_type": "markdown",
   "id": "e78403bb",
   "metadata": {},
   "source": [
    "Ans of Q2"
   ]
  },
  {
   "cell_type": "code",
   "execution_count": 42,
   "id": "a46f2acf",
   "metadata": {},
   "outputs": [
    {
     "name": "stdout",
     "output_type": "stream",
     "text": [
      "Original string: Hello, World!\n",
      "New string after removing character at index 7 : Hello,World!\n"
     ]
    }
   ],
   "source": [
    "def remove_ith_character(string, i):\n",
    "    if i < 0 or i >= len(string):\n",
    "        return string\n",
    "\n",
    "    return string[:i-1] + string[i:]\n",
    "\n",
    "# Example usage\n",
    "string = \"Hello, World!\"\n",
    "i = 7\n",
    "\n",
    "new_string = remove_ith_character(string, i)\n",
    "print(\"Original string:\", string)\n",
    "print(\"New string after removing character at index\", i, \":\", new_string)\n",
    "\n"
   ]
  },
  {
   "cell_type": "markdown",
   "id": "dd479917",
   "metadata": {},
   "source": [
    "Ans of Q3"
   ]
  },
  {
   "cell_type": "code",
   "execution_count": 46,
   "id": "444e6076",
   "metadata": {},
   "outputs": [
    {
     "name": "stdout",
     "output_type": "stream",
     "text": [
      "Original string: Hello, World! How are you?\n",
      "New string after splitting and joining: (['Hello,', 'World!', 'How', 'are', 'you?'], 'Hello, World! How are you?')\n"
     ]
    }
   ],
   "source": [
    "def split_and_join_string(string):\n",
    "    # Split the string into a list of words\n",
    "    words = string.split()\n",
    "\n",
    "    # Join the words with a space\n",
    "    joined_string = ' '.join(words)\n",
    "\n",
    "    return words,joined_string\n",
    "\n",
    "# Example usage\n",
    "string = \"Hello, World! How are you?\"\n",
    "\n",
    "# Split and join the string\n",
    "new_string = split_and_join_string(string)\n",
    "print(\"Original string:\", string)\n",
    "print(\"New string after splitting and joining:\", new_string)\n"
   ]
  },
  {
   "cell_type": "markdown",
   "id": "5e518181",
   "metadata": {},
   "source": [
    "Ans of Q4"
   ]
  },
  {
   "cell_type": "code",
   "execution_count": 24,
   "id": "1fc76481",
   "metadata": {},
   "outputs": [
    {
     "name": "stdout",
     "output_type": "stream",
     "text": [
      "The string is a binary string.\n"
     ]
    }
   ],
   "source": [
    "def is_binary_string(string):\n",
    "    # Set of valid binary digits\n",
    "    valid_digits = {'0', '1'}\n",
    "\n",
    "    # Check if each character is a valid binary digit\n",
    "    for char in string:\n",
    "        if char not in valid_digits:\n",
    "            return False\n",
    "\n",
    "    # If all characters are valid binary digits\n",
    "    return True\n",
    "\n",
    "# Example usage\n",
    "string = \"1010101\"\n",
    "\n",
    "if is_binary_string(string):\n",
    "    print(\"The string is a binary string.\")\n",
    "else:\n",
    "    print(\"The string is not a binary string.\")\n"
   ]
  },
  {
   "cell_type": "markdown",
   "id": "c1a64ea2",
   "metadata": {},
   "source": [
    "Ans of Q5"
   ]
  },
  {
   "cell_type": "code",
   "execution_count": 25,
   "id": "a395cba5",
   "metadata": {},
   "outputs": [
    {
     "name": "stdout",
     "output_type": "stream",
     "text": [
      "Uncommon words: {'over', 'dog', 'jumps', 'the', 'quick', 'lazy'}\n"
     ]
    }
   ],
   "source": [
    "def find_uncommon_words(string1, string2):\n",
    "    # Split the strings into lists of words\n",
    "    words1 = string1.split()\n",
    "    words2 = string2.split()\n",
    "\n",
    "    # Create sets of unique words from each string\n",
    "    unique_words1 = set(words1)\n",
    "    unique_words2 = set(words2)\n",
    "\n",
    "    # Find uncommon words by taking the symmetric difference of the two sets\n",
    "    uncommon_words = unique_words1 ^ unique_words2\n",
    "\n",
    "    return uncommon_words\n",
    "\n",
    "# Example usage\n",
    "string1 = \"The quick brown fox\"\n",
    "string2 = \"The lazy dog jumps over the brown fox\"\n",
    "\n",
    "uncommon_words = find_uncommon_words(string1, string2)\n",
    "print(\"Uncommon words:\", uncommon_words)\n"
   ]
  },
  {
   "cell_type": "markdown",
   "id": "cf71d31c",
   "metadata": {},
   "source": [
    "Ans of Q6"
   ]
  },
  {
   "cell_type": "code",
   "execution_count": 26,
   "id": "c8721503",
   "metadata": {},
   "outputs": [
    {
     "name": "stdout",
     "output_type": "stream",
     "text": [
      "Duplicate characters: ['l', 'o', 'l']\n"
     ]
    }
   ],
   "source": [
    "def find_duplicate_characters(string):\n",
    "    # Create an empty list to store the duplicate characters\n",
    "    duplicates = []\n",
    "\n",
    "    # Create a set to keep track of characters seen so far\n",
    "    seen = set()\n",
    "\n",
    "    # Iterate over each character in the string\n",
    "    for char in string:\n",
    "        # Check if the character has been seen before\n",
    "        if char in seen:\n",
    "            # If yes, add it to the duplicates list\n",
    "            duplicates.append(char)\n",
    "        else:\n",
    "            # If not, add it to the seen set\n",
    "            seen.add(char)\n",
    "\n",
    "    return duplicates\n",
    "\n",
    "# Example usage\n",
    "string = \"Hello, World!\"\n",
    "\n",
    "duplicate_characters = find_duplicate_characters(string)\n",
    "print(\"Duplicate characters:\", duplicate_characters)\n"
   ]
  },
  {
   "cell_type": "markdown",
   "id": "a518779e",
   "metadata": {},
   "source": [
    "Ans of Q7"
   ]
  },
  {
   "cell_type": "code",
   "execution_count": 27,
   "id": "8050885f",
   "metadata": {},
   "outputs": [
    {
     "name": "stdout",
     "output_type": "stream",
     "text": [
      "The string contains special character(s).\n"
     ]
    }
   ],
   "source": [
    "import re\n",
    "\n",
    "def contains_special_character(string):\n",
    "    # Regular expression pattern to match special characters\n",
    "    pattern = r'[^a-zA-Z0-9\\s]'\n",
    "\n",
    "    # Search for any special character in the string\n",
    "    match = re.search(pattern, string)\n",
    "\n",
    "    # If a match is found, string contains special character\n",
    "    if match:\n",
    "        return True\n",
    "    else:\n",
    "        return False\n",
    "\n",
    "# Example usage\n",
    "string = \"Hello, World!\"\n",
    "\n",
    "if contains_special_character(string):\n",
    "    print(\"The string contains special character(s).\")\n",
    "else:\n",
    "    print(\"The string does not contain any special characters.\")\n"
   ]
  },
  {
   "cell_type": "code",
   "execution_count": null,
   "id": "df257d95",
   "metadata": {},
   "outputs": [],
   "source": []
  }
 ],
 "metadata": {
  "kernelspec": {
   "display_name": "Python 3 (ipykernel)",
   "language": "python",
   "name": "python3"
  },
  "language_info": {
   "codemirror_mode": {
    "name": "ipython",
    "version": 3
   },
   "file_extension": ".py",
   "mimetype": "text/x-python",
   "name": "python",
   "nbconvert_exporter": "python",
   "pygments_lexer": "ipython3",
   "version": "3.9.13"
  }
 },
 "nbformat": 4,
 "nbformat_minor": 5
}
