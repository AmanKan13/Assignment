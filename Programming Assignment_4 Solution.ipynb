{
 "cells": [
  {
   "cell_type": "markdown",
   "id": "46bda81c",
   "metadata": {},
   "source": [
    "# Programming Assignment 4"
   ]
  },
  {
   "cell_type": "markdown",
   "id": "737b0dd8",
   "metadata": {},
   "source": [
    "1. Write a Python Program to Find the Factorial of a Number?\n",
    "2. Write a Python Program to Display the multiplication Table?\n",
    "3. Write a Python Program to Print the Fibonacci sequence?\n",
    "4. Write a Python Program to Check Armstrong Number?\n",
    "5. Write a Python Program to Find Armstrong Number in an Interval?\n",
    "6. Write a Python Program to Find the Sum of Natural Numbers?"
   ]
  },
  {
   "cell_type": "markdown",
   "id": "c73f26cb",
   "metadata": {},
   "source": [
    "Ans of Q1"
   ]
  },
  {
   "cell_type": "code",
   "execution_count": 1,
   "id": "13483491",
   "metadata": {},
   "outputs": [
    {
     "name": "stdout",
     "output_type": "stream",
     "text": [
      "Enter a number :45\n",
      "119622220865480194561963161495657715064383733760000000000\n"
     ]
    }
   ],
   "source": [
    "\n",
    "number = int(input(\"Enter a number :\"))\n",
    "\n",
    "factorial = 1\n",
    "\n",
    "for i in range(1,number+1):\n",
    "    factorial = factorial*i\n",
    "print(factorial)\n"
   ]
  },
  {
   "cell_type": "markdown",
   "id": "6647bbb9",
   "metadata": {},
   "source": [
    "Ans of Q2"
   ]
  },
  {
   "cell_type": "code",
   "execution_count": 2,
   "id": "8a93ec36",
   "metadata": {},
   "outputs": [
    {
     "name": "stdout",
     "output_type": "stream",
     "text": [
      "Enter a number :25\n",
      "25 * 1 = 25\n",
      "25 * 2 = 50\n",
      "25 * 3 = 75\n",
      "25 * 4 = 100\n",
      "25 * 5 = 125\n",
      "25 * 6 = 150\n",
      "25 * 7 = 175\n",
      "25 * 8 = 200\n",
      "25 * 9 = 225\n",
      "25 * 10 = 250\n"
     ]
    }
   ],
   "source": [
    "number = int(input(\"Enter a number :\"))\n",
    "\n",
    "Multiplier = number\n",
    "\n",
    "for i in range(1,11):\n",
    "    print(number,\"*\",i,\"=\",number*i)\n"
   ]
  },
  {
   "cell_type": "markdown",
   "id": "9a686f14",
   "metadata": {},
   "source": [
    "Ans of Q3"
   ]
  },
  {
   "cell_type": "code",
   "execution_count": 3,
   "id": "9628731a",
   "metadata": {},
   "outputs": [
    {
     "name": "stdout",
     "output_type": "stream",
     "text": [
      "Enter a number :56\n",
      "0 1 1 2 3 5 8 13 21 34 55 89 144 233 377 610 987 1597 2584 4181 6765 10946 17711 28657 46368 75025 121393 196418 317811 514229 832040 1346269 2178309 3524578 5702887 9227465 14930352 24157817 39088169 63245986 102334155 165580141 267914296 433494437 701408733 1134903170 1836311903 2971215073 4807526976 7778742049 12586269025 20365011074 32951280099 53316291173 86267571272 139583862445 "
     ]
    }
   ],
   "source": [
    "term = int(input(\"Enter a number :\"))\n",
    "\n",
    "a,b = 0,1\n",
    "\n",
    "for i in range(term):\n",
    "    print(a, end=\" \")\n",
    "    a,b = b,b+a\n"
   ]
  },
  {
   "cell_type": "markdown",
   "id": "8d850a5d",
   "metadata": {},
   "source": [
    "Ans of Q4"
   ]
  },
  {
   "cell_type": "code",
   "execution_count": 23,
   "id": "e09757b2",
   "metadata": {},
   "outputs": [
    {
     "name": "stdout",
     "output_type": "stream",
     "text": [
      "Enter a number: 50\n",
      "50 isn't an Armstrong number.\n"
     ]
    }
   ],
   "source": [
    "number = int(input(\"Enter a number: \"))\n",
    "num_str = str(number)\n",
    "num_len = len(num_str)\n",
    "a = 0   \n",
    "\n",
    "for i in num_str:\n",
    "    a += sum([int(i)**num_len])\n",
    "    \n",
    "if a == number:\n",
    "    print(number, \"is an Armstrong number.\")\n",
    "else:\n",
    "    print(number, \"isn't an Armstrong number.\")\n",
    "      "
   ]
  },
  {
   "cell_type": "markdown",
   "id": "510d2e54",
   "metadata": {},
   "source": [
    "Ans of Q5"
   ]
  },
  {
   "cell_type": "code",
   "execution_count": 25,
   "id": "b4783da3",
   "metadata": {},
   "outputs": [
    {
     "name": "stdout",
     "output_type": "stream",
     "text": [
      "Enter the lower limit of the interval: 1\n",
      "Enter the upper limit of the interval: 100\n",
      "Armstrong numbers in the interval [1, 100]: [1, 2, 3, 4, 5, 6, 7, 8, 9]\n"
     ]
    }
   ],
   "source": [
    "def armstrong_number(number):\n",
    "    num_str = str(number)\n",
    "    num_len = len(num_str)\n",
    "    armstrong_sum = 0\n",
    "    # to get the sum of all digit\n",
    "    \n",
    "    for digit in num_str:\n",
    "        armstrong_sum += sum([int(digit)**num_len])\n",
    "        \n",
    "    return armstrong_sum == number\n",
    "\n",
    "\n",
    "lower = int(input(\"Enter the lower limit of the interval: \"))\n",
    "upper = int(input(\"Enter the upper limit of the interval: \"))\n",
    "\n",
    "armstrong_numbers = []\n",
    "for number in range(lower,upper+1):\n",
    "    if armstrong_number(number):\n",
    "        armstrong_numbers.append(number)\n",
    "        \n",
    "if len(armstrong_numbers) > 0:\n",
    "    print(\"Armstrong numbers in the interval [{}, {}]: {}\".format(lower, upper, armstrong_numbers))\n",
    "else:\n",
    "    print(\"There are no Armstrong numbers in the interval [{}, {}].\".format(lower, upper))\n"
   ]
  },
  {
   "cell_type": "markdown",
   "id": "7230e34d",
   "metadata": {},
   "source": [
    "Ans of Q6"
   ]
  },
  {
   "cell_type": "code",
   "execution_count": 5,
   "id": "17f93287",
   "metadata": {},
   "outputs": [
    {
     "name": "stdout",
     "output_type": "stream",
     "text": [
      "1\n",
      "2\n",
      "3\n",
      "4\n",
      "5\n",
      "6\n",
      "7\n",
      "8\n",
      "9\n"
     ]
    }
   ],
   "source": [
    "i = 1\n",
    "while i >=1 and i < 100:\n",
    "    print(i)\n",
    "    i = i+1"
   ]
  },
  {
   "cell_type": "code",
   "execution_count": null,
   "id": "a0d916f6",
   "metadata": {},
   "outputs": [],
   "source": []
  }
 ],
 "metadata": {
  "kernelspec": {
   "display_name": "Python 3 (ipykernel)",
   "language": "python",
   "name": "python3"
  },
  "language_info": {
   "codemirror_mode": {
    "name": "ipython",
    "version": 3
   },
   "file_extension": ".py",
   "mimetype": "text/x-python",
   "name": "python",
   "nbconvert_exporter": "python",
   "pygments_lexer": "ipython3",
   "version": "3.9.13"
  }
 },
 "nbformat": 4,
 "nbformat_minor": 5
}
