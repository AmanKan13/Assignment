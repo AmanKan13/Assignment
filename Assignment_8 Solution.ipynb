{
 "cells": [
  {
   "cell_type": "markdown",
   "id": "11ef738d",
   "metadata": {},
   "source": [
    "# Assignment_8 Solution"
   ]
  },
  {
   "cell_type": "markdown",
   "id": "0bc08149",
   "metadata": {},
   "source": [
    "Q1 Is the Python Standard Library included with PyInputPlus?"
   ]
  },
  {
   "cell_type": "markdown",
   "id": "0a71d7ac",
   "metadata": {},
   "source": [
    "Ans of Q1"
   ]
  },
  {
   "cell_type": "markdown",
   "id": "ce4bc29d",
   "metadata": {},
   "source": [
    "No, PyInputPlus is a third-party Python package that is not included in the Python Standard Library. The Python Standard Library is a set of modules and packages that are distributed with Python and are available by default when you install Python."
   ]
  },
  {
   "cell_type": "code",
   "execution_count": 1,
   "id": "4ad3fcef",
   "metadata": {},
   "outputs": [
    {
     "name": "stdout",
     "output_type": "stream",
     "text": [
      "What is your name? AMAN\n",
      "Hello, AMAN\n"
     ]
    }
   ],
   "source": [
    "#pip install pyinputplus\n",
    "\n",
    "import pyinputplus as pyip\n",
    "\n",
    "name = pyip.inputStr('What is your name? ')\n",
    "print('Hello, ' + name)\n"
   ]
  },
  {
   "cell_type": "markdown",
   "id": "227c7a0e",
   "metadata": {},
   "source": [
    "Q2 Why is PyInputPlus commonly imported with import pyinputplus as pypi?"
   ]
  },
  {
   "cell_type": "markdown",
   "id": "c730355a",
   "metadata": {},
   "source": [
    "Ans of Q2"
   ]
  },
  {
   "cell_type": "markdown",
   "id": "30539259",
   "metadata": {},
   "source": [
    "PyInputPlus is commonly imported with the import pyinputplus as pypi statement because it allows you to use a shorter and more convenient name for the PyInputPlus module in your code."
   ]
  },
  {
   "cell_type": "markdown",
   "id": "7605b52e",
   "metadata": {},
   "source": [
    "Q3 How do you distinguish between inputInt() and inputFloat()?"
   ]
  },
  {
   "cell_type": "markdown",
   "id": "f0273cfe",
   "metadata": {},
   "source": [
    "Ans of Q3"
   ]
  },
  {
   "cell_type": "markdown",
   "id": "0562362a",
   "metadata": {},
   "source": [
    "inputInt() is used to get an integer input from the user. It only accepts input that can be converted to an integer, such as whole numbers or strings that represent integers. If the user enters input that cannot be converted to an integer, PyInputPlus will raise a ValidationException"
   ]
  },
  {
   "cell_type": "code",
   "execution_count": 2,
   "id": "c86ca8a7",
   "metadata": {},
   "outputs": [
    {
     "name": "stdout",
     "output_type": "stream",
     "text": [
      "Enter an integer: 99\n"
     ]
    }
   ],
   "source": [
    "import pyinputplus as pyip\n",
    "\n",
    "num = pyip.inputInt('Enter an integer: ')\n"
   ]
  },
  {
   "cell_type": "markdown",
   "id": "a03bf7eb",
   "metadata": {},
   "source": [
    "inputFloat() is used to get a floating-point input from the user. It accepts input that can be converted to a float, such as decimal numbers or strings that represent floats. If the user enters input that cannot be converted to a float, PyInputPlus will raise a ValidationException."
   ]
  },
  {
   "cell_type": "code",
   "execution_count": 3,
   "id": "04e6d5c4",
   "metadata": {},
   "outputs": [
    {
     "name": "stdout",
     "output_type": "stream",
     "text": [
      "Enter a float: 9\n"
     ]
    }
   ],
   "source": [
    "import pyinputplus as pyip\n",
    "\n",
    "num = pyip.inputFloat('Enter a float: ')\n"
   ]
  },
  {
   "cell_type": "markdown",
   "id": "616f127a",
   "metadata": {},
   "source": [
    "Q4. Using PyInputPlus, how do you ensure that the user enters a whole number between 0 and 99?"
   ]
  },
  {
   "cell_type": "markdown",
   "id": "28b5c727",
   "metadata": {},
   "source": [
    "Ans of Q4"
   ]
  },
  {
   "cell_type": "code",
   "execution_count": 4,
   "id": "ead4e0be",
   "metadata": {},
   "outputs": [
    {
     "name": "stdout",
     "output_type": "stream",
     "text": [
      "Enter a number between 0 and 99: 145\n",
      "Number must be at maximum 99.\n",
      "Enter a number between 0 and 99: 50\n"
     ]
    }
   ],
   "source": [
    "\"By using below code: \"\n",
    "number = pyip.inputInt(prompt='Enter a number between 0 and 99: ', min=0, max=99)\n"
   ]
  },
  {
   "cell_type": "markdown",
   "id": "4295c16c",
   "metadata": {},
   "source": [
    "Q5 What is transferred to the keyword arguments allowRegexes and blockRegexes?"
   ]
  },
  {
   "cell_type": "markdown",
   "id": "b8f116af",
   "metadata": {},
   "source": [
    "Ans of Q5"
   ]
  },
  {
   "cell_type": "markdown",
   "id": "7872cce1",
   "metadata": {},
   "source": [
    "The allowRegexes argument is used to specify a list of regular expressions that define patterns for valid input. If an input matches any of the regular expressions in the list, it is considered valid and is returned by the input*() function."
   ]
  },
  {
   "cell_type": "code",
   "execution_count": 7,
   "id": "921f053f",
   "metadata": {},
   "outputs": [
    {
     "name": "stdout",
     "output_type": "stream",
     "text": [
      "Enter a number between 1 and 10: 10\n",
      "You entered: 10\n"
     ]
    }
   ],
   "source": [
    "import pyinputplus as pyip\n",
    "\n",
    "number = pyip.inputInt(prompt='Enter a number between 1 and 10: ', allowRegexes=[r'^[1-9]$|^10$'])\n",
    "print('You entered:', number)\n"
   ]
  },
  {
   "cell_type": "markdown",
   "id": "722815bc",
   "metadata": {},
   "source": [
    "The blockRegexes argument is used to specify a list of regular expressions that define patterns for invalid input. If an input matches any of the regular expressions in the list, it is considered invalid and the input*() function will prompt the user to enter valid input."
   ]
  },
  {
   "cell_type": "code",
   "execution_count": 6,
   "id": "b0e358e4",
   "metadata": {},
   "outputs": [
    {
     "name": "stdout",
     "output_type": "stream",
     "text": [
      "Enter a name without the letter Z: ZOO\n",
      "This response is invalid.\n",
      "Enter a name without the letter Z: AMAN\n"
     ]
    }
   ],
   "source": [
    "import pyinputplus as pyip\n",
    "\n",
    "name = pyip.inputStr('Enter a name without the letter Z: ', blockRegexes=['.*[Zz].*'])\n"
   ]
  },
  {
   "cell_type": "markdown",
   "id": "3f6f0ed5",
   "metadata": {},
   "source": [
    "Q6. If a blank input is entered three times, what does inputStr(limit=3) do?"
   ]
  },
  {
   "cell_type": "markdown",
   "id": "4cfbbcd8",
   "metadata": {},
   "source": [
    "Ans of Q6"
   ]
  },
  {
   "cell_type": "markdown",
   "id": "83374cb1",
   "metadata": {},
   "source": [
    "If a blank input is entered three times, the inputStr(limit=3) function from PyInputPlus will raise a TimeoutException."
   ]
  },
  {
   "cell_type": "markdown",
   "id": "64a5e1ea",
   "metadata": {},
   "source": [
    "Q7. If blank input is entered three times, what does inputStr(limit=3, default=&#39;hello&#39;) do?"
   ]
  },
  {
   "cell_type": "markdown",
   "id": "d0006a5d",
   "metadata": {},
   "source": [
    "Ans of Q7"
   ]
  },
  {
   "cell_type": "markdown",
   "id": "5239d83e",
   "metadata": {},
   "source": [
    "If blank input is entered three times and the inputStr(limit=3, default='hello') function from PyInputPlus is used, it will return the default value of 'hello'.\n",
    "\n",
    "The default keyword argument in inputStr() specifies the value to be returned if the user enters a blank input and the maximum number of attempts is reached. By default, default is set to None."
   ]
  }
 ],
 "metadata": {
  "kernelspec": {
   "display_name": "Python 3 (ipykernel)",
   "language": "python",
   "name": "python3"
  },
  "language_info": {
   "codemirror_mode": {
    "name": "ipython",
    "version": 3
   },
   "file_extension": ".py",
   "mimetype": "text/x-python",
   "name": "python",
   "nbconvert_exporter": "python",
   "pygments_lexer": "ipython3",
   "version": "3.9.13"
  }
 },
 "nbformat": 4,
 "nbformat_minor": 5
}
