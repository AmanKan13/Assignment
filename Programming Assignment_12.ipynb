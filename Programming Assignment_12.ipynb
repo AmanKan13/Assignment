{
 "cells": [
  {
   "cell_type": "markdown",
   "id": "580a2f5b",
   "metadata": {},
   "source": [
    "# Programming Assignment_12 Solution"
   ]
  },
  {
   "cell_type": "markdown",
   "id": "0c241c3f",
   "metadata": {},
   "source": [
    "Q1. Write a Python program to Extract Unique values dictionary values?\n",
    "\n",
    "Q2. Write a Python program to find the sum of all items in a dictionary?\n",
    "\n",
    "Q3. Write a Python program to Merging two Dictionaries?\n",
    "\n",
    "Q4. Write a Python program to convert key-values list to flat dictionary?\n",
    "\n",
    "Q5. Write a Python program to insertion at the beginning in OrderedDict?\n",
    "\n",
    "Q6. Write a Python program to check order of character in string using OrderedDict()?\n",
    "\n",
    "Q7. Write a Python program to sort Python Dictionaries by Key or Value?"
   ]
  },
  {
   "cell_type": "markdown",
   "id": "ef9785bf",
   "metadata": {},
   "source": [
    "Ans of Q1"
   ]
  },
  {
   "cell_type": "code",
   "execution_count": 1,
   "id": "69bf520d",
   "metadata": {},
   "outputs": [
    {
     "name": "stdout",
     "output_type": "stream",
     "text": [
      "[1, 2, 3]\n"
     ]
    }
   ],
   "source": [
    "def extract_unique_values(dictionary):\n",
    "    unique_values = list(set(dictionary.values()))\n",
    "    return unique_values\n",
    "\n",
    "# Example usage\n",
    "my_dict = {'a': 1, 'b': 2, 'c': 3, 'd': 2, 'e': 1}\n",
    "\n",
    "unique_values = extract_unique_values(my_dict)\n",
    "print(unique_values)"
   ]
  },
  {
   "cell_type": "markdown",
   "id": "1a564fb3",
   "metadata": {},
   "source": [
    "Ans of Q2"
   ]
  },
  {
   "cell_type": "code",
   "execution_count": 2,
   "id": "0a6c3232",
   "metadata": {},
   "outputs": [
    {
     "data": {
      "text/plain": [
       "5"
      ]
     },
     "execution_count": 2,
     "metadata": {},
     "output_type": "execute_result"
    }
   ],
   "source": [
    "my_dict = {'a': 1, 'b': 2, 'c': 3, 'd': 2, 'e': 1}\n",
    "len(my_dict)"
   ]
  },
  {
   "cell_type": "code",
   "execution_count": 9,
   "id": "cfba4e88",
   "metadata": {},
   "outputs": [
    {
     "name": "stdout",
     "output_type": "stream",
     "text": [
      "9\n"
     ]
    }
   ],
   "source": [
    "List = []\n",
    "def sum_values():\n",
    "    for i in my_dict.values():\n",
    "        List.append(i)\n",
    "        \n",
    "    for i in List:\n",
    "        i=i+i\n",
    "    print(sum(List))\n",
    "    \n",
    "\n",
    "\n",
    "sum_values()"
   ]
  },
  {
   "cell_type": "markdown",
   "id": "a6c6e5ad",
   "metadata": {},
   "source": [
    "Ans of Q3"
   ]
  },
  {
   "cell_type": "code",
   "execution_count": 41,
   "id": "7ad17bd6",
   "metadata": {},
   "outputs": [
    {
     "data": {
      "text/plain": [
       "({'a': 1, 'b': 2, 'c': 3, 'd': 2, 'e': 1},\n",
       " {'f': 4, 'g': 7, 'h': 8, 'i': 9, 'j': 10})"
      ]
     },
     "execution_count": 41,
     "metadata": {},
     "output_type": "execute_result"
    }
   ],
   "source": [
    "my_dict = {'a': 1, 'b': 2, 'c': 3, 'd': 2, 'e': 1}\n",
    "my_dict2 = {'f':4,'g':7,'h':8,'i':9,'j':10}\n",
    "\n",
    "def Merging():\n",
    "    merging_dict = my_dict,my_dict2.copy()\n",
    "    return merging_dict\n",
    "\n",
    "Merging()\n",
    "\n"
   ]
  },
  {
   "cell_type": "markdown",
   "id": "dd82f8ae",
   "metadata": {},
   "source": [
    "Ans of Q4"
   ]
  },
  {
   "cell_type": "code",
   "execution_count": 43,
   "id": "383a11ad",
   "metadata": {},
   "outputs": [],
   "source": [
    "my_dict = {'a': 1, 'b': 2, 'c': 3, 'd': 2, 'e': 1}"
   ]
  },
  {
   "cell_type": "code",
   "execution_count": 46,
   "id": "395c9840",
   "metadata": {},
   "outputs": [
    {
     "data": {
      "text/plain": [
       "dict_values([1, 2, 3, 2, 1])"
      ]
     },
     "execution_count": 46,
     "metadata": {},
     "output_type": "execute_result"
    }
   ],
   "source": [
    "def convert_key_values():\n",
    "    Flat_Dict = my_dict.values()\n",
    "    \n",
    "    return Flat_Dict\n",
    "\n",
    "convert_key_values()"
   ]
  },
  {
   "cell_type": "markdown",
   "id": "c100a0e2",
   "metadata": {},
   "source": [
    "Ans of Q5"
   ]
  },
  {
   "cell_type": "code",
   "execution_count": 68,
   "id": "0ac19aa4",
   "metadata": {},
   "outputs": [
    {
     "name": "stdout",
     "output_type": "stream",
     "text": [
      "Original OrderedDict: OrderedDict([('a', 1), ('b', 2), ('c', 3)])\n",
      "Updated OrderedDict: OrderedDict([('x', 10), ('a', 1), ('b', 2), ('c', 3)])\n"
     ]
    }
   ],
   "source": [
    "from collections import OrderedDict\n",
    "\n",
    "def insert_at_beginning(ordered_dict, key, value):\n",
    "    ordered_dict[key] = value\n",
    "    ordered_dict.move_to_end(key, last=False)\n",
    "\n",
    "# Example usage\n",
    "my_ordered_dict = OrderedDict([('a', 1), ('b', 2), ('c', 3)])\n",
    "\n",
    "print(\"Original OrderedDict:\", my_ordered_dict)\n",
    "\n",
    "insert_at_beginning(my_ordered_dict, 'x', 10)\n",
    "print(\"Updated OrderedDict:\", my_ordered_dict)\n"
   ]
  },
  {
   "cell_type": "markdown",
   "id": "fe176fa8",
   "metadata": {},
   "source": [
    "Ans of Q6"
   ]
  },
  {
   "cell_type": "code",
   "execution_count": 69,
   "id": "bb4716cd",
   "metadata": {},
   "outputs": [
    {
     "name": "stdout",
     "output_type": "stream",
     "text": [
      "Characters are not in order\n"
     ]
    }
   ],
   "source": [
    "from collections import OrderedDict\n",
    "\n",
    "def check_order_of_characters(string):\n",
    "    ordered_dict = OrderedDict.fromkeys(string)\n",
    "\n",
    "    # Join the keys of the OrderedDict\n",
    "    ordered_string = ''.join(ordered_dict.keys())\n",
    "\n",
    "    # Compare the original string with the ordered string\n",
    "    if ordered_string == string:\n",
    "        return \"Characters are in order\"\n",
    "    else:\n",
    "        return \"Characters are not in order\"\n",
    "\n",
    "# Example usage\n",
    "input_string = \"hello\"\n",
    "\n",
    "result = check_order_of_characters(input_string)\n",
    "print(result)\n"
   ]
  },
  {
   "cell_type": "markdown",
   "id": "6c7e3623",
   "metadata": {},
   "source": [
    "Ans of Q7"
   ]
  },
  {
   "cell_type": "code",
   "execution_count": 70,
   "id": "4eff5d45",
   "metadata": {},
   "outputs": [],
   "source": [
    "my_dict = {'a': 1, 'b': 2, 'c': 3, 'd': 2, 'e': 1}"
   ]
  },
  {
   "cell_type": "code",
   "execution_count": 72,
   "id": "24df5820",
   "metadata": {},
   "outputs": [
    {
     "name": "stdout",
     "output_type": "stream",
     "text": [
      "Sorted by Key: {'a': 1, 'b': 2, 'c': 3}\n"
     ]
    }
   ],
   "source": [
    "def sort_dictionary_by_key(dictionary):\n",
    "    sorted_dict = dict(sorted(dictionary.items()))\n",
    "    return sorted_dict\n",
    "\n",
    "# Example usage\n",
    "my_dict = {'b': 2, 'a': 1, 'c': 3}\n",
    "\n",
    "sorted_by_key = sort_dictionary_by_key(my_dict)\n",
    "print(\"Sorted by Key:\", sorted_by_key)\n"
   ]
  },
  {
   "cell_type": "code",
   "execution_count": null,
   "id": "8efa8a38",
   "metadata": {},
   "outputs": [],
   "source": []
  }
 ],
 "metadata": {
  "kernelspec": {
   "display_name": "Python 3 (ipykernel)",
   "language": "python",
   "name": "python3"
  },
  "language_info": {
   "codemirror_mode": {
    "name": "ipython",
    "version": 3
   },
   "file_extension": ".py",
   "mimetype": "text/x-python",
   "name": "python",
   "nbconvert_exporter": "python",
   "pygments_lexer": "ipython3",
   "version": "3.9.13"
  }
 },
 "nbformat": 4,
 "nbformat_minor": 5
}
