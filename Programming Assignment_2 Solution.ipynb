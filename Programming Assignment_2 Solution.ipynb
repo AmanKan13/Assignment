{
 "cells": [
  {
   "cell_type": "markdown",
   "id": "6192eaca",
   "metadata": {},
   "source": [
    "Q1. Write a Python program to convert kilometers to miles?"
   ]
  },
  {
   "cell_type": "code",
   "execution_count": 16,
   "id": "ba82fe30",
   "metadata": {},
   "outputs": [
    {
     "name": "stdout",
     "output_type": "stream",
     "text": [
      "Input distance in kilometre : 5\n",
      "5km is 5000m\n"
     ]
    }
   ],
   "source": [
    "#Ans of Q1\n",
    "D1 = int(input(\"Input distance in kilometre : \"))\n",
    "D2 = D1*1000\n",
    "print(f\"{D1}km is {D2}m\")"
   ]
  },
  {
   "cell_type": "markdown",
   "id": "f113266a",
   "metadata": {},
   "source": [
    "Q2. Write a Python program to convert Celsius to Fahrenheit?"
   ]
  },
  {
   "cell_type": "code",
   "execution_count": 20,
   "id": "8cf5884d",
   "metadata": {},
   "outputs": [
    {
     "name": "stdout",
     "output_type": "stream",
     "text": [
      "Input temperature in Celsius : 5\n",
      "5 degree Celsius is 41 degree Fahrenheit\n"
     ]
    }
   ],
   "source": [
    "#Ans of Q2\n",
    "T1 = int(input(\"Input temperature in Celsius : \"))\n",
    "T2 = (T1 * (9/5)) + 32\n",
    "print(f\"{T1} degree Celsius is {int(T2)} degree Fahrenheit\")"
   ]
  },
  {
   "cell_type": "markdown",
   "id": "a2fff235",
   "metadata": {},
   "source": [
    "Q3. Write a Python program to display calendar?"
   ]
  },
  {
   "cell_type": "code",
   "execution_count": 24,
   "id": "98101d0d",
   "metadata": {},
   "outputs": [
    {
     "name": "stdout",
     "output_type": "stream",
     "text": [
      "Enter year: 2022\n",
      "Enter month: 10\n",
      "    October 2022\n",
      "Mo Tu We Th Fr Sa Su\n",
      "                1  2\n",
      " 3  4  5  6  7  8  9\n",
      "10 11 12 13 14 15 16\n",
      "17 18 19 20 21 22 23\n",
      "24 25 26 27 28 29 30\n",
      "31\n",
      "\n"
     ]
    }
   ],
   "source": [
    "#Ans of Q3\n",
    "import calendar\n",
    "\n",
    "yyyy = int(input(\"Enter year: \"))  \n",
    "mm = int(input(\"Enter month: \")) \n",
    "print(calendar.month(yyyy, mmm))"
   ]
  },
  {
   "cell_type": "markdown",
   "id": "de11aa54",
   "metadata": {},
   "source": [
    "Q4. Write a Python program to solve quadratic equation?"
   ]
  },
  {
   "cell_type": "code",
   "execution_count": 29,
   "id": "927140e9",
   "metadata": {},
   "outputs": [
    {
     "name": "stdout",
     "output_type": "stream",
     "text": [
      "The solution are (-0.1-0.8306623862918074j) and (-0.1+0.8306623862918074j)\n"
     ]
    }
   ],
   "source": [
    "#Ans of Q4\n",
    "#quadratic equation ax**2 + bx + c = 0\n",
    "\n",
    "import cmath\n",
    "\n",
    "a = 10\n",
    "b = 2\n",
    "c = 7\n",
    "\n",
    "# calculate the discriminant(D)\n",
    "D = (b**2) - (4*a*c)\n",
    "\n",
    "# find two solutions\n",
    "sol1 = (-b-cmath.sqrt(d))/(2*a)\n",
    "sol2 = (-b+cmath.sqrt(d))/(2*a)\n",
    "\n",
    "print('The solution are {0} and {1}'.format(sol1,sol2))"
   ]
  },
  {
   "cell_type": "markdown",
   "id": "2bf15de4",
   "metadata": {},
   "source": [
    "Q5. Write a Python program to swap two variables without temp variable?"
   ]
  },
  {
   "cell_type": "code",
   "execution_count": 32,
   "id": "3867b08a",
   "metadata": {},
   "outputs": [
    {
     "name": "stdout",
     "output_type": "stream",
     "text": [
      "Original Variable :\n",
      "aman amit\n",
      "After swaping Variable :\n",
      "amit aman\n"
     ]
    }
   ],
   "source": [
    "#Ans of Q5\n",
    "a = \"aman\"\n",
    "b = \"amit\"\n",
    "\n",
    "print(\"Original Variable :\")\n",
    "print(a,b)\n",
    "\n",
    "a,b=b,a\n",
    "print(\"After swaping Variable :\")\n",
    "print(a,b)"
   ]
  }
 ],
 "metadata": {
  "kernelspec": {
   "display_name": "Python 3 (ipykernel)",
   "language": "python",
   "name": "python3"
  },
  "language_info": {
   "codemirror_mode": {
    "name": "ipython",
    "version": 3
   },
   "file_extension": ".py",
   "mimetype": "text/x-python",
   "name": "python",
   "nbconvert_exporter": "python",
   "pygments_lexer": "ipython3",
   "version": "3.9.13"
  }
 },
 "nbformat": 4,
 "nbformat_minor": 5
}
